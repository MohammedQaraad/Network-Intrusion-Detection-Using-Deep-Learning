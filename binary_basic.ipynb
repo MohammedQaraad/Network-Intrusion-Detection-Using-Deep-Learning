{
 "cells": [
  {
   "cell_type": "code",
   "execution_count": 1,
   "metadata": {},
   "outputs": [
    {
     "name": "stderr",
     "output_type": "stream",
     "text": [
      "Using TensorFlow backend.\n"
     ]
    }
   ],
   "source": [
    "# first neural network with keras tutorial\n",
    "from numpy import loadtxt\n",
    "from keras.models import Sequential\n",
    "from keras.layers import Dense\n",
    "import pandas as pd\n",
    "\n",
    "file=\"basic\"\n",
    "traindir=\"datasets/binary_train\"\n",
    "testdir=\"datasets/binary_test\"\n"
   ]
  },
  {
   "cell_type": "code",
   "execution_count": 2,
   "metadata": {},
   "outputs": [
    {
     "data": {
      "text/plain": [
       "12"
      ]
     },
     "execution_count": 2,
     "metadata": {},
     "output_type": "execute_result"
    }
   ],
   "source": [
    "# load the dataset\n",
    "traindata = pd.read_csv(f\"{traindir}/processed/{file}.csv\")\n",
    "testdata = pd.read_csv(f\"{testdir}/processed/{file}.csv\")\n",
    "n=len(traindata.count())\n",
    "n"
   ]
  },
  {
   "cell_type": "code",
   "execution_count": 3,
   "metadata": {},
   "outputs": [],
   "source": [
    "# split into input (X) and output (y) variables\n",
    "X = traindata.iloc[:,0:n-1]\n",
    "y = traindata.iloc[:,n-1]\n",
    "X_test = testdata.iloc[:,0:n-1]\n",
    "y_test = testdata.iloc[:,n-1]"
   ]
  },
  {
   "cell_type": "code",
   "execution_count": 4,
   "metadata": {},
   "outputs": [],
   "source": [
    "# define the keras model\n",
    "model = Sequential()\n",
    "model.add(Dense(64, input_dim=n-1, activation='relu'))\n",
    "model.add(Dense(36, activation='relu'))\n",
    "model.add(Dense(24, activation='relu'))\n",
    "model.add(Dense(1, activation='sigmoid'))"
   ]
  },
  {
   "cell_type": "code",
   "execution_count": 5,
   "metadata": {},
   "outputs": [],
   "source": [
    "\n",
    "# compile the keras model\n",
    "\n",
    "model.compile(loss='binary_crossentropy', optimizer='adam', metrics=['accuracy'])"
   ]
  },
  {
   "cell_type": "code",
   "execution_count": 6,
   "metadata": {},
   "outputs": [
    {
     "name": "stdout",
     "output_type": "stream",
     "text": [
      "Train on 100778 samples, validate on 25195 samples\n",
      "Epoch 1/100\n",
      "100778/100778 [==============================] - 0s 4us/step - loss: 0.6589 - accuracy: 0.6278 - val_loss: 0.6156 - val_accuracy: 0.8650\n",
      "Epoch 2/100\n",
      "100778/100778 [==============================] - 0s 2us/step - loss: 0.5722 - accuracy: 0.8630 - val_loss: 0.5185 - val_accuracy: 0.8674\n",
      "Epoch 3/100\n",
      "100778/100778 [==============================] - 0s 2us/step - loss: 0.4693 - accuracy: 0.8884 - val_loss: 0.4109 - val_accuracy: 0.9233\n",
      "Epoch 4/100\n",
      "100778/100778 [==============================] - 0s 2us/step - loss: 0.3725 - accuracy: 0.9265 - val_loss: 0.3370 - val_accuracy: 0.9283\n",
      "Epoch 5/100\n",
      "100778/100778 [==============================] - 0s 2us/step - loss: 0.3187 - accuracy: 0.9278 - val_loss: 0.3023 - val_accuracy: 0.9282\n",
      "Epoch 6/100\n",
      "100778/100778 [==============================] - 0s 2us/step - loss: 0.2914 - accuracy: 0.9278 - val_loss: 0.2820 - val_accuracy: 0.9329\n",
      "Epoch 7/100\n",
      "100778/100778 [==============================] - 0s 2us/step - loss: 0.2748 - accuracy: 0.9327 - val_loss: 0.2681 - val_accuracy: 0.9330\n",
      "Epoch 8/100\n",
      "100778/100778 [==============================] - 0s 2us/step - loss: 0.2624 - accuracy: 0.9327 - val_loss: 0.2569 - val_accuracy: 0.9331\n",
      "Epoch 9/100\n",
      "100778/100778 [==============================] - 0s 4us/step - loss: 0.2509 - accuracy: 0.9328 - val_loss: 0.2447 - val_accuracy: 0.9331\n",
      "Epoch 10/100\n",
      "100778/100778 [==============================] - 0s 2us/step - loss: 0.2382 - accuracy: 0.9328 - val_loss: 0.2309 - val_accuracy: 0.9331\n",
      "Epoch 11/100\n",
      "100778/100778 [==============================] - 0s 2us/step - loss: 0.2247 - accuracy: 0.9328 - val_loss: 0.2170 - val_accuracy: 0.9330\n",
      "Epoch 12/100\n",
      "100778/100778 [==============================] - 0s 2us/step - loss: 0.2107 - accuracy: 0.9328 - val_loss: 0.2032 - val_accuracy: 0.9330\n",
      "Epoch 13/100\n",
      "100778/100778 [==============================] - 0s 2us/step - loss: 0.1975 - accuracy: 0.9328 - val_loss: 0.1895 - val_accuracy: 0.9330\n",
      "Epoch 14/100\n",
      "100778/100778 [==============================] - 0s 2us/step - loss: 0.1860 - accuracy: 0.9327 - val_loss: 0.1798 - val_accuracy: 0.9330\n",
      "Epoch 15/100\n",
      "100778/100778 [==============================] - 0s 2us/step - loss: 0.1783 - accuracy: 0.9344 - val_loss: 0.1734 - val_accuracy: 0.9521\n",
      "Epoch 16/100\n",
      "100778/100778 [==============================] - 0s 2us/step - loss: 0.1733 - accuracy: 0.9509 - val_loss: 0.1691 - val_accuracy: 0.9512\n",
      "Epoch 17/100\n",
      "100778/100778 [==============================] - 0s 3us/step - loss: 0.1703 - accuracy: 0.9505 - val_loss: 0.1661 - val_accuracy: 0.9529\n",
      "Epoch 18/100\n",
      "100778/100778 [==============================] - 0s 2us/step - loss: 0.1683 - accuracy: 0.9513 - val_loss: 0.1646 - val_accuracy: 0.9529\n",
      "Epoch 19/100\n",
      "100778/100778 [==============================] - 0s 3us/step - loss: 0.1663 - accuracy: 0.9509 - val_loss: 0.1623 - val_accuracy: 0.9529\n",
      "Epoch 20/100\n",
      "100778/100778 [==============================] - 0s 3us/step - loss: 0.1650 - accuracy: 0.9510 - val_loss: 0.1611 - val_accuracy: 0.9530\n",
      "Epoch 21/100\n",
      "100778/100778 [==============================] - 0s 2us/step - loss: 0.1639 - accuracy: 0.9516 - val_loss: 0.1600 - val_accuracy: 0.9523\n",
      "Epoch 22/100\n",
      "100778/100778 [==============================] - 0s 2us/step - loss: 0.1629 - accuracy: 0.9514 - val_loss: 0.1591 - val_accuracy: 0.9531\n",
      "Epoch 23/100\n",
      "100778/100778 [==============================] - 0s 2us/step - loss: 0.1621 - accuracy: 0.9515 - val_loss: 0.1579 - val_accuracy: 0.9535\n",
      "Epoch 24/100\n",
      "100778/100778 [==============================] - 0s 2us/step - loss: 0.1615 - accuracy: 0.9522 - val_loss: 0.1571 - val_accuracy: 0.9528\n",
      "Epoch 25/100\n",
      "100778/100778 [==============================] - 0s 2us/step - loss: 0.1609 - accuracy: 0.9517 - val_loss: 0.1567 - val_accuracy: 0.9529\n",
      "Epoch 26/100\n",
      "100778/100778 [==============================] - 0s 2us/step - loss: 0.1596 - accuracy: 0.9521 - val_loss: 0.1562 - val_accuracy: 0.9537\n",
      "Epoch 27/100\n",
      "100778/100778 [==============================] - 0s 2us/step - loss: 0.1592 - accuracy: 0.9520 - val_loss: 0.1556 - val_accuracy: 0.9530\n",
      "Epoch 28/100\n",
      "100778/100778 [==============================] - 0s 2us/step - loss: 0.1585 - accuracy: 0.9523 - val_loss: 0.1547 - val_accuracy: 0.9530\n",
      "Epoch 29/100\n",
      "100778/100778 [==============================] - 0s 2us/step - loss: 0.1581 - accuracy: 0.9525 - val_loss: 0.1541 - val_accuracy: 0.9530\n",
      "Epoch 30/100\n",
      "100778/100778 [==============================] - 0s 2us/step - loss: 0.1577 - accuracy: 0.9527 - val_loss: 0.1539 - val_accuracy: 0.9537\n",
      "Epoch 31/100\n",
      "100778/100778 [==============================] - 0s 2us/step - loss: 0.1571 - accuracy: 0.9526 - val_loss: 0.1526 - val_accuracy: 0.9537\n",
      "Epoch 32/100\n",
      "100778/100778 [==============================] - 0s 2us/step - loss: 0.1562 - accuracy: 0.9528 - val_loss: 0.1527 - val_accuracy: 0.9537\n",
      "Epoch 33/100\n",
      "100778/100778 [==============================] - 0s 2us/step - loss: 0.1557 - accuracy: 0.9530 - val_loss: 0.1515 - val_accuracy: 0.9538\n",
      "Epoch 34/100\n",
      "100778/100778 [==============================] - 0s 2us/step - loss: 0.1546 - accuracy: 0.9530 - val_loss: 0.1505 - val_accuracy: 0.9538\n",
      "Epoch 35/100\n",
      "100778/100778 [==============================] - 0s 2us/step - loss: 0.1538 - accuracy: 0.9535 - val_loss: 0.1504 - val_accuracy: 0.9540\n",
      "Epoch 36/100\n",
      "100778/100778 [==============================] - 0s 2us/step - loss: 0.1532 - accuracy: 0.9535 - val_loss: 0.1508 - val_accuracy: 0.9555\n",
      "Epoch 37/100\n",
      "100778/100778 [==============================] - 0s 2us/step - loss: 0.1525 - accuracy: 0.9541 - val_loss: 0.1484 - val_accuracy: 0.9557\n",
      "Epoch 38/100\n",
      "100778/100778 [==============================] - 0s 2us/step - loss: 0.1516 - accuracy: 0.9543 - val_loss: 0.1478 - val_accuracy: 0.9557\n",
      "Epoch 39/100\n",
      "100778/100778 [==============================] - 0s 2us/step - loss: 0.1508 - accuracy: 0.9543 - val_loss: 0.1472 - val_accuracy: 0.9557\n",
      "Epoch 40/100\n",
      "100778/100778 [==============================] - 0s 2us/step - loss: 0.1500 - accuracy: 0.9545 - val_loss: 0.1464 - val_accuracy: 0.9557\n",
      "Epoch 41/100\n",
      "100778/100778 [==============================] - 0s 2us/step - loss: 0.1495 - accuracy: 0.9544 - val_loss: 0.1465 - val_accuracy: 0.9565\n",
      "Epoch 42/100\n",
      "100778/100778 [==============================] - 0s 2us/step - loss: 0.1496 - accuracy: 0.9544 - val_loss: 0.1459 - val_accuracy: 0.9557\n",
      "Epoch 43/100\n",
      "100778/100778 [==============================] - 0s 2us/step - loss: 0.1488 - accuracy: 0.9547 - val_loss: 0.1452 - val_accuracy: 0.9557\n",
      "Epoch 44/100\n",
      "100778/100778 [==============================] - 0s 2us/step - loss: 0.1483 - accuracy: 0.9542 - val_loss: 0.1456 - val_accuracy: 0.9570\n",
      "Epoch 45/100\n",
      "100778/100778 [==============================] - 0s 2us/step - loss: 0.1478 - accuracy: 0.9545 - val_loss: 0.1434 - val_accuracy: 0.9557\n",
      "Epoch 46/100\n",
      "100778/100778 [==============================] - 0s 2us/step - loss: 0.1463 - accuracy: 0.9552 - val_loss: 0.1427 - val_accuracy: 0.9563\n",
      "Epoch 47/100\n",
      "100778/100778 [==============================] - 0s 2us/step - loss: 0.1457 - accuracy: 0.9554 - val_loss: 0.1422 - val_accuracy: 0.9571\n",
      "Epoch 48/100\n",
      "100778/100778 [==============================] - 0s 2us/step - loss: 0.1451 - accuracy: 0.9557 - val_loss: 0.1421 - val_accuracy: 0.9571\n",
      "Epoch 49/100\n",
      "100778/100778 [==============================] - 0s 2us/step - loss: 0.1446 - accuracy: 0.9561 - val_loss: 0.1411 - val_accuracy: 0.9576\n",
      "Epoch 50/100\n",
      "100778/100778 [==============================] - 0s 2us/step - loss: 0.1441 - accuracy: 0.9569 - val_loss: 0.1407 - val_accuracy: 0.9576\n",
      "Epoch 51/100\n",
      "100778/100778 [==============================] - 0s 2us/step - loss: 0.1433 - accuracy: 0.9568 - val_loss: 0.1407 - val_accuracy: 0.9550\n",
      "Epoch 52/100\n",
      "100778/100778 [==============================] - 0s 2us/step - loss: 0.1431 - accuracy: 0.9563 - val_loss: 0.1396 - val_accuracy: 0.9584\n",
      "Epoch 53/100\n",
      "100778/100778 [==============================] - 0s 2us/step - loss: 0.1425 - accuracy: 0.9567 - val_loss: 0.1398 - val_accuracy: 0.9575\n",
      "Epoch 54/100\n",
      "100778/100778 [==============================] - 0s 2us/step - loss: 0.1422 - accuracy: 0.9563 - val_loss: 0.1414 - val_accuracy: 0.9542\n",
      "Epoch 55/100\n"
     ]
    },
    {
     "name": "stdout",
     "output_type": "stream",
     "text": [
      "100778/100778 [==============================] - 0s 2us/step - loss: 0.1429 - accuracy: 0.9557 - val_loss: 0.1385 - val_accuracy: 0.9584\n",
      "Epoch 56/100\n",
      "100778/100778 [==============================] - 0s 2us/step - loss: 0.1409 - accuracy: 0.9570 - val_loss: 0.1383 - val_accuracy: 0.9584\n",
      "Epoch 57/100\n",
      "100778/100778 [==============================] - 0s 3us/step - loss: 0.1406 - accuracy: 0.9567 - val_loss: 0.1380 - val_accuracy: 0.9584\n",
      "Epoch 58/100\n",
      "100778/100778 [==============================] - 0s 2us/step - loss: 0.1402 - accuracy: 0.9568 - val_loss: 0.1373 - val_accuracy: 0.9584\n",
      "Epoch 59/100\n",
      "100778/100778 [==============================] - 0s 2us/step - loss: 0.1403 - accuracy: 0.9566 - val_loss: 0.1372 - val_accuracy: 0.9551\n",
      "Epoch 60/100\n",
      "100778/100778 [==============================] - 0s 2us/step - loss: 0.1391 - accuracy: 0.9569 - val_loss: 0.1362 - val_accuracy: 0.9585\n",
      "Epoch 61/100\n",
      "100778/100778 [==============================] - 0s 2us/step - loss: 0.1387 - accuracy: 0.9573 - val_loss: 0.1361 - val_accuracy: 0.9585\n",
      "Epoch 62/100\n",
      "100778/100778 [==============================] - 0s 2us/step - loss: 0.1383 - accuracy: 0.9573 - val_loss: 0.1371 - val_accuracy: 0.9594\n",
      "Epoch 63/100\n",
      "100778/100778 [==============================] - 0s 2us/step - loss: 0.1382 - accuracy: 0.9570 - val_loss: 0.1362 - val_accuracy: 0.9585\n",
      "Epoch 64/100\n",
      "100778/100778 [==============================] - 0s 2us/step - loss: 0.1380 - accuracy: 0.9572 - val_loss: 0.1350 - val_accuracy: 0.9585\n",
      "Epoch 65/100\n",
      "100778/100778 [==============================] - 0s 2us/step - loss: 0.1370 - accuracy: 0.9573 - val_loss: 0.1347 - val_accuracy: 0.9585\n",
      "Epoch 66/100\n",
      "100778/100778 [==============================] - 0s 2us/step - loss: 0.1372 - accuracy: 0.9567 - val_loss: 0.1341 - val_accuracy: 0.9585\n",
      "Epoch 67/100\n",
      "100778/100778 [==============================] - 0s 2us/step - loss: 0.1366 - accuracy: 0.9573 - val_loss: 0.1342 - val_accuracy: 0.9583\n",
      "Epoch 68/100\n",
      "100778/100778 [==============================] - 0s 2us/step - loss: 0.1364 - accuracy: 0.9571 - val_loss: 0.1359 - val_accuracy: 0.9587\n",
      "Epoch 69/100\n",
      "100778/100778 [==============================] - 0s 2us/step - loss: 0.1366 - accuracy: 0.9574 - val_loss: 0.1337 - val_accuracy: 0.9590\n",
      "Epoch 70/100\n",
      "100778/100778 [==============================] - 0s 2us/step - loss: 0.1353 - accuracy: 0.9577 - val_loss: 0.1337 - val_accuracy: 0.9592\n",
      "Epoch 71/100\n",
      "100778/100778 [==============================] - 0s 2us/step - loss: 0.1352 - accuracy: 0.9577 - val_loss: 0.1330 - val_accuracy: 0.9585\n",
      "Epoch 72/100\n",
      "100778/100778 [==============================] - 0s 2us/step - loss: 0.1349 - accuracy: 0.9581 - val_loss: 0.1329 - val_accuracy: 0.9587\n",
      "Epoch 73/100\n",
      "100778/100778 [==============================] - 0s 2us/step - loss: 0.1346 - accuracy: 0.9581 - val_loss: 0.1323 - val_accuracy: 0.9590\n",
      "Epoch 74/100\n",
      "100778/100778 [==============================] - 0s 2us/step - loss: 0.1343 - accuracy: 0.9581 - val_loss: 0.1327 - val_accuracy: 0.9594\n",
      "Epoch 75/100\n",
      "100778/100778 [==============================] - 0s 2us/step - loss: 0.1338 - accuracy: 0.9581 - val_loss: 0.1328 - val_accuracy: 0.9592\n",
      "Epoch 76/100\n",
      "100778/100778 [==============================] - 0s 2us/step - loss: 0.1342 - accuracy: 0.9584 - val_loss: 0.1319 - val_accuracy: 0.9602\n",
      "Epoch 77/100\n",
      "100778/100778 [==============================] - 0s 2us/step - loss: 0.1336 - accuracy: 0.9584 - val_loss: 0.1319 - val_accuracy: 0.9586\n",
      "Epoch 78/100\n",
      "100778/100778 [==============================] - 0s 2us/step - loss: 0.1335 - accuracy: 0.9584 - val_loss: 0.1335 - val_accuracy: 0.9562\n",
      "Epoch 79/100\n",
      "100778/100778 [==============================] - 0s 2us/step - loss: 0.1336 - accuracy: 0.9582 - val_loss: 0.1318 - val_accuracy: 0.9594\n",
      "Epoch 80/100\n",
      "100778/100778 [==============================] - 0s 2us/step - loss: 0.1329 - accuracy: 0.9588 - val_loss: 0.1319 - val_accuracy: 0.9594\n",
      "Epoch 81/100\n",
      "100778/100778 [==============================] - 0s 2us/step - loss: 0.1328 - accuracy: 0.9585 - val_loss: 0.1311 - val_accuracy: 0.9600\n",
      "Epoch 82/100\n",
      "100778/100778 [==============================] - 0s 2us/step - loss: 0.1326 - accuracy: 0.9585 - val_loss: 0.1304 - val_accuracy: 0.9602\n",
      "Epoch 83/100\n",
      "100778/100778 [==============================] - 0s 2us/step - loss: 0.1323 - accuracy: 0.9587 - val_loss: 0.1304 - val_accuracy: 0.9602\n",
      "Epoch 84/100\n",
      "100778/100778 [==============================] - 0s 2us/step - loss: 0.1320 - accuracy: 0.9589 - val_loss: 0.1304 - val_accuracy: 0.9602\n",
      "Epoch 85/100\n",
      "100778/100778 [==============================] - 0s 2us/step - loss: 0.1320 - accuracy: 0.9588 - val_loss: 0.1302 - val_accuracy: 0.9597\n",
      "Epoch 86/100\n",
      "100778/100778 [==============================] - 0s 2us/step - loss: 0.1317 - accuracy: 0.9590 - val_loss: 0.1295 - val_accuracy: 0.9602\n",
      "Epoch 87/100\n",
      "100778/100778 [==============================] - 0s 2us/step - loss: 0.1321 - accuracy: 0.9583 - val_loss: 0.1305 - val_accuracy: 0.9563\n",
      "Epoch 88/100\n",
      "100778/100778 [==============================] - 0s 2us/step - loss: 0.1319 - accuracy: 0.9589 - val_loss: 0.1295 - val_accuracy: 0.9598\n",
      "Epoch 89/100\n",
      "100778/100778 [==============================] - 0s 2us/step - loss: 0.1313 - accuracy: 0.9590 - val_loss: 0.1293 - val_accuracy: 0.9605\n",
      "Epoch 90/100\n",
      "100778/100778 [==============================] - 0s 2us/step - loss: 0.1320 - accuracy: 0.9589 - val_loss: 0.1291 - val_accuracy: 0.9606\n",
      "Epoch 91/100\n",
      "100778/100778 [==============================] - 0s 2us/step - loss: 0.1311 - accuracy: 0.9593 - val_loss: 0.1302 - val_accuracy: 0.9602\n",
      "Epoch 92/100\n",
      "100778/100778 [==============================] - 0s 2us/step - loss: 0.1314 - accuracy: 0.9590 - val_loss: 0.1293 - val_accuracy: 0.9564\n",
      "Epoch 93/100\n",
      "100778/100778 [==============================] - 0s 2us/step - loss: 0.1305 - accuracy: 0.9591 - val_loss: 0.1358 - val_accuracy: 0.9592\n",
      "Epoch 94/100\n",
      "100778/100778 [==============================] - 0s 2us/step - loss: 0.1323 - accuracy: 0.9577 - val_loss: 0.1284 - val_accuracy: 0.9607\n",
      "Epoch 95/100\n",
      "100778/100778 [==============================] - 0s 2us/step - loss: 0.1305 - accuracy: 0.9595 - val_loss: 0.1323 - val_accuracy: 0.9564\n",
      "Epoch 96/100\n",
      "100778/100778 [==============================] - 0s 2us/step - loss: 0.1305 - accuracy: 0.9591 - val_loss: 0.1298 - val_accuracy: 0.9563\n",
      "Epoch 97/100\n",
      "100778/100778 [==============================] - 0s 2us/step - loss: 0.1313 - accuracy: 0.9581 - val_loss: 0.1296 - val_accuracy: 0.9563\n",
      "Epoch 98/100\n",
      "100778/100778 [==============================] - 0s 2us/step - loss: 0.1303 - accuracy: 0.9595 - val_loss: 0.1280 - val_accuracy: 0.9607\n",
      "Epoch 99/100\n",
      "100778/100778 [==============================] - 0s 2us/step - loss: 0.1295 - accuracy: 0.9597 - val_loss: 0.1286 - val_accuracy: 0.9607\n",
      "Epoch 100/100\n",
      "100778/100778 [==============================] - 0s 2us/step - loss: 0.1312 - accuracy: 0.9592 - val_loss: 0.1278 - val_accuracy: 0.9597\n"
     ]
    }
   ],
   "source": [
    "\n",
    "# fit the keras model on the dataset\n",
    "history = model.fit(X, y, epochs=100, batch_size=5000,validation_split=0.2)\n"
   ]
  },
  {
   "cell_type": "code",
   "execution_count": 7,
   "metadata": {},
   "outputs": [
    {
     "name": "stdout",
     "output_type": "stream",
     "text": [
      "22542/22542 [==============================] - 0s 14us/step\n",
      "Accuracy: 22.82\n"
     ]
    }
   ],
   "source": [
    "\n",
    "# evaluate the keras model\n",
    "_, accuracy = model.evaluate(X_test, y_test)\n",
    "print('Accuracy: %.2f' % (accuracy*100))"
   ]
  },
  {
   "cell_type": "code",
   "execution_count": 8,
   "metadata": {},
   "outputs": [
    {
     "data": {
      "text/plain": [
       "array([[4070, 8762],\n",
       "       [8636, 1074]], dtype=int64)"
      ]
     },
     "execution_count": 8,
     "metadata": {},
     "output_type": "execute_result"
    }
   ],
   "source": [
    "from sklearn.metrics import confusion_matrix\n",
    "from sklearn.metrics import accuracy_score\n",
    "prediction=model.predict_classes(X_test)\n",
    "m=confusion_matrix(y_test,prediction)\n",
    "m"
   ]
  },
  {
   "cell_type": "code",
   "execution_count": 9,
   "metadata": {},
   "outputs": [
    {
     "data": {
      "image/png": "[encoded data removed]",
      "text/plain": [
       "<Figure size 432x288 with 1 Axes>"
      ]
     },
     "metadata": {
      "needs_background": "light"
     },
     "output_type": "display_data"
    }
   ],
   "source": [
    "import matplotlib.pyplot as plt\n",
    "plt.plot(history.history['accuracy'])\n",
    "plt.plot(history.history['val_accuracy'])\n",
    "plt.title('model accuracy')\n",
    "plt.ylabel('accuracy')\n",
    "plt.xlabel('epoch')\n",
    "plt.legend(['train', 'test'], loc='upper left')\n",
    "plt.show()"
   ]
  },
  {
   "cell_type": "code",
   "execution_count": 11,
   "metadata": {},
   "outputs": [
    {
     "name": "stdout",
     "output_type": "stream",
     "text": [
      "0.0\n"
     ]
    }
   ],
   "source": [
    "\n",
    "# make probability predictions with the model\n",
    "predictions = model.predict(X)\n",
    "# round predictions \n",
    "rounded = [round(x[0]) for x in predictions]\n",
    "print(rounded[1] )"
   ]
  },
  {
   "cell_type": "code",
   "execution_count": null,
   "metadata": {},
   "outputs": [],
   "source": []
  },
  {
   "cell_type": "code",
   "execution_count": null,
   "metadata": {},
   "outputs": [],
   "source": []
  },
  {
   "cell_type": "code",
   "execution_count": null,
   "metadata": {},
   "outputs": [],
   "source": []
  },
  {
   "cell_type": "code",
   "execution_count": null,
   "metadata": {},
   "outputs": [],
   "source": []
  }
 ],
 "metadata": {
  "kernelspec": {
   "display_name": "Python 3",
   "language": "python",
   "name": "python3"
  },
  "language_info": {
   "codemirror_mode": {
    "name": "ipython",
    "version": 3
   },
   "file_extension": ".py",
   "mimetype": "text/x-python",
   "name": "python",
   "nbconvert_exporter": "python",
   "pygments_lexer": "ipython3",
   "version": "3.8.2"
  }
 },
 "nbformat": 4,
 "nbformat_minor": 2
}
