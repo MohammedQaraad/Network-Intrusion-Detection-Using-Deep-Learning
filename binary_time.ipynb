{
 "cells": [
  {
   "cell_type": "code",
   "execution_count": 1,
   "metadata": {},
   "outputs": [
    {
     "name": "stderr",
     "output_type": "stream",
     "text": [
      "Using TensorFlow backend.\n"
     ]
    }
   ],
   "source": [
    "# first neural network with keras tutorial\n",
    "from numpy import loadtxt\n",
    "from keras.models import Sequential\n",
    "from keras.layers import Dense\n",
    "import pandas as pd\n",
    "\n",
    "file=\"time\"\n",
    "traindir=\"datasets/binary_train\"\n",
    "testdir=\"datasets/binary_test\"\n"
   ]
  },
  {
   "cell_type": "code",
   "execution_count": 2,
   "metadata": {},
   "outputs": [
    {
     "data": {
      "text/plain": [
       "10"
      ]
     },
     "execution_count": 2,
     "metadata": {},
     "output_type": "execute_result"
    }
   ],
   "source": [
    "# load the dataset\n",
    "traindata = pd.read_csv(f\"{traindir}/processed/{file}.csv\")\n",
    "testdata = pd.read_csv(f\"{testdir}/processed/{file}.csv\")\n",
    "n=len(traindata.count())\n",
    "n"
   ]
  },
  {
   "cell_type": "code",
   "execution_count": 3,
   "metadata": {},
   "outputs": [],
   "source": [
    "# split into input (X) and output (y) variables\n",
    "X = traindata.iloc[:,0:n-1]\n",
    "y = traindata.iloc[:,n-1]\n",
    "X_test = testdata.iloc[:,0:n-1]\n",
    "y_test = testdata.iloc[:,n-1]"
   ]
  },
  {
   "cell_type": "code",
   "execution_count": 4,
   "metadata": {},
   "outputs": [],
   "source": [
    "# define the keras model\n",
    "model = Sequential()\n",
    "model.add(Dense(64, input_dim=n-1, activation='relu'))\n",
    "model.add(Dense(36, activation='relu'))\n",
    "model.add(Dense(24, activation='relu'))\n",
    "model.add(Dense(1, activation='sigmoid'))"
   ]
  },
  {
   "cell_type": "code",
   "execution_count": 5,
   "metadata": {},
   "outputs": [],
   "source": [
    "\n",
    "# compile the keras model\n",
    "\n",
    "model.compile(loss='binary_crossentropy', optimizer='adam', metrics=['accuracy'])"
   ]
  },
  {
   "cell_type": "code",
   "execution_count": 6,
   "metadata": {},
   "outputs": [
    {
     "name": "stdout",
     "output_type": "stream",
     "text": [
      "Train on 100778 samples, validate on 25195 samples\n",
      "Epoch 1/100\n",
      "100778/100778 [==============================] - 0s 5us/step - loss: 0.9761 - accuracy: 0.7448 - val_loss: 0.4024 - val_accuracy: 0.8694\n",
      "Epoch 2/100\n",
      "100778/100778 [==============================] - 0s 2us/step - loss: 0.3991 - accuracy: 0.8751 - val_loss: 0.3651 - val_accuracy: 0.8840\n",
      "Epoch 3/100\n",
      "100778/100778 [==============================] - 0s 2us/step - loss: 0.3496 - accuracy: 0.8797 - val_loss: 0.3279 - val_accuracy: 0.8810\n",
      "Epoch 4/100\n",
      "100778/100778 [==============================] - 0s 2us/step - loss: 0.3134 - accuracy: 0.8873 - val_loss: 0.2975 - val_accuracy: 0.8975\n",
      "Epoch 5/100\n",
      "100778/100778 [==============================] - 0s 2us/step - loss: 0.2867 - accuracy: 0.8985 - val_loss: 0.2745 - val_accuracy: 0.9004\n",
      "Epoch 6/100\n",
      "100778/100778 [==============================] - 0s 2us/step - loss: 0.2628 - accuracy: 0.9065 - val_loss: 0.2627 - val_accuracy: 0.8946\n",
      "Epoch 7/100\n",
      "100778/100778 [==============================] - 0s 3us/step - loss: 0.2601 - accuracy: 0.9002 - val_loss: 0.2583 - val_accuracy: 0.8951\n",
      "Epoch 8/100\n",
      "100778/100778 [==============================] - 0s 3us/step - loss: 0.2404 - accuracy: 0.9110 - val_loss: 0.2320 - val_accuracy: 0.9172\n",
      "Epoch 9/100\n",
      "100778/100778 [==============================] - 0s 2us/step - loss: 0.2260 - accuracy: 0.9219 - val_loss: 0.2231 - val_accuracy: 0.9212\n",
      "Epoch 10/100\n",
      "100778/100778 [==============================] - 0s 2us/step - loss: 0.2288 - accuracy: 0.9176 - val_loss: 0.2190 - val_accuracy: 0.9255\n",
      "Epoch 11/100\n",
      "100778/100778 [==============================] - 0s 3us/step - loss: 0.2233 - accuracy: 0.9199 - val_loss: 0.2226 - val_accuracy: 0.9149\n",
      "Epoch 12/100\n",
      "100778/100778 [==============================] - 0s 2us/step - loss: 0.2135 - accuracy: 0.9241 - val_loss: 0.2120 - val_accuracy: 0.9245\n",
      "Epoch 13/100\n",
      "100778/100778 [==============================] - 0s 2us/step - loss: 0.2080 - accuracy: 0.9277 - val_loss: 0.2086 - val_accuracy: 0.9262\n",
      "Epoch 14/100\n",
      "100778/100778 [==============================] - 0s 3us/step - loss: 0.2056 - accuracy: 0.9281 - val_loss: 0.2298 - val_accuracy: 0.9188\n",
      "Epoch 15/100\n",
      "100778/100778 [==============================] - 0s 2us/step - loss: 0.2113 - accuracy: 0.9237 - val_loss: 0.2141 - val_accuracy: 0.9202\n",
      "Epoch 16/100\n",
      "100778/100778 [==============================] - 0s 2us/step - loss: 0.2070 - accuracy: 0.9245 - val_loss: 0.2038 - val_accuracy: 0.9265\n",
      "Epoch 17/100\n",
      "100778/100778 [==============================] - 0s 2us/step - loss: 0.2001 - accuracy: 0.9287 - val_loss: 0.1998 - val_accuracy: 0.9313\n",
      "Epoch 18/100\n",
      "100778/100778 [==============================] - 0s 2us/step - loss: 0.1971 - accuracy: 0.9301 - val_loss: 0.2017 - val_accuracy: 0.9270\n",
      "Epoch 19/100\n",
      "100778/100778 [==============================] - 0s 2us/step - loss: 0.1964 - accuracy: 0.9297 - val_loss: 0.1970 - val_accuracy: 0.9298\n",
      "Epoch 20/100\n",
      "100778/100778 [==============================] - 0s 2us/step - loss: 0.1951 - accuracy: 0.9293 - val_loss: 0.2051 - val_accuracy: 0.9222\n",
      "Epoch 21/100\n",
      "100778/100778 [==============================] - 0s 2us/step - loss: 0.1958 - accuracy: 0.9284 - val_loss: 0.1949 - val_accuracy: 0.9308\n",
      "Epoch 22/100\n",
      "100778/100778 [==============================] - 0s 2us/step - loss: 0.1960 - accuracy: 0.9286 - val_loss: 0.2367 - val_accuracy: 0.9134\n",
      "Epoch 23/100\n",
      "100778/100778 [==============================] - 0s 2us/step - loss: 0.2063 - accuracy: 0.9216 - val_loss: 0.2041 - val_accuracy: 0.9202\n",
      "Epoch 24/100\n",
      "100778/100778 [==============================] - 0s 2us/step - loss: 0.1926 - accuracy: 0.9299 - val_loss: 0.1964 - val_accuracy: 0.9260\n",
      "Epoch 25/100\n",
      "100778/100778 [==============================] - 0s 2us/step - loss: 0.1928 - accuracy: 0.9290 - val_loss: 0.1924 - val_accuracy: 0.9324\n",
      "Epoch 26/100\n",
      "100778/100778 [==============================] - 0s 2us/step - loss: 0.1912 - accuracy: 0.9295 - val_loss: 0.1908 - val_accuracy: 0.9325\n",
      "Epoch 27/100\n",
      "100778/100778 [==============================] - 0s 2us/step - loss: 0.1887 - accuracy: 0.9310 - val_loss: 0.1901 - val_accuracy: 0.9322\n",
      "Epoch 28/100\n",
      "100778/100778 [==============================] - 0s 2us/step - loss: 0.1885 - accuracy: 0.9306 - val_loss: 0.1902 - val_accuracy: 0.9325\n",
      "Epoch 29/100\n",
      "100778/100778 [==============================] - 0s 2us/step - loss: 0.1882 - accuracy: 0.9304 - val_loss: 0.1907 - val_accuracy: 0.9286\n",
      "Epoch 30/100\n",
      "100778/100778 [==============================] - 0s 3us/step - loss: 0.1880 - accuracy: 0.9298 - val_loss: 0.1883 - val_accuracy: 0.9321\n",
      "Epoch 31/100\n",
      "100778/100778 [==============================] - 0s 3us/step - loss: 0.1935 - accuracy: 0.9254 - val_loss: 0.1892 - val_accuracy: 0.9304\n",
      "Epoch 32/100\n",
      "100778/100778 [==============================] - 0s 3us/step - loss: 0.1868 - accuracy: 0.9315 - val_loss: 0.1894 - val_accuracy: 0.9289\n",
      "Epoch 33/100\n",
      "100778/100778 [==============================] - 0s 3us/step - loss: 0.1878 - accuracy: 0.9294 - val_loss: 0.1984 - val_accuracy: 0.9220\n",
      "Epoch 34/100\n",
      "100778/100778 [==============================] - 0s 2us/step - loss: 0.1871 - accuracy: 0.9301 - val_loss: 0.1867 - val_accuracy: 0.9303\n",
      "Epoch 35/100\n",
      "100778/100778 [==============================] - 0s 2us/step - loss: 0.1883 - accuracy: 0.9288 - val_loss: 0.1919 - val_accuracy: 0.9313\n",
      "Epoch 36/100\n",
      "100778/100778 [==============================] - 0s 2us/step - loss: 0.1872 - accuracy: 0.9301 - val_loss: 0.1929 - val_accuracy: 0.9254\n",
      "Epoch 37/100\n",
      "100778/100778 [==============================] - 0s 2us/step - loss: 0.1921 - accuracy: 0.9268 - val_loss: 0.2015 - val_accuracy: 0.9201\n",
      "Epoch 38/100\n",
      "100778/100778 [==============================] - 0s 2us/step - loss: 0.1909 - accuracy: 0.9260 - val_loss: 0.1912 - val_accuracy: 0.9252\n",
      "Epoch 39/100\n",
      "100778/100778 [==============================] - 0s 2us/step - loss: 0.1911 - accuracy: 0.9264 - val_loss: 0.1968 - val_accuracy: 0.9212\n",
      "Epoch 40/100\n",
      "100778/100778 [==============================] - 0s 2us/step - loss: 0.1988 - accuracy: 0.9241 - val_loss: 0.2636 - val_accuracy: 0.9210\n",
      "Epoch 41/100\n",
      "100778/100778 [==============================] - 0s 2us/step - loss: 0.2211 - accuracy: 0.9190 - val_loss: 0.1863 - val_accuracy: 0.9330\n",
      "Epoch 42/100\n",
      "100778/100778 [==============================] - 0s 2us/step - loss: 0.1916 - accuracy: 0.9271 - val_loss: 0.1868 - val_accuracy: 0.9327\n",
      "Epoch 43/100\n",
      "100778/100778 [==============================] - 0s 2us/step - loss: 0.1851 - accuracy: 0.9310 - val_loss: 0.1841 - val_accuracy: 0.9324\n",
      "Epoch 44/100\n",
      "100778/100778 [==============================] - 0s 2us/step - loss: 0.1844 - accuracy: 0.9308 - val_loss: 0.1889 - val_accuracy: 0.9264\n",
      "Epoch 45/100\n",
      "100778/100778 [==============================] - 0s 2us/step - loss: 0.1851 - accuracy: 0.9305 - val_loss: 0.1872 - val_accuracy: 0.9324\n",
      "Epoch 46/100\n",
      "100778/100778 [==============================] - 0s 2us/step - loss: 0.1872 - accuracy: 0.9278 - val_loss: 0.1873 - val_accuracy: 0.9273\n",
      "Epoch 47/100\n",
      "100778/100778 [==============================] - 0s 2us/step - loss: 0.1843 - accuracy: 0.9295 - val_loss: 0.1848 - val_accuracy: 0.9325\n",
      "Epoch 48/100\n",
      "100778/100778 [==============================] - 0s 2us/step - loss: 0.1835 - accuracy: 0.9310 - val_loss: 0.1903 - val_accuracy: 0.9245\n",
      "Epoch 49/100\n",
      "100778/100778 [==============================] - 0s 2us/step - loss: 0.1830 - accuracy: 0.9311 - val_loss: 0.1896 - val_accuracy: 0.9247\n",
      "Epoch 50/100\n",
      "100778/100778 [==============================] - 0s 2us/step - loss: 0.1905 - accuracy: 0.9264 - val_loss: 0.1837 - val_accuracy: 0.9299\n",
      "Epoch 51/100\n",
      "100778/100778 [==============================] - 0s 2us/step - loss: 0.1828 - accuracy: 0.9313 - val_loss: 0.1836 - val_accuracy: 0.9322\n",
      "Epoch 52/100\n",
      "100778/100778 [==============================] - 0s 2us/step - loss: 0.1850 - accuracy: 0.9287 - val_loss: 0.1849 - val_accuracy: 0.9323\n",
      "Epoch 53/100\n",
      "100778/100778 [==============================] - 0s 2us/step - loss: 0.1820 - accuracy: 0.9317 - val_loss: 0.1839 - val_accuracy: 0.9328\n",
      "Epoch 54/100\n",
      "100778/100778 [==============================] - 0s 2us/step - loss: 0.1851 - accuracy: 0.9287 - val_loss: 0.2020 - val_accuracy: 0.9200\n",
      "Epoch 55/100\n"
     ]
    },
    {
     "name": "stdout",
     "output_type": "stream",
     "text": [
      "100778/100778 [==============================] - 0s 2us/step - loss: 0.1874 - accuracy: 0.9283 - val_loss: 0.1825 - val_accuracy: 0.9317\n",
      "Epoch 56/100\n",
      "100778/100778 [==============================] - 0s 2us/step - loss: 0.1837 - accuracy: 0.9301 - val_loss: 0.1864 - val_accuracy: 0.9271\n",
      "Epoch 57/100\n",
      "100778/100778 [==============================] - 0s 2us/step - loss: 0.1829 - accuracy: 0.9304 - val_loss: 0.1862 - val_accuracy: 0.9273\n",
      "Epoch 58/100\n",
      "100778/100778 [==============================] - 0s 2us/step - loss: 0.1811 - accuracy: 0.9322 - val_loss: 0.1826 - val_accuracy: 0.9325\n",
      "Epoch 59/100\n",
      "100778/100778 [==============================] - 0s 2us/step - loss: 0.1810 - accuracy: 0.9319 - val_loss: 0.1910 - val_accuracy: 0.9239\n",
      "Epoch 60/100\n",
      "100778/100778 [==============================] - 0s 2us/step - loss: 0.1906 - accuracy: 0.9261 - val_loss: 0.1821 - val_accuracy: 0.9310\n",
      "Epoch 61/100\n",
      "100778/100778 [==============================] - 0s 2us/step - loss: 0.1859 - accuracy: 0.9270 - val_loss: 0.2010 - val_accuracy: 0.9217\n",
      "Epoch 62/100\n",
      "100778/100778 [==============================] - 0s 2us/step - loss: 0.1902 - accuracy: 0.9255 - val_loss: 0.1879 - val_accuracy: 0.9313\n",
      "Epoch 63/100\n",
      "100778/100778 [==============================] - 0s 2us/step - loss: 0.1887 - accuracy: 0.9272 - val_loss: 0.1905 - val_accuracy: 0.9217\n",
      "Epoch 64/100\n",
      "100778/100778 [==============================] - 0s 2us/step - loss: 0.1867 - accuracy: 0.9276 - val_loss: 0.1831 - val_accuracy: 0.9313\n",
      "Epoch 65/100\n",
      "100778/100778 [==============================] - 0s 2us/step - loss: 0.1807 - accuracy: 0.9324 - val_loss: 0.1831 - val_accuracy: 0.9296\n",
      "Epoch 66/100\n",
      "100778/100778 [==============================] - 0s 2us/step - loss: 0.1845 - accuracy: 0.9289 - val_loss: 0.1810 - val_accuracy: 0.9322\n",
      "Epoch 67/100\n",
      "100778/100778 [==============================] - 0s 2us/step - loss: 0.1863 - accuracy: 0.9270 - val_loss: 0.1829 - val_accuracy: 0.9333\n",
      "Epoch 68/100\n",
      "100778/100778 [==============================] - 0s 2us/step - loss: 0.1865 - accuracy: 0.9280 - val_loss: 0.1813 - val_accuracy: 0.9325\n",
      "Epoch 69/100\n",
      "100778/100778 [==============================] - 0s 2us/step - loss: 0.1809 - accuracy: 0.9322 - val_loss: 0.1822 - val_accuracy: 0.9311\n",
      "Epoch 70/100\n",
      "100778/100778 [==============================] - 0s 2us/step - loss: 0.1821 - accuracy: 0.9304 - val_loss: 0.1859 - val_accuracy: 0.9270\n",
      "Epoch 71/100\n",
      "100778/100778 [==============================] - 0s 2us/step - loss: 0.1903 - accuracy: 0.9259 - val_loss: 0.1902 - val_accuracy: 0.9242\n",
      "Epoch 72/100\n",
      "100778/100778 [==============================] - 0s 2us/step - loss: 0.1806 - accuracy: 0.9311 - val_loss: 0.1817 - val_accuracy: 0.9328\n",
      "Epoch 73/100\n",
      "100778/100778 [==============================] - 0s 2us/step - loss: 0.1805 - accuracy: 0.9316 - val_loss: 0.1807 - val_accuracy: 0.9333\n",
      "Epoch 74/100\n",
      "100778/100778 [==============================] - 0s 3us/step - loss: 0.1804 - accuracy: 0.9316 - val_loss: 0.1861 - val_accuracy: 0.9267\n",
      "Epoch 75/100\n",
      "100778/100778 [==============================] - 0s 2us/step - loss: 0.1802 - accuracy: 0.9318 - val_loss: 0.1828 - val_accuracy: 0.9334\n",
      "Epoch 76/100\n",
      "100778/100778 [==============================] - 0s 2us/step - loss: 0.1795 - accuracy: 0.9323 - val_loss: 0.1814 - val_accuracy: 0.9307\n",
      "Epoch 77/100\n",
      "100778/100778 [==============================] - 0s 2us/step - loss: 0.1818 - accuracy: 0.9294 - val_loss: 0.1813 - val_accuracy: 0.9299\n",
      "Epoch 78/100\n",
      "100778/100778 [==============================] - 0s 2us/step - loss: 0.1865 - accuracy: 0.9269 - val_loss: 0.1810 - val_accuracy: 0.9311\n",
      "Epoch 79/100\n",
      "100778/100778 [==============================] - 0s 2us/step - loss: 0.1850 - accuracy: 0.9275 - val_loss: 0.1862 - val_accuracy: 0.9223\n",
      "Epoch 80/100\n",
      "100778/100778 [==============================] - 0s 2us/step - loss: 0.1830 - accuracy: 0.9281 - val_loss: 0.1798 - val_accuracy: 0.9336\n",
      "Epoch 81/100\n",
      "100778/100778 [==============================] - 0s 2us/step - loss: 0.1790 - accuracy: 0.9324 - val_loss: 0.1818 - val_accuracy: 0.9301\n",
      "Epoch 82/100\n",
      "100778/100778 [==============================] - 0s 4us/step - loss: 0.1796 - accuracy: 0.9318 - val_loss: 0.1845 - val_accuracy: 0.9324\n",
      "Epoch 83/100\n",
      "100778/100778 [==============================] - 0s 4us/step - loss: 0.1837 - accuracy: 0.9283 - val_loss: 0.1837 - val_accuracy: 0.9284\n",
      "Epoch 84/100\n",
      "100778/100778 [==============================] - 0s 3us/step - loss: 0.1866 - accuracy: 0.9272 - val_loss: 0.1859 - val_accuracy: 0.9311\n",
      "Epoch 85/100\n",
      "100778/100778 [==============================] - 0s 2us/step - loss: 0.1797 - accuracy: 0.9321 - val_loss: 0.1795 - val_accuracy: 0.9337\n",
      "Epoch 86/100\n",
      "100778/100778 [==============================] - 0s 2us/step - loss: 0.1788 - accuracy: 0.9325 - val_loss: 0.1797 - val_accuracy: 0.9336\n",
      "Epoch 87/100\n",
      "100778/100778 [==============================] - 0s 2us/step - loss: 0.1787 - accuracy: 0.9323 - val_loss: 0.1821 - val_accuracy: 0.9338\n",
      "Epoch 88/100\n",
      "100778/100778 [==============================] - 0s 2us/step - loss: 0.1793 - accuracy: 0.9320 - val_loss: 0.1836 - val_accuracy: 0.9284\n",
      "Epoch 89/100\n",
      "100778/100778 [==============================] - 0s 2us/step - loss: 0.1786 - accuracy: 0.9325 - val_loss: 0.1847 - val_accuracy: 0.9320\n",
      "Epoch 90/100\n",
      "100778/100778 [==============================] - 0s 3us/step - loss: 0.1791 - accuracy: 0.9316 - val_loss: 0.1793 - val_accuracy: 0.9340\n",
      "Epoch 91/100\n",
      "100778/100778 [==============================] - 0s 2us/step - loss: 0.1777 - accuracy: 0.9330 - val_loss: 0.1791 - val_accuracy: 0.9328\n",
      "Epoch 92/100\n",
      "100778/100778 [==============================] - 0s 2us/step - loss: 0.1779 - accuracy: 0.9329 - val_loss: 0.1787 - val_accuracy: 0.9334\n",
      "Epoch 93/100\n",
      "100778/100778 [==============================] - 0s 2us/step - loss: 0.1782 - accuracy: 0.9319 - val_loss: 0.1850 - val_accuracy: 0.9228\n",
      "Epoch 94/100\n",
      "100778/100778 [==============================] - 0s 2us/step - loss: 0.1820 - accuracy: 0.9282 - val_loss: 0.1893 - val_accuracy: 0.9240\n",
      "Epoch 95/100\n",
      "100778/100778 [==============================] - 0s 2us/step - loss: 0.1813 - accuracy: 0.9292 - val_loss: 0.1798 - val_accuracy: 0.9341\n",
      "Epoch 96/100\n",
      "100778/100778 [==============================] - 0s 2us/step - loss: 0.1781 - accuracy: 0.9326 - val_loss: 0.1810 - val_accuracy: 0.9330\n",
      "Epoch 97/100\n",
      "100778/100778 [==============================] - 0s 2us/step - loss: 0.1800 - accuracy: 0.9306 - val_loss: 0.1783 - val_accuracy: 0.9340\n",
      "Epoch 98/100\n",
      "100778/100778 [==============================] - 0s 2us/step - loss: 0.1772 - accuracy: 0.9328 - val_loss: 0.1797 - val_accuracy: 0.9323\n",
      "Epoch 99/100\n",
      "100778/100778 [==============================] - 0s 2us/step - loss: 0.1775 - accuracy: 0.9326 - val_loss: 0.1797 - val_accuracy: 0.9337\n",
      "Epoch 100/100\n",
      "100778/100778 [==============================] - 0s 2us/step - loss: 0.1775 - accuracy: 0.9327 - val_loss: 0.1788 - val_accuracy: 0.9342\n"
     ]
    }
   ],
   "source": [
    "\n",
    "# fit the keras model on the dataset\n",
    "history = model.fit(X, y, epochs=100, batch_size=5000,validation_split=0.2)\n"
   ]
  },
  {
   "cell_type": "code",
   "execution_count": 7,
   "metadata": {},
   "outputs": [
    {
     "name": "stdout",
     "output_type": "stream",
     "text": [
      "22542/22542 [==============================] - 0s 12us/step\n",
      "Accuracy: 73.17\n"
     ]
    }
   ],
   "source": [
    "\n",
    "# evaluate the keras model\n",
    "_, accuracy = model.evaluate(X_test, y_test)\n",
    "print('Accuracy: %.2f' % (accuracy*100))"
   ]
  },
  {
   "cell_type": "code",
   "execution_count": 8,
   "metadata": {},
   "outputs": [
    {
     "data": {
      "text/plain": [
       "array([[9185,  525],\n",
       "       [5524, 7308]], dtype=int64)"
      ]
     },
     "execution_count": 8,
     "metadata": {},
     "output_type": "execute_result"
    }
   ],
   "source": [
    "from sklearn.metrics import confusion_matrix\n",
    "from sklearn.metrics import accuracy_score\n",
    "prediction=model.predict_classes(X_test)\n",
    "m=confusion_matrix(y_test,prediction)\n",
    "m"
   ]
  },
  {
   "cell_type": "code",
   "execution_count": 9,
   "metadata": {},
   "outputs": [
    {
     "data": {
      "image/png": "[encoded data removed]",
      "text/plain": [
       "<Figure size 432x288 with 1 Axes>"
      ]
     },
     "metadata": {
      "needs_background": "light"
     },
     "output_type": "display_data"
    }
   ],
   "source": [
    "import matplotlib.pyplot as plt\n",
    "plt.plot(history.history['accuracy'])\n",
    "plt.plot(history.history['val_accuracy'])\n",
    "plt.title('model accuracy')\n",
    "plt.ylabel('accuracy')\n",
    "plt.xlabel('epoch')\n",
    "plt.legend(['train', 'test'], loc='upper left')\n",
    "plt.show()"
   ]
  },
  {
   "cell_type": "code",
   "execution_count": 10,
   "metadata": {},
   "outputs": [
    {
     "name": "stdout",
     "output_type": "stream",
     "text": [
      "0.0\n"
     ]
    }
   ],
   "source": [
    "\n",
    "# make probability predictions with the model\n",
    "predictions = model.predict(X)\n",
    "# round predictions \n",
    "rounded = [round(x[0]) for x in predictions]\n",
    "print(rounded[1] )"
   ]
  }
 ],
 "metadata": {
  "kernelspec": {
   "display_name": "Python 3",
   "language": "python",
   "name": "python3"
  },
  "language_info": {
   "codemirror_mode": {
    "name": "ipython",
    "version": 3
   },
   "file_extension": ".py",
   "mimetype": "text/x-python",
   "name": "python",
   "nbconvert_exporter": "python",
   "pygments_lexer": "ipython3",
   "version": "3.8.2"
  }
 },
 "nbformat": 4,
 "nbformat_minor": 2
}
