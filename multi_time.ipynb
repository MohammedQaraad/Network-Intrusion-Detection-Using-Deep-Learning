{
 "cells": [
  {
   "cell_type": "code",
   "execution_count": 1,
   "metadata": {},
   "outputs": [
    {
     "name": "stderr",
     "output_type": "stream",
     "text": [
      "Using TensorFlow backend.\n"
     ]
    },
    {
     "name": "stdout",
     "output_type": "stream",
     "text": [
      "no of attributes are 14\n"
     ]
    }
   ],
   "source": [
    "from __future__ import print_function\n",
    "from sklearn.model_selection import train_test_split\n",
    "import pandas as pd\n",
    "import numpy as np\n",
    "np.random.seed(1337)  # for reproducibility\n",
    "from keras.preprocessing import sequence\n",
    "from keras.utils import np_utils\n",
    "from keras.models import Sequential\n",
    "from keras.layers import Dense, Dropout, Activation, Embedding\n",
    "from keras.layers import LSTM, SimpleRNN, GRU\n",
    "from keras.datasets import imdb\n",
    "from keras.utils.np_utils import to_categorical\n",
    "from sklearn.metrics import (precision_score, recall_score,f1_score, accuracy_score,mean_squared_error,mean_absolute_error)\n",
    "from sklearn import metrics\n",
    "from sklearn.preprocessing import Normalizer\n",
    "import h5py\n",
    "from keras import callbacks\n",
    "from keras.callbacks import ModelCheckpoint, EarlyStopping, ReduceLROnPlateau, CSVLogger\n",
    "\n",
    "\n",
    "file=\"time\"\n",
    "traindir=\"datasets/multiclass_train\"\n",
    "testdir=\"datasets/multiclass_test\"\n",
    "\n",
    "traindata = pd.read_csv(f\"{traindir}/processed/{file}.csv\")\n",
    "testdata = pd.read_csv(f\"{testdir}/processed/{file}.csv\")\n",
    "testdata\n",
    "traindata\n",
    "n=len(traindata.count())\n",
    "print(f\"no of attributes are {n}\")"
   ]
  },
  {
   "cell_type": "code",
   "execution_count": 2,
   "metadata": {},
   "outputs": [
    {
     "data": {
      "text/plain": [
       "(125973, 5)"
      ]
     },
     "execution_count": 2,
     "metadata": {},
     "output_type": "execute_result"
    }
   ],
   "source": [
    "X = traindata.iloc[:,0:n-5]\n",
    "Y = traindata.iloc[:,n-5:n]\n",
    "C = testdata.iloc[:,0:n-5]\n",
    "T = testdata.iloc[:,n-5:n]\n",
    "Y.shape"
   ]
  },
  {
   "cell_type": "code",
   "execution_count": 3,
   "metadata": {},
   "outputs": [],
   "source": [
    "# 1. define the network\n",
    "model = Sequential()\n",
    "model.add(Dense(32,input_dim=n-5,activation='relu'))\n",
    "model.add(Dropout(0.01))\n",
    "model.add(Dense(24,activation='relu'))\n",
    "model.add(Dropout(0.01))\n",
    "model.add(Dense(5, activation='softmax'))"
   ]
  },
  {
   "cell_type": "code",
   "execution_count": 4,
   "metadata": {},
   "outputs": [
    {
     "name": "stdout",
     "output_type": "stream",
     "text": [
      "Train on 100778 samples, validate on 25195 samples\n",
      "Epoch 1/100\n",
      "100778/100778 [==============================] - 0s 4us/step - loss: 1.4103 - accuracy: 0.5706 - val_loss: 1.2314 - val_accuracy: 0.8539\n",
      "Epoch 2/100\n",
      "100778/100778 [==============================] - 0s 2us/step - loss: 1.0679 - accuracy: 0.8502 - val_loss: 0.8758 - val_accuracy: 0.8705\n",
      "Epoch 3/100\n",
      "100778/100778 [==============================] - 0s 2us/step - loss: 0.7324 - accuracy: 0.8651 - val_loss: 0.5915 - val_accuracy: 0.8593\n",
      "Epoch 4/100\n",
      "100778/100778 [==============================] - 0s 2us/step - loss: 0.5262 - accuracy: 0.8642 - val_loss: 0.4671 - val_accuracy: 0.8696\n",
      "Epoch 5/100\n",
      "100778/100778 [==============================] - 0s 3us/step - loss: 0.4398 - accuracy: 0.8706 - val_loss: 0.4113 - val_accuracy: 0.8719\n",
      "Epoch 6/100\n",
      "100778/100778 [==============================] - 0s 3us/step - loss: 0.3970 - accuracy: 0.8730 - val_loss: 0.3819 - val_accuracy: 0.8750\n",
      "Epoch 7/100\n",
      "100778/100778 [==============================] - 0s 3us/step - loss: 0.3740 - accuracy: 0.8771 - val_loss: 0.3660 - val_accuracy: 0.8786\n",
      "Epoch 8/100\n",
      "100778/100778 [==============================] - 0s 3us/step - loss: 0.3607 - accuracy: 0.8819 - val_loss: 0.3556 - val_accuracy: 0.8871\n",
      "Epoch 9/100\n",
      "100778/100778 [==============================] - 0s 2us/step - loss: 0.3514 - accuracy: 0.8872 - val_loss: 0.3466 - val_accuracy: 0.8877\n",
      "Epoch 10/100\n",
      "100778/100778 [==============================] - 0s 2us/step - loss: 0.3425 - accuracy: 0.8878 - val_loss: 0.3383 - val_accuracy: 0.8879\n",
      "Epoch 11/100\n",
      "100778/100778 [==============================] - 0s 2us/step - loss: 0.3346 - accuracy: 0.8886 - val_loss: 0.3317 - val_accuracy: 0.8880\n",
      "Epoch 12/100\n",
      "100778/100778 [==============================] - 0s 2us/step - loss: 0.3289 - accuracy: 0.8888 - val_loss: 0.3262 - val_accuracy: 0.8930\n",
      "Epoch 13/100\n",
      "100778/100778 [==============================] - 0s 2us/step - loss: 0.3233 - accuracy: 0.8931 - val_loss: 0.3209 - val_accuracy: 0.8937\n",
      "Epoch 14/100\n",
      "100778/100778 [==============================] - 0s 2us/step - loss: 0.3183 - accuracy: 0.8939 - val_loss: 0.3161 - val_accuracy: 0.8940\n",
      "Epoch 15/100\n",
      "100778/100778 [==============================] - 0s 3us/step - loss: 0.3137 - accuracy: 0.8946 - val_loss: 0.3118 - val_accuracy: 0.8947\n",
      "Epoch 16/100\n",
      "100778/100778 [==============================] - 0s 3us/step - loss: 0.3092 - accuracy: 0.8965 - val_loss: 0.3079 - val_accuracy: 0.9042\n",
      "Epoch 17/100\n",
      "100778/100778 [==============================] - 0s 2us/step - loss: 0.3062 - accuracy: 0.9018 - val_loss: 0.3043 - val_accuracy: 0.9037\n",
      "Epoch 18/100\n",
      "100778/100778 [==============================] - 0s 2us/step - loss: 0.3029 - accuracy: 0.9042 - val_loss: 0.3010 - val_accuracy: 0.9063\n",
      "Epoch 19/100\n",
      "100778/100778 [==============================] - 0s 2us/step - loss: 0.3000 - accuracy: 0.9066 - val_loss: 0.2974 - val_accuracy: 0.9088\n",
      "Epoch 20/100\n",
      "100778/100778 [==============================] - 0s 2us/step - loss: 0.2968 - accuracy: 0.9081 - val_loss: 0.2945 - val_accuracy: 0.9112\n",
      "Epoch 21/100\n",
      "100778/100778 [==============================] - 0s 2us/step - loss: 0.2938 - accuracy: 0.9102 - val_loss: 0.2919 - val_accuracy: 0.9083\n",
      "Epoch 22/100\n",
      "100778/100778 [==============================] - 0s 2us/step - loss: 0.2919 - accuracy: 0.9103 - val_loss: 0.2891 - val_accuracy: 0.9120\n",
      "Epoch 23/100\n",
      "100778/100778 [==============================] - 0s 2us/step - loss: 0.2892 - accuracy: 0.9114 - val_loss: 0.2869 - val_accuracy: 0.9129\n",
      "Epoch 24/100\n",
      "100778/100778 [==============================] - 0s 2us/step - loss: 0.2863 - accuracy: 0.9125 - val_loss: 0.2846 - val_accuracy: 0.9141\n",
      "Epoch 25/100\n",
      "100778/100778 [==============================] - 0s 3us/step - loss: 0.2841 - accuracy: 0.9127 - val_loss: 0.2825 - val_accuracy: 0.9140\n",
      "Epoch 26/100\n",
      "100778/100778 [==============================] - 0s 3us/step - loss: 0.2830 - accuracy: 0.9127 - val_loss: 0.2806 - val_accuracy: 0.9141\n",
      "Epoch 27/100\n",
      "100778/100778 [==============================] - 0s 2us/step - loss: 0.2804 - accuracy: 0.9141 - val_loss: 0.2785 - val_accuracy: 0.9142\n",
      "Epoch 28/100\n",
      "100778/100778 [==============================] - 0s 2us/step - loss: 0.2786 - accuracy: 0.9142 - val_loss: 0.2767 - val_accuracy: 0.9155\n",
      "Epoch 29/100\n",
      "100778/100778 [==============================] - 0s 3us/step - loss: 0.2768 - accuracy: 0.9155 - val_loss: 0.2751 - val_accuracy: 0.9147\n",
      "Epoch 30/100\n",
      "100778/100778 [==============================] - 0s 3us/step - loss: 0.2752 - accuracy: 0.9155 - val_loss: 0.2731 - val_accuracy: 0.9164\n",
      "Epoch 31/100\n",
      "100778/100778 [==============================] - 0s 3us/step - loss: 0.2747 - accuracy: 0.9161 - val_loss: 0.2719 - val_accuracy: 0.9076\n",
      "Epoch 32/100\n",
      "100778/100778 [==============================] - 0s 2us/step - loss: 0.2721 - accuracy: 0.9167 - val_loss: 0.2702 - val_accuracy: 0.9168\n",
      "Epoch 33/100\n",
      "100778/100778 [==============================] - 0s 2us/step - loss: 0.2708 - accuracy: 0.9175 - val_loss: 0.2686 - val_accuracy: 0.9176\n",
      "Epoch 34/100\n",
      "100778/100778 [==============================] - 0s 2us/step - loss: 0.2708 - accuracy: 0.9170 - val_loss: 0.2674 - val_accuracy: 0.9185\n",
      "Epoch 35/100\n",
      "100778/100778 [==============================] - 0s 2us/step - loss: 0.2688 - accuracy: 0.9181 - val_loss: 0.2659 - val_accuracy: 0.9180\n",
      "Epoch 36/100\n",
      "100778/100778 [==============================] - 0s 2us/step - loss: 0.2683 - accuracy: 0.9178 - val_loss: 0.2649 - val_accuracy: 0.9187\n",
      "Epoch 37/100\n",
      "100778/100778 [==============================] - 0s 2us/step - loss: 0.2663 - accuracy: 0.9189 - val_loss: 0.2636 - val_accuracy: 0.9193\n",
      "Epoch 38/100\n",
      "100778/100778 [==============================] - 0s 3us/step - loss: 0.2662 - accuracy: 0.9188 - val_loss: 0.2625 - val_accuracy: 0.9205\n",
      "Epoch 39/100\n",
      "100778/100778 [==============================] - 0s 3us/step - loss: 0.2643 - accuracy: 0.9186 - val_loss: 0.2617 - val_accuracy: 0.9181\n",
      "Epoch 40/100\n",
      "100778/100778 [==============================] - 0s 3us/step - loss: 0.2627 - accuracy: 0.9201 - val_loss: 0.2607 - val_accuracy: 0.9181\n",
      "Epoch 41/100\n",
      "100778/100778 [==============================] - 0s 3us/step - loss: 0.2624 - accuracy: 0.9191 - val_loss: 0.2593 - val_accuracy: 0.9197\n",
      "Epoch 42/100\n",
      "100778/100778 [==============================] - 0s 2us/step - loss: 0.2613 - accuracy: 0.9194 - val_loss: 0.2583 - val_accuracy: 0.9212\n",
      "Epoch 43/100\n",
      "100778/100778 [==============================] - 0s 2us/step - loss: 0.2605 - accuracy: 0.9197 - val_loss: 0.2576 - val_accuracy: 0.9219\n",
      "Epoch 44/100\n",
      "100778/100778 [==============================] - 0s 3us/step - loss: 0.2595 - accuracy: 0.9205 - val_loss: 0.2570 - val_accuracy: 0.9196\n",
      "Epoch 45/100\n",
      "100778/100778 [==============================] - 0s 3us/step - loss: 0.2590 - accuracy: 0.9200 - val_loss: 0.2557 - val_accuracy: 0.9213\n",
      "Epoch 46/100\n",
      "100778/100778 [==============================] - 0s 3us/step - loss: 0.2583 - accuracy: 0.9205 - val_loss: 0.2547 - val_accuracy: 0.9211\n",
      "Epoch 47/100\n",
      "100778/100778 [==============================] - 0s 3us/step - loss: 0.2571 - accuracy: 0.9204 - val_loss: 0.2538 - val_accuracy: 0.9215\n",
      "Epoch 48/100\n",
      "100778/100778 [==============================] - 0s 3us/step - loss: 0.2562 - accuracy: 0.9210 - val_loss: 0.2530 - val_accuracy: 0.9214\n",
      "Epoch 49/100\n",
      "100778/100778 [==============================] - 0s 2us/step - loss: 0.2560 - accuracy: 0.9212 - val_loss: 0.2522 - val_accuracy: 0.9220\n",
      "Epoch 50/100\n",
      "100778/100778 [==============================] - 0s 3us/step - loss: 0.2556 - accuracy: 0.9207 - val_loss: 0.2516 - val_accuracy: 0.9214\n",
      "Epoch 51/100\n",
      "100778/100778 [==============================] - 0s 3us/step - loss: 0.2546 - accuracy: 0.9210 - val_loss: 0.2508 - val_accuracy: 0.9215\n",
      "Epoch 52/100\n",
      "100778/100778 [==============================] - 0s 3us/step - loss: 0.2540 - accuracy: 0.9211 - val_loss: 0.2500 - val_accuracy: 0.9221\n",
      "Epoch 53/100\n",
      "100778/100778 [==============================] - 0s 3us/step - loss: 0.2532 - accuracy: 0.9205 - val_loss: 0.2495 - val_accuracy: 0.9208\n",
      "Epoch 54/100\n",
      "100778/100778 [==============================] - 0s 2us/step - loss: 0.2529 - accuracy: 0.9206 - val_loss: 0.2499 - val_accuracy: 0.9202\n",
      "Epoch 55/100\n",
      "100778/100778 [==============================] - 0s 2us/step - loss: 0.2523 - accuracy: 0.9213 - val_loss: 0.2483 - val_accuracy: 0.9230\n",
      "Epoch 56/100\n",
      "100778/100778 [==============================] - 0s 2us/step - loss: 0.2510 - accuracy: 0.9216 - val_loss: 0.2477 - val_accuracy: 0.9217\n",
      "Epoch 57/100\n",
      "100778/100778 [==============================] - 0s 2us/step - loss: 0.2507 - accuracy: 0.9217 - val_loss: 0.2472 - val_accuracy: 0.9222\n",
      "Epoch 58/100\n",
      "100778/100778 [==============================] - 0s 2us/step - loss: 0.2499 - accuracy: 0.9219 - val_loss: 0.2460 - val_accuracy: 0.9231\n",
      "Epoch 59/100\n",
      "100778/100778 [==============================] - 0s 2us/step - loss: 0.2499 - accuracy: 0.9216 - val_loss: 0.2455 - val_accuracy: 0.9223\n",
      "Epoch 60/100\n",
      "100778/100778 [==============================] - 0s 2us/step - loss: 0.2489 - accuracy: 0.9220 - val_loss: 0.2451 - val_accuracy: 0.9239\n",
      "Epoch 61/100\n",
      "100778/100778 [==============================] - 0s 2us/step - loss: 0.2482 - accuracy: 0.9219 - val_loss: 0.2444 - val_accuracy: 0.9225\n",
      "Epoch 62/100\n",
      "100778/100778 [==============================] - 0s 2us/step - loss: 0.2480 - accuracy: 0.9222 - val_loss: 0.2443 - val_accuracy: 0.9252\n",
      "Epoch 63/100\n",
      "100778/100778 [==============================] - 0s 2us/step - loss: 0.2476 - accuracy: 0.9223 - val_loss: 0.2435 - val_accuracy: 0.9228\n",
      "Epoch 64/100\n",
      "100778/100778 [==============================] - 0s 3us/step - loss: 0.2476 - accuracy: 0.9220 - val_loss: 0.2428 - val_accuracy: 0.9245\n",
      "Epoch 65/100\n",
      "100778/100778 [==============================] - 0s 2us/step - loss: 0.2460 - accuracy: 0.9224 - val_loss: 0.2425 - val_accuracy: 0.9239\n",
      "Epoch 66/100\n",
      "100778/100778 [==============================] - 0s 3us/step - loss: 0.2453 - accuracy: 0.9226 - val_loss: 0.2417 - val_accuracy: 0.9239\n",
      "Epoch 67/100\n",
      "100778/100778 [==============================] - 0s 2us/step - loss: 0.2458 - accuracy: 0.9219 - val_loss: 0.2412 - val_accuracy: 0.9238\n",
      "Epoch 68/100\n",
      "100778/100778 [==============================] - 0s 3us/step - loss: 0.2453 - accuracy: 0.9221 - val_loss: 0.2406 - val_accuracy: 0.9230\n",
      "Epoch 69/100\n",
      "100778/100778 [==============================] - 0s 3us/step - loss: 0.2445 - accuracy: 0.9223 - val_loss: 0.2415 - val_accuracy: 0.9240\n",
      "Epoch 70/100\n",
      "100778/100778 [==============================] - 0s 2us/step - loss: 0.2445 - accuracy: 0.9222 - val_loss: 0.2399 - val_accuracy: 0.9248\n",
      "Epoch 71/100\n",
      "100778/100778 [==============================] - 0s 3us/step - loss: 0.2432 - accuracy: 0.9229 - val_loss: 0.2392 - val_accuracy: 0.9234\n",
      "Epoch 72/100\n",
      "100778/100778 [==============================] - 0s 2us/step - loss: 0.2430 - accuracy: 0.9228 - val_loss: 0.2388 - val_accuracy: 0.9240\n",
      "Epoch 73/100\n",
      "100778/100778 [==============================] - 0s 2us/step - loss: 0.2422 - accuracy: 0.9229 - val_loss: 0.2378 - val_accuracy: 0.9250\n",
      "Epoch 74/100\n",
      "100778/100778 [==============================] - 0s 2us/step - loss: 0.2424 - accuracy: 0.9233 - val_loss: 0.2379 - val_accuracy: 0.9241\n",
      "Epoch 75/100\n",
      "100778/100778 [==============================] - 0s 2us/step - loss: 0.2415 - accuracy: 0.9237 - val_loss: 0.2370 - val_accuracy: 0.9250\n",
      "Epoch 76/100\n",
      "100778/100778 [==============================] - 0s 3us/step - loss: 0.2412 - accuracy: 0.9237 - val_loss: 0.2368 - val_accuracy: 0.9243\n",
      "Epoch 77/100\n",
      "100778/100778 [==============================] - 0s 2us/step - loss: 0.2410 - accuracy: 0.9236 - val_loss: 0.2363 - val_accuracy: 0.9251\n",
      "Epoch 78/100\n",
      "100778/100778 [==============================] - 0s 3us/step - loss: 0.2406 - accuracy: 0.9230 - val_loss: 0.2360 - val_accuracy: 0.9268\n",
      "Epoch 79/100\n",
      "100778/100778 [==============================] - 0s 3us/step - loss: 0.2399 - accuracy: 0.9236 - val_loss: 0.2354 - val_accuracy: 0.9252\n",
      "Epoch 80/100\n",
      "100778/100778 [==============================] - 0s 2us/step - loss: 0.2397 - accuracy: 0.9231 - val_loss: 0.2352 - val_accuracy: 0.9259\n",
      "Epoch 81/100\n",
      "100778/100778 [==============================] - 0s 3us/step - loss: 0.2386 - accuracy: 0.9243 - val_loss: 0.2345 - val_accuracy: 0.9252\n",
      "Epoch 82/100\n",
      "100778/100778 [==============================] - 0s 2us/step - loss: 0.2382 - accuracy: 0.9240 - val_loss: 0.2345 - val_accuracy: 0.9255\n",
      "Epoch 83/100\n",
      "100778/100778 [==============================] - 0s 3us/step - loss: 0.2387 - accuracy: 0.9235 - val_loss: 0.2336 - val_accuracy: 0.9252\n",
      "Epoch 84/100\n",
      "100778/100778 [==============================] - 0s 3us/step - loss: 0.2378 - accuracy: 0.9232 - val_loss: 0.2339 - val_accuracy: 0.9255\n",
      "Epoch 85/100\n",
      "100778/100778 [==============================] - 0s 2us/step - loss: 0.2375 - accuracy: 0.9245 - val_loss: 0.2345 - val_accuracy: 0.9219\n",
      "Epoch 86/100\n",
      "100778/100778 [==============================] - 0s 3us/step - loss: 0.2377 - accuracy: 0.9228 - val_loss: 0.2325 - val_accuracy: 0.9261\n",
      "Epoch 87/100\n",
      "100778/100778 [==============================] - 0s 3us/step - loss: 0.2365 - accuracy: 0.9237 - val_loss: 0.2324 - val_accuracy: 0.9252\n",
      "Epoch 88/100\n",
      "100778/100778 [==============================] - 0s 2us/step - loss: 0.2364 - accuracy: 0.9242 - val_loss: 0.2318 - val_accuracy: 0.9255\n",
      "Epoch 89/100\n",
      "100778/100778 [==============================] - 0s 2us/step - loss: 0.2369 - accuracy: 0.9238 - val_loss: 0.2319 - val_accuracy: 0.9253\n",
      "Epoch 90/100\n",
      "100778/100778 [==============================] - 0s 3us/step - loss: 0.2364 - accuracy: 0.9237 - val_loss: 0.2314 - val_accuracy: 0.9255\n",
      "Epoch 91/100\n",
      "100778/100778 [==============================] - 0s 2us/step - loss: 0.2352 - accuracy: 0.9239 - val_loss: 0.2309 - val_accuracy: 0.9265\n",
      "Epoch 92/100\n",
      "100778/100778 [==============================] - 0s 3us/step - loss: 0.2350 - accuracy: 0.9238 - val_loss: 0.2307 - val_accuracy: 0.9254\n",
      "Epoch 93/100\n",
      "100778/100778 [==============================] - 0s 2us/step - loss: 0.2354 - accuracy: 0.9242 - val_loss: 0.2304 - val_accuracy: 0.9221\n",
      "Epoch 94/100\n",
      "100778/100778 [==============================] - 0s 2us/step - loss: 0.2344 - accuracy: 0.9242 - val_loss: 0.2300 - val_accuracy: 0.9256\n",
      "Epoch 95/100\n",
      "100778/100778 [==============================] - 0s 3us/step - loss: 0.2341 - accuracy: 0.9243 - val_loss: 0.2304 - val_accuracy: 0.9255\n",
      "Epoch 96/100\n",
      "100778/100778 [==============================] - 0s 3us/step - loss: 0.2344 - accuracy: 0.9239 - val_loss: 0.2297 - val_accuracy: 0.9270\n",
      "Epoch 97/100\n",
      "100778/100778 [==============================] - 0s 2us/step - loss: 0.2331 - accuracy: 0.9245 - val_loss: 0.2289 - val_accuracy: 0.9263\n",
      "Epoch 98/100\n",
      "100778/100778 [==============================] - 0s 3us/step - loss: 0.2330 - accuracy: 0.9250 - val_loss: 0.2284 - val_accuracy: 0.9267\n",
      "Epoch 99/100\n",
      "100778/100778 [==============================] - 0s 3us/step - loss: 0.2330 - accuracy: 0.9243 - val_loss: 0.2288 - val_accuracy: 0.9285\n",
      "Epoch 100/100\n",
      "100778/100778 [==============================] - 0s 2us/step - loss: 0.2318 - accuracy: 0.9251 - val_loss: 0.2280 - val_accuracy: 0.9263\n"
     ]
    }
   ],
   "source": [
    "# try using different optimizers and different optimizer configs\n",
    "model.compile(loss='categorical_crossentropy',optimizer='adam',metrics=['accuracy'])\n",
    "\n",
    "history = model.fit(X, Y,batch_size=4000,epochs=100,validation_split=0.2)\n",
    "\n",
    "model.save(f\"{testdir}/processed/{file}.hdf5\")\n",
    "\n",
    "import dill as pickle\n",
    "with open('history', 'wb') as file_pi:\n",
    "    pickle.dump(f\"{testdir}/processed/{file}.history\", file_pi)"
   ]
  },
  {
   "cell_type": "code",
   "execution_count": 5,
   "metadata": {},
   "outputs": [
    {
     "name": "stdout",
     "output_type": "stream",
     "text": [
      "22542/22542 [==============================] - 0s 15us/step\n",
      "Accuracy: 70.95\n"
     ]
    }
   ],
   "source": [
    "\n",
    "import tensorflow as tf\n",
    "C = testdata.iloc[:,0:n-5]\n",
    "T = testdata.iloc[:,n-5:n]\n",
    "_, accuracy = model.evaluate(C,T)\n",
    "print('Accuracy: %.2f' % (accuracy*100))\n",
    "prediction=model.predict_classes(C)\n"
   ]
  },
  {
   "cell_type": "code",
   "execution_count": 6,
   "metadata": {},
   "outputs": [
    {
     "data": {
      "image/png": "[encoded data removed]",
      "text/plain": [
       "<Figure size 432x288 with 1 Axes>"
      ]
     },
     "metadata": {
      "needs_background": "light"
     },
     "output_type": "display_data"
    }
   ],
   "source": [
    "import matplotlib.pyplot as plt\n",
    "plt.plot(history.history['accuracy'])\n",
    "plt.plot(history.history['val_accuracy'])\n",
    "plt.title('model accuracy')\n",
    "plt.ylabel('accuracy')\n",
    "plt.xlabel('epoch')\n",
    "plt.legend(['train', 'test'], loc='upper left')\n",
    "plt.show()"
   ]
  },
  {
   "cell_type": "code",
   "execution_count": 7,
   "metadata": {
    "scrolled": true
   },
   "outputs": [
    {
     "data": {
      "image/png": "[encoded data removed]",
      "text/plain": [
       "<Figure size 432x288 with 1 Axes>"
      ]
     },
     "metadata": {
      "needs_background": "light"
     },
     "output_type": "display_data"
    }
   ],
   "source": [
    "# summarize history for loss\n",
    "plt.plot(history.history['loss'])\n",
    "plt.plot(history.history['val_loss'])\n",
    "plt.title('model loss')\n",
    "plt.ylabel('loss')\n",
    "plt.xlabel('epoch')\n",
    "plt.legend(['train', 'test'], loc='upper left')\n",
    "plt.show()"
   ]
  },
  {
   "cell_type": "code",
   "execution_count": 8,
   "metadata": {},
   "outputs": [
    {
     "name": "stdout",
     "output_type": "stream",
     "text": [
      "[[1. 0. 0. 0. 0.]]\n",
      "(22542, 5)\n"
     ]
    },
    {
     "data": {
      "text/plain": [
       "array([[1., 0., 0., 0., 0.],\n",
       "       [0., 1., 0., 0., 0.],\n",
       "       [0., 0., 1., 0., 0.],\n",
       "       ...,\n",
       "       [0., 1., 0., 0., 0.],\n",
       "       [0., 1., 0., 0., 0.],\n",
       "       [0., 0., 1., 0., 0.]], dtype=float32)"
      ]
     },
     "execution_count": 8,
     "metadata": {},
     "output_type": "execute_result"
    }
   ],
   "source": [
    "p=model.predict(C[0:1])\n",
    "p=np.rint(p)\n",
    "\n",
    "print(p)\n",
    "print(T.shape)\n",
    "rounded_labels=np.argmax(T.to_numpy(),axis=1)\n",
    "prediction=model.predict(C)\n",
    "prediction=np.rint(prediction)\n",
    "prediction"
   ]
  },
  {
   "cell_type": "code",
   "execution_count": 9,
   "metadata": {
    "scrolled": true
   },
   "outputs": [
    {
     "data": {
      "text/plain": [
       "array([[[14623,   460],\n",
       "        [ 2376,  5083]],\n",
       "\n",
       "       [[ 7820,  5012],\n",
       "        [  582,  9128]],\n",
       "\n",
       "       [[19502,   619],\n",
       "        [  902,  1519]],\n",
       "\n",
       "       [[19657,     0],\n",
       "        [ 2885,     0]],\n",
       "\n",
       "       [[22475,     0],\n",
       "        [   67,     0]]], dtype=int64)"
      ]
     },
     "execution_count": 9,
     "metadata": {},
     "output_type": "execute_result"
    }
   ],
   "source": [
    "from sklearn.metrics import multilabel_confusion_matrix\n",
    "prediction=np.rint(prediction)\n",
    "original_value=np.rint(T)\n",
    "cm=multilabel_confusion_matrix(original_value, prediction)\n",
    "cm"
   ]
  }
 ],
 "metadata": {
  "kernelspec": {
   "display_name": "Python 3",
   "language": "python",
   "name": "python3"
  },
  "language_info": {
   "codemirror_mode": {
    "name": "ipython",
    "version": 3
   },
   "file_extension": ".py",
   "mimetype": "text/x-python",
   "name": "python",
   "nbconvert_exporter": "python",
   "pygments_lexer": "ipython3",
   "version": "3.7.6"
  }
 },
 "nbformat": 4,
 "nbformat_minor": 2
}
