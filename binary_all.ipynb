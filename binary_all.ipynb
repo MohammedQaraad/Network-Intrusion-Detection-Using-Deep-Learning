{
 "cells": [
  {
   "cell_type": "code",
   "execution_count": 1,
   "metadata": {},
   "outputs": [
    {
     "name": "stderr",
     "output_type": "stream",
     "text": [
      "Using TensorFlow backend.\n"
     ]
    }
   ],
   "source": [
    "# first neural network with keras tutorial\n",
    "from numpy import loadtxt\n",
    "from keras.models import Sequential\n",
    "from keras.layers import Dense\n",
    "import pandas as pd\n",
    "\n",
    "file=\"all\"\n",
    "traindir=\"datasets/binary_train\"\n",
    "testdir=\"datasets/binary_test\"\n"
   ]
  },
  {
   "cell_type": "code",
   "execution_count": 2,
   "metadata": {},
   "outputs": [
    {
     "data": {
      "text/plain": [
       "44"
      ]
     },
     "execution_count": 2,
     "metadata": {},
     "output_type": "execute_result"
    }
   ],
   "source": [
    "# load the dataset\n",
    "traindata = pd.read_csv(f\"{traindir}/processed/{file}.csv\")\n",
    "testdata = pd.read_csv(f\"{testdir}/processed/{file}.csv\")\n",
    "n=len(traindata.count())\n",
    "n"
   ]
  },
  {
   "cell_type": "code",
   "execution_count": 3,
   "metadata": {},
   "outputs": [],
   "source": [
    "# split into input (X) and output (y) variables\n",
    "X = traindata.iloc[:,0:n-1]\n",
    "y = traindata.iloc[:,n-1]\n",
    "X_test = testdata.iloc[:,0:n-1]\n",
    "y_test = testdata.iloc[:,n-1]"
   ]
  },
  {
   "cell_type": "code",
   "execution_count": 4,
   "metadata": {},
   "outputs": [],
   "source": [
    "# define the keras model\n",
    "model = Sequential()\n",
    "model.add(Dense(64, input_dim=n-1, activation='relu'))\n",
    "model.add(Dense(36, activation='relu'))\n",
    "model.add(Dense(24, activation='relu'))\n",
    "model.add(Dense(1, activation='sigmoid'))"
   ]
  },
  {
   "cell_type": "code",
   "execution_count": 5,
   "metadata": {},
   "outputs": [],
   "source": [
    "\n",
    "# compile the keras model\n",
    "\n",
    "model.compile(loss='binary_crossentropy', optimizer='adam', metrics=['accuracy'])"
   ]
  },
  {
   "cell_type": "code",
   "execution_count": 6,
   "metadata": {},
   "outputs": [
    {
     "name": "stdout",
     "output_type": "stream",
     "text": [
      "Train on 100778 samples, validate on 25195 samples\n",
      "Epoch 1/100\n",
      "100778/100778 [==============================] - 1s 7us/step - loss: 0.5934 - accuracy: 0.7186 - val_loss: 0.4820 - val_accuracy: 0.8886\n",
      "Epoch 2/100\n",
      "100778/100778 [==============================] - 0s 3us/step - loss: 0.4013 - accuracy: 0.9013 - val_loss: 0.3126 - val_accuracy: 0.9514\n",
      "Epoch 3/100\n",
      "100778/100778 [==============================] - 0s 3us/step - loss: 0.2411 - accuracy: 0.9566 - val_loss: 0.1706 - val_accuracy: 0.9602\n",
      "Epoch 4/100\n",
      "100778/100778 [==============================] - 0s 3us/step - loss: 0.1407 - accuracy: 0.9642 - val_loss: 0.1148 - val_accuracy: 0.9693\n",
      "Epoch 5/100\n",
      "100778/100778 [==============================] - 0s 5us/step - loss: 0.1041 - accuracy: 0.9699 - val_loss: 0.0927 - val_accuracy: 0.9717\n",
      "Epoch 6/100\n",
      "100778/100778 [==============================] - 0s 3us/step - loss: 0.0872 - accuracy: 0.9721 - val_loss: 0.0799 - val_accuracy: 0.9753\n",
      "Epoch 7/100\n",
      "100778/100778 [==============================] - 0s 3us/step - loss: 0.0761 - accuracy: 0.9746 - val_loss: 0.0709 - val_accuracy: 0.9774\n",
      "Epoch 8/100\n",
      "100778/100778 [==============================] - 0s 3us/step - loss: 0.0682 - accuracy: 0.9758 - val_loss: 0.0634 - val_accuracy: 0.9795\n",
      "Epoch 9/100\n",
      "100778/100778 [==============================] - 0s 3us/step - loss: 0.0615 - accuracy: 0.9780 - val_loss: 0.0582 - val_accuracy: 0.9811\n",
      "Epoch 10/100\n",
      "100778/100778 [==============================] - 0s 3us/step - loss: 0.0561 - accuracy: 0.9800 - val_loss: 0.0533 - val_accuracy: 0.9815\n",
      "Epoch 11/100\n",
      "100778/100778 [==============================] - 0s 3us/step - loss: 0.0522 - accuracy: 0.9812 - val_loss: 0.0502 - val_accuracy: 0.9823\n",
      "Epoch 12/100\n",
      "100778/100778 [==============================] - 0s 3us/step - loss: 0.0487 - accuracy: 0.9833 - val_loss: 0.0467 - val_accuracy: 0.9849\n",
      "Epoch 13/100\n",
      "100778/100778 [==============================] - 0s 3us/step - loss: 0.0458 - accuracy: 0.9846 - val_loss: 0.0445 - val_accuracy: 0.9856\n",
      "Epoch 14/100\n",
      "100778/100778 [==============================] - 0s 4us/step - loss: 0.0437 - accuracy: 0.9852 - val_loss: 0.0431 - val_accuracy: 0.9858\n",
      "Epoch 15/100\n",
      "100778/100778 [==============================] - 0s 4us/step - loss: 0.0420 - accuracy: 0.9858 - val_loss: 0.0412 - val_accuracy: 0.9868\n",
      "Epoch 16/100\n",
      "100778/100778 [==============================] - 0s 3us/step - loss: 0.0403 - accuracy: 0.9862 - val_loss: 0.0403 - val_accuracy: 0.9870\n",
      "Epoch 17/100\n",
      "100778/100778 [==============================] - 0s 3us/step - loss: 0.0390 - accuracy: 0.9867 - val_loss: 0.0387 - val_accuracy: 0.9873\n",
      "Epoch 18/100\n",
      "100778/100778 [==============================] - 0s 3us/step - loss: 0.0378 - accuracy: 0.9873 - val_loss: 0.0374 - val_accuracy: 0.9885\n",
      "Epoch 19/100\n",
      "100778/100778 [==============================] - 0s 3us/step - loss: 0.0362 - accuracy: 0.9879 - val_loss: 0.0362 - val_accuracy: 0.9891\n",
      "Epoch 20/100\n",
      "100778/100778 [==============================] - 0s 3us/step - loss: 0.0352 - accuracy: 0.9885 - val_loss: 0.0362 - val_accuracy: 0.9886\n",
      "Epoch 21/100\n",
      "100778/100778 [==============================] - 0s 3us/step - loss: 0.0347 - accuracy: 0.9888 - val_loss: 0.0352 - val_accuracy: 0.9875\n",
      "Epoch 22/100\n",
      "100778/100778 [==============================] - 0s 3us/step - loss: 0.0338 - accuracy: 0.9888 - val_loss: 0.0342 - val_accuracy: 0.9891\n",
      "Epoch 23/100\n",
      "100778/100778 [==============================] - 0s 3us/step - loss: 0.0325 - accuracy: 0.9897 - val_loss: 0.0331 - val_accuracy: 0.9900\n",
      "Epoch 24/100\n",
      "100778/100778 [==============================] - 0s 3us/step - loss: 0.0318 - accuracy: 0.9900 - val_loss: 0.0334 - val_accuracy: 0.9901\n",
      "Epoch 25/100\n",
      "100778/100778 [==============================] - 0s 3us/step - loss: 0.0313 - accuracy: 0.9902 - val_loss: 0.0316 - val_accuracy: 0.9899\n",
      "Epoch 26/100\n",
      "100778/100778 [==============================] - 0s 3us/step - loss: 0.0301 - accuracy: 0.9905 - val_loss: 0.0315 - val_accuracy: 0.9908\n",
      "Epoch 27/100\n",
      "100778/100778 [==============================] - 0s 3us/step - loss: 0.0295 - accuracy: 0.9907 - val_loss: 0.0301 - val_accuracy: 0.9907\n",
      "Epoch 28/100\n",
      "100778/100778 [==============================] - 0s 3us/step - loss: 0.0287 - accuracy: 0.9910 - val_loss: 0.0302 - val_accuracy: 0.9911\n",
      "Epoch 29/100\n",
      "100778/100778 [==============================] - 0s 3us/step - loss: 0.0282 - accuracy: 0.9909 - val_loss: 0.0290 - val_accuracy: 0.9909\n",
      "Epoch 30/100\n",
      "100778/100778 [==============================] - 0s 3us/step - loss: 0.0275 - accuracy: 0.9912 - val_loss: 0.0282 - val_accuracy: 0.9911\n",
      "Epoch 31/100\n",
      "100778/100778 [==============================] - 0s 3us/step - loss: 0.0267 - accuracy: 0.9914 - val_loss: 0.0284 - val_accuracy: 0.9906\n",
      "Epoch 32/100\n",
      "100778/100778 [==============================] - 0s 3us/step - loss: 0.0262 - accuracy: 0.9914 - val_loss: 0.0269 - val_accuracy: 0.9917\n",
      "Epoch 33/100\n",
      "100778/100778 [==============================] - 0s 3us/step - loss: 0.0255 - accuracy: 0.9916 - val_loss: 0.0268 - val_accuracy: 0.9913\n",
      "Epoch 34/100\n",
      "100778/100778 [==============================] - 0s 3us/step - loss: 0.0247 - accuracy: 0.9918 - val_loss: 0.0259 - val_accuracy: 0.9917\n",
      "Epoch 35/100\n",
      "100778/100778 [==============================] - 0s 3us/step - loss: 0.0242 - accuracy: 0.9923 - val_loss: 0.0254 - val_accuracy: 0.9917\n",
      "Epoch 36/100\n",
      "100778/100778 [==============================] - 0s 3us/step - loss: 0.0236 - accuracy: 0.9923 - val_loss: 0.0249 - val_accuracy: 0.9917\n",
      "Epoch 37/100\n",
      "100778/100778 [==============================] - 0s 3us/step - loss: 0.0233 - accuracy: 0.9924 - val_loss: 0.0244 - val_accuracy: 0.9921\n",
      "Epoch 38/100\n",
      "100778/100778 [==============================] - 0s 3us/step - loss: 0.0223 - accuracy: 0.9928 - val_loss: 0.0236 - val_accuracy: 0.9921\n",
      "Epoch 39/100\n",
      "100778/100778 [==============================] - 0s 3us/step - loss: 0.0218 - accuracy: 0.9928 - val_loss: 0.0238 - val_accuracy: 0.9925\n",
      "Epoch 40/100\n",
      "100778/100778 [==============================] - 0s 3us/step - loss: 0.0214 - accuracy: 0.9930 - val_loss: 0.0225 - val_accuracy: 0.9933\n",
      "Epoch 41/100\n",
      "100778/100778 [==============================] - 0s 3us/step - loss: 0.0208 - accuracy: 0.9933 - val_loss: 0.0228 - val_accuracy: 0.9923\n",
      "Epoch 42/100\n",
      "100778/100778 [==============================] - 0s 3us/step - loss: 0.0205 - accuracy: 0.9935 - val_loss: 0.0219 - val_accuracy: 0.9937\n",
      "Epoch 43/100\n",
      "100778/100778 [==============================] - 0s 3us/step - loss: 0.0197 - accuracy: 0.9937 - val_loss: 0.0215 - val_accuracy: 0.9939\n",
      "Epoch 44/100\n",
      "100778/100778 [==============================] - 0s 3us/step - loss: 0.0193 - accuracy: 0.9937 - val_loss: 0.0217 - val_accuracy: 0.9927\n",
      "Epoch 45/100\n",
      "100778/100778 [==============================] - 0s 3us/step - loss: 0.0192 - accuracy: 0.9939 - val_loss: 0.0214 - val_accuracy: 0.9933\n",
      "Epoch 46/100\n",
      "100778/100778 [==============================] - 0s 3us/step - loss: 0.0187 - accuracy: 0.9941 - val_loss: 0.0213 - val_accuracy: 0.9932\n",
      "Epoch 47/100\n",
      "100778/100778 [==============================] - 0s 3us/step - loss: 0.0185 - accuracy: 0.9939 - val_loss: 0.0202 - val_accuracy: 0.9937\n",
      "Epoch 48/100\n",
      "100778/100778 [==============================] - 0s 3us/step - loss: 0.0179 - accuracy: 0.9942 - val_loss: 0.0197 - val_accuracy: 0.9940\n",
      "Epoch 49/100\n",
      "100778/100778 [==============================] - 0s 4us/step - loss: 0.0180 - accuracy: 0.9940 - val_loss: 0.0194 - val_accuracy: 0.9944\n",
      "Epoch 50/100\n",
      "100778/100778 [==============================] - 0s 4us/step - loss: 0.0180 - accuracy: 0.9939 - val_loss: 0.0202 - val_accuracy: 0.9933\n",
      "Epoch 51/100\n",
      "100778/100778 [==============================] - 0s 3us/step - loss: 0.0172 - accuracy: 0.9942 - val_loss: 0.0185 - val_accuracy: 0.9939\n",
      "Epoch 52/100\n",
      "100778/100778 [==============================] - 0s 4us/step - loss: 0.0165 - accuracy: 0.9947 - val_loss: 0.0187 - val_accuracy: 0.9942\n",
      "Epoch 53/100\n",
      "100778/100778 [==============================] - 0s 3us/step - loss: 0.0162 - accuracy: 0.9948 - val_loss: 0.0190 - val_accuracy: 0.9933\n",
      "Epoch 54/100\n",
      "100778/100778 [==============================] - 0s 3us/step - loss: 0.0161 - accuracy: 0.9948 - val_loss: 0.0186 - val_accuracy: 0.9940\n",
      "Epoch 55/100\n"
     ]
    },
    {
     "name": "stdout",
     "output_type": "stream",
     "text": [
      "100778/100778 [==============================] - 0s 3us/step - loss: 0.0159 - accuracy: 0.9947 - val_loss: 0.0184 - val_accuracy: 0.9940\n",
      "Epoch 56/100\n",
      "100778/100778 [==============================] - 0s 3us/step - loss: 0.0159 - accuracy: 0.9947 - val_loss: 0.0173 - val_accuracy: 0.9945\n",
      "Epoch 57/100\n",
      "100778/100778 [==============================] - 0s 3us/step - loss: 0.0153 - accuracy: 0.9951 - val_loss: 0.0172 - val_accuracy: 0.9943\n",
      "Epoch 58/100\n",
      "100778/100778 [==============================] - 0s 3us/step - loss: 0.0152 - accuracy: 0.9949 - val_loss: 0.0172 - val_accuracy: 0.9948\n",
      "Epoch 59/100\n",
      "100778/100778 [==============================] - 0s 3us/step - loss: 0.0150 - accuracy: 0.9950 - val_loss: 0.0177 - val_accuracy: 0.9948\n",
      "Epoch 60/100\n",
      "100778/100778 [==============================] - 0s 3us/step - loss: 0.0149 - accuracy: 0.9951 - val_loss: 0.0172 - val_accuracy: 0.9944\n",
      "Epoch 61/100\n",
      "100778/100778 [==============================] - 0s 3us/step - loss: 0.0145 - accuracy: 0.9955 - val_loss: 0.0178 - val_accuracy: 0.9938\n",
      "Epoch 62/100\n",
      "100778/100778 [==============================] - 0s 3us/step - loss: 0.0149 - accuracy: 0.9949 - val_loss: 0.0167 - val_accuracy: 0.9949\n",
      "Epoch 63/100\n",
      "100778/100778 [==============================] - 0s 3us/step - loss: 0.0142 - accuracy: 0.9953 - val_loss: 0.0166 - val_accuracy: 0.9945\n",
      "Epoch 64/100\n",
      "100778/100778 [==============================] - 0s 3us/step - loss: 0.0140 - accuracy: 0.9954 - val_loss: 0.0169 - val_accuracy: 0.9943\n",
      "Epoch 65/100\n",
      "100778/100778 [==============================] - 0s 3us/step - loss: 0.0141 - accuracy: 0.9954 - val_loss: 0.0164 - val_accuracy: 0.9944\n",
      "Epoch 66/100\n",
      "100778/100778 [==============================] - 0s 3us/step - loss: 0.0141 - accuracy: 0.9953 - val_loss: 0.0159 - val_accuracy: 0.9948\n",
      "Epoch 67/100\n",
      "100778/100778 [==============================] - 0s 3us/step - loss: 0.0138 - accuracy: 0.9953 - val_loss: 0.0170 - val_accuracy: 0.9942\n",
      "Epoch 68/100\n",
      "100778/100778 [==============================] - 0s 4us/step - loss: 0.0139 - accuracy: 0.9952 - val_loss: 0.0155 - val_accuracy: 0.9952\n",
      "Epoch 69/100\n",
      "100778/100778 [==============================] - 0s 3us/step - loss: 0.0133 - accuracy: 0.9958 - val_loss: 0.0163 - val_accuracy: 0.9947\n",
      "Epoch 70/100\n",
      "100778/100778 [==============================] - 0s 4us/step - loss: 0.0132 - accuracy: 0.9956 - val_loss: 0.0157 - val_accuracy: 0.9951\n",
      "Epoch 71/100\n",
      "100778/100778 [==============================] - 0s 4us/step - loss: 0.0129 - accuracy: 0.9957 - val_loss: 0.0160 - val_accuracy: 0.9946\n",
      "Epoch 72/100\n",
      "100778/100778 [==============================] - 0s 3us/step - loss: 0.0135 - accuracy: 0.9954 - val_loss: 0.0157 - val_accuracy: 0.9951\n",
      "Epoch 73/100\n",
      "100778/100778 [==============================] - 0s 3us/step - loss: 0.0131 - accuracy: 0.9953 - val_loss: 0.0159 - val_accuracy: 0.9948\n",
      "Epoch 74/100\n",
      "100778/100778 [==============================] - 0s 3us/step - loss: 0.0128 - accuracy: 0.9958 - val_loss: 0.0158 - val_accuracy: 0.9946\n",
      "Epoch 75/100\n",
      "100778/100778 [==============================] - 0s 3us/step - loss: 0.0127 - accuracy: 0.9957 - val_loss: 0.0152 - val_accuracy: 0.9951\n",
      "Epoch 76/100\n",
      "100778/100778 [==============================] - 0s 3us/step - loss: 0.0123 - accuracy: 0.9960 - val_loss: 0.0150 - val_accuracy: 0.9951\n",
      "Epoch 77/100\n",
      "100778/100778 [==============================] - 0s 3us/step - loss: 0.0124 - accuracy: 0.9958 - val_loss: 0.0152 - val_accuracy: 0.9951\n",
      "Epoch 78/100\n",
      "100778/100778 [==============================] - 0s 3us/step - loss: 0.0123 - accuracy: 0.9960 - val_loss: 0.0149 - val_accuracy: 0.9954\n",
      "Epoch 79/100\n",
      "100778/100778 [==============================] - 0s 3us/step - loss: 0.0122 - accuracy: 0.9959 - val_loss: 0.0160 - val_accuracy: 0.9949\n",
      "Epoch 80/100\n",
      "100778/100778 [==============================] - 0s 4us/step - loss: 0.0120 - accuracy: 0.9959 - val_loss: 0.0174 - val_accuracy: 0.9941\n",
      "Epoch 81/100\n",
      "100778/100778 [==============================] - 0s 3us/step - loss: 0.0122 - accuracy: 0.9958 - val_loss: 0.0154 - val_accuracy: 0.9947\n",
      "Epoch 82/100\n",
      "100778/100778 [==============================] - 0s 3us/step - loss: 0.0119 - accuracy: 0.9960 - val_loss: 0.0150 - val_accuracy: 0.9955\n",
      "Epoch 83/100\n",
      "100778/100778 [==============================] - 0s 3us/step - loss: 0.0121 - accuracy: 0.9959 - val_loss: 0.0153 - val_accuracy: 0.9950\n",
      "Epoch 84/100\n",
      "100778/100778 [==============================] - 0s 3us/step - loss: 0.0118 - accuracy: 0.9959 - val_loss: 0.0146 - val_accuracy: 0.9956\n",
      "Epoch 85/100\n",
      "100778/100778 [==============================] - 0s 3us/step - loss: 0.0113 - accuracy: 0.9963 - val_loss: 0.0140 - val_accuracy: 0.9953\n",
      "Epoch 86/100\n",
      "100778/100778 [==============================] - 0s 3us/step - loss: 0.0114 - accuracy: 0.9961 - val_loss: 0.0157 - val_accuracy: 0.9949\n",
      "Epoch 87/100\n",
      "100778/100778 [==============================] - 0s 3us/step - loss: 0.0115 - accuracy: 0.9960 - val_loss: 0.0149 - val_accuracy: 0.9952\n",
      "Epoch 88/100\n",
      "100778/100778 [==============================] - 0s 3us/step - loss: 0.0112 - accuracy: 0.9962 - val_loss: 0.0144 - val_accuracy: 0.9952\n",
      "Epoch 89/100\n",
      "100778/100778 [==============================] - 0s 3us/step - loss: 0.0112 - accuracy: 0.9961 - val_loss: 0.0141 - val_accuracy: 0.9953\n",
      "Epoch 90/100\n",
      "100778/100778 [==============================] - 0s 3us/step - loss: 0.0110 - accuracy: 0.9962 - val_loss: 0.0138 - val_accuracy: 0.9957\n",
      "Epoch 91/100\n",
      "100778/100778 [==============================] - 0s 3us/step - loss: 0.0108 - accuracy: 0.9962 - val_loss: 0.0149 - val_accuracy: 0.9951\n",
      "Epoch 92/100\n",
      "100778/100778 [==============================] - 0s 3us/step - loss: 0.0109 - accuracy: 0.9962 - val_loss: 0.0136 - val_accuracy: 0.9956\n",
      "Epoch 93/100\n",
      "100778/100778 [==============================] - 0s 3us/step - loss: 0.0111 - accuracy: 0.9962 - val_loss: 0.0142 - val_accuracy: 0.9954\n",
      "Epoch 94/100\n",
      "100778/100778 [==============================] - 0s 3us/step - loss: 0.0107 - accuracy: 0.9964 - val_loss: 0.0137 - val_accuracy: 0.9958\n",
      "Epoch 95/100\n",
      "100778/100778 [==============================] - 0s 3us/step - loss: 0.0107 - accuracy: 0.9963 - val_loss: 0.0143 - val_accuracy: 0.9954\n",
      "Epoch 96/100\n",
      "100778/100778 [==============================] - 0s 4us/step - loss: 0.0107 - accuracy: 0.9963 - val_loss: 0.0143 - val_accuracy: 0.9951\n",
      "Epoch 97/100\n",
      "100778/100778 [==============================] - 0s 4us/step - loss: 0.0114 - accuracy: 0.9961 - val_loss: 0.0136 - val_accuracy: 0.9958\n",
      "Epoch 98/100\n",
      "100778/100778 [==============================] - 0s 3us/step - loss: 0.0106 - accuracy: 0.9962 - val_loss: 0.0175 - val_accuracy: 0.9946\n",
      "Epoch 99/100\n",
      "100778/100778 [==============================] - 0s 4us/step - loss: 0.0120 - accuracy: 0.9958 - val_loss: 0.0146 - val_accuracy: 0.9951\n",
      "Epoch 100/100\n",
      "100778/100778 [==============================] - 0s 4us/step - loss: 0.0106 - accuracy: 0.9964 - val_loss: 0.0135 - val_accuracy: 0.9956\n"
     ]
    }
   ],
   "source": [
    "\n",
    "# fit the keras model on the dataset\n",
    "history = model.fit(X, y, epochs=100, batch_size=5000,validation_split=0.2)\n"
   ]
  },
  {
   "cell_type": "code",
   "execution_count": 8,
   "metadata": {},
   "outputs": [
    {
     "name": "stdout",
     "output_type": "stream",
     "text": [
      "22542/22542 [==============================] - 0s 14us/step\n",
      "Accuracy: 78.47\n"
     ]
    }
   ],
   "source": [
    "\n",
    "# evaluate the keras model\n",
    "_, accuracy = model.evaluate(X_test, y_test)\n",
    "print('Accuracy: %.2f' % (accuracy*100))"
   ]
  },
  {
   "cell_type": "code",
   "execution_count": 9,
   "metadata": {},
   "outputs": [
    {
     "data": {
      "text/plain": [
       "array([[9443,  267],\n",
       "       [4587, 8245]], dtype=int64)"
      ]
     },
     "execution_count": 9,
     "metadata": {},
     "output_type": "execute_result"
    }
   ],
   "source": [
    "from sklearn.metrics import confusion_matrix\n",
    "from sklearn.metrics import accuracy_score\n",
    "prediction=model.predict_classes(X_test)\n",
    "m=confusion_matrix(y_test,prediction)\n",
    "m"
   ]
  },
  {
   "cell_type": "code",
   "execution_count": 10,
   "metadata": {},
   "outputs": [
    {
     "data": {
      "image/png": "[encoded data removed]",
      "text/plain": [
       "<Figure size 432x288 with 1 Axes>"
      ]
     },
     "metadata": {
      "needs_background": "light"
     },
     "output_type": "display_data"
    }
   ],
   "source": [
    "import matplotlib.pyplot as plt\n",
    "plt.plot(history.history['accuracy'])\n",
    "plt.plot(history.history['val_accuracy'])\n",
    "plt.title('model accuracy')\n",
    "plt.ylabel('accuracy')\n",
    "plt.xlabel('epoch')\n",
    "plt.legend(['train', 'test'], loc='upper left')\n",
    "plt.show()"
   ]
  },
  {
   "cell_type": "code",
   "execution_count": 11,
   "metadata": {},
   "outputs": [
    {
     "name": "stdout",
     "output_type": "stream",
     "text": [
      "0.0\n"
     ]
    }
   ],
   "source": [
    "\n",
    "# make probability predictions with the model\n",
    "predictions = model.predict(X)\n",
    "# round predictions \n",
    "rounded = [round(x[0]) for x in predictions]\n",
    "print(rounded[1] )"
   ]
  },
  {
   "cell_type": "code",
   "execution_count": null,
   "metadata": {},
   "outputs": [],
   "source": []
  },
  {
   "cell_type": "code",
   "execution_count": null,
   "metadata": {},
   "outputs": [],
   "source": []
  },
  {
   "cell_type": "code",
   "execution_count": null,
   "metadata": {},
   "outputs": [],
   "source": []
  },
  {
   "cell_type": "code",
   "execution_count": null,
   "metadata": {},
   "outputs": [],
   "source": []
  }
 ],
 "metadata": {
  "kernelspec": {
   "display_name": "Python 3",
   "language": "python",
   "name": "python3"
  },
  "language_info": {
   "codemirror_mode": {
    "name": "ipython",
    "version": 3
   },
   "file_extension": ".py",
   "mimetype": "text/x-python",
   "name": "python",
   "nbconvert_exporter": "python",
   "pygments_lexer": "ipython3",
   "version": "3.8.2"
  }
 },
 "nbformat": 4,
 "nbformat_minor": 2
}
