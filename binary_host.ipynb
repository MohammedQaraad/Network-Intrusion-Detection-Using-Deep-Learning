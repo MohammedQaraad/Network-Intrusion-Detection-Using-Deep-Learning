{
 "cells": [
  {
   "cell_type": "code",
   "execution_count": 1,
   "metadata": {},
   "outputs": [
    {
     "name": "stderr",
     "output_type": "stream",
     "text": [
      "Using TensorFlow backend.\n"
     ]
    }
   ],
   "source": [
    "# first neural network with keras tutorial\n",
    "from numpy import loadtxt\n",
    "from keras.models import Sequential\n",
    "from keras.layers import Dense\n",
    "import pandas as pd\n",
    "\n",
    "file=\"host\"\n",
    "traindir=\"datasets/binary_train\"\n",
    "testdir=\"datasets/binary_test\"\n"
   ]
  },
  {
   "cell_type": "code",
   "execution_count": 2,
   "metadata": {},
   "outputs": [
    {
     "data": {
      "text/plain": [
       "11"
      ]
     },
     "execution_count": 2,
     "metadata": {},
     "output_type": "execute_result"
    }
   ],
   "source": [
    "# load the dataset\n",
    "traindata = pd.read_csv(f\"{traindir}/processed/{file}.csv\")\n",
    "testdata = pd.read_csv(f\"{testdir}/processed/{file}.csv\")\n",
    "n=len(traindata.count())\n",
    "n"
   ]
  },
  {
   "cell_type": "code",
   "execution_count": 3,
   "metadata": {},
   "outputs": [],
   "source": [
    "# split into input (X) and output (y) variables\n",
    "X = traindata.iloc[:,0:n-1]\n",
    "y = traindata.iloc[:,n-1]\n",
    "X_test = testdata.iloc[:,0:n-1]\n",
    "y_test = testdata.iloc[:,n-1]"
   ]
  },
  {
   "cell_type": "code",
   "execution_count": 4,
   "metadata": {},
   "outputs": [],
   "source": [
    "# define the keras model\n",
    "model = Sequential()\n",
    "model.add(Dense(64, input_dim=n-1, activation='relu'))\n",
    "model.add(Dense(36, activation='relu'))\n",
    "model.add(Dense(24, activation='relu'))\n",
    "model.add(Dense(1, activation='sigmoid'))"
   ]
  },
  {
   "cell_type": "code",
   "execution_count": 5,
   "metadata": {},
   "outputs": [],
   "source": [
    "\n",
    "# compile the keras model\n",
    "\n",
    "model.compile(loss='binary_crossentropy', optimizer='adam', metrics=['accuracy'])"
   ]
  },
  {
   "cell_type": "code",
   "execution_count": 6,
   "metadata": {},
   "outputs": [
    {
     "name": "stdout",
     "output_type": "stream",
     "text": [
      "Train on 100778 samples, validate on 25195 samples\n",
      "Epoch 1/100\n",
      "100778/100778 [==============================] - 0s 4us/step - loss: 0.4669 - accuracy: 0.8374 - val_loss: 0.3559 - val_accuracy: 0.8498\n",
      "Epoch 2/100\n",
      "100778/100778 [==============================] - 0s 2us/step - loss: 0.3335 - accuracy: 0.8581 - val_loss: 0.3156 - val_accuracy: 0.8627\n",
      "Epoch 3/100\n",
      "100778/100778 [==============================] - 0s 2us/step - loss: 0.3136 - accuracy: 0.8626 - val_loss: 0.3058 - val_accuracy: 0.8654\n",
      "Epoch 4/100\n",
      "100778/100778 [==============================] - 0s 2us/step - loss: 0.3050 - accuracy: 0.8658 - val_loss: 0.2953 - val_accuracy: 0.8720\n",
      "Epoch 5/100\n",
      "100778/100778 [==============================] - ETA: 0s - loss: 0.2962 - accuracy: 0.87 - 0s 3us/step - loss: 0.2948 - accuracy: 0.8710 - val_loss: 0.2851 - val_accuracy: 0.8766\n",
      "Epoch 6/100\n",
      "100778/100778 [==============================] - 0s 3us/step - loss: 0.2837 - accuracy: 0.8773 - val_loss: 0.2852 - val_accuracy: 0.8885\n",
      "Epoch 7/100\n",
      "100778/100778 [==============================] - 0s 2us/step - loss: 0.2756 - accuracy: 0.8836 - val_loss: 0.2676 - val_accuracy: 0.8935\n",
      "Epoch 8/100\n",
      "100778/100778 [==============================] - 0s 3us/step - loss: 0.2646 - accuracy: 0.8889 - val_loss: 0.2549 - val_accuracy: 0.8936\n",
      "Epoch 9/100\n",
      "100778/100778 [==============================] - 0s 3us/step - loss: 0.2523 - accuracy: 0.8942 - val_loss: 0.2472 - val_accuracy: 0.9044\n",
      "Epoch 10/100\n",
      "100778/100778 [==============================] - 0s 2us/step - loss: 0.2427 - accuracy: 0.9029 - val_loss: 0.2360 - val_accuracy: 0.9172\n",
      "Epoch 11/100\n",
      "100778/100778 [==============================] - 0s 3us/step - loss: 0.2317 - accuracy: 0.9094 - val_loss: 0.2230 - val_accuracy: 0.9161\n",
      "Epoch 12/100\n",
      "100778/100778 [==============================] - 0s 2us/step - loss: 0.2214 - accuracy: 0.9154 - val_loss: 0.2185 - val_accuracy: 0.9204\n",
      "Epoch 13/100\n",
      "100778/100778 [==============================] - 0s 2us/step - loss: 0.2116 - accuracy: 0.9184 - val_loss: 0.2023 - val_accuracy: 0.9225\n",
      "Epoch 14/100\n",
      "100778/100778 [==============================] - 0s 3us/step - loss: 0.2023 - accuracy: 0.9224 - val_loss: 0.1967 - val_accuracy: 0.9260\n",
      "Epoch 15/100\n",
      "100778/100778 [==============================] - 0s 2us/step - loss: 0.1935 - accuracy: 0.9249 - val_loss: 0.1887 - val_accuracy: 0.9287\n",
      "Epoch 16/100\n",
      "100778/100778 [==============================] - 0s 2us/step - loss: 0.1848 - accuracy: 0.9280 - val_loss: 0.1761 - val_accuracy: 0.9313\n",
      "Epoch 17/100\n",
      "100778/100778 [==============================] - 0s 2us/step - loss: 0.1770 - accuracy: 0.9303 - val_loss: 0.1731 - val_accuracy: 0.9303\n",
      "Epoch 18/100\n",
      "100778/100778 [==============================] - 0s 2us/step - loss: 0.1719 - accuracy: 0.9308 - val_loss: 0.1649 - val_accuracy: 0.9334\n",
      "Epoch 19/100\n",
      "100778/100778 [==============================] - 0s 2us/step - loss: 0.1671 - accuracy: 0.9323 - val_loss: 0.1610 - val_accuracy: 0.9335\n",
      "Epoch 20/100\n",
      "100778/100778 [==============================] - 0s 2us/step - loss: 0.1683 - accuracy: 0.9327 - val_loss: 0.1583 - val_accuracy: 0.9362\n",
      "Epoch 21/100\n",
      "100778/100778 [==============================] - 0s 2us/step - loss: 0.1636 - accuracy: 0.9338 - val_loss: 0.1592 - val_accuracy: 0.9317\n",
      "Epoch 22/100\n",
      "100778/100778 [==============================] - 0s 2us/step - loss: 0.1582 - accuracy: 0.9328 - val_loss: 0.1514 - val_accuracy: 0.9364\n",
      "Epoch 23/100\n",
      "100778/100778 [==============================] - 0s 3us/step - loss: 0.1532 - accuracy: 0.9353 - val_loss: 0.1492 - val_accuracy: 0.9359\n",
      "Epoch 24/100\n",
      "100778/100778 [==============================] - 0s 3us/step - loss: 0.1534 - accuracy: 0.9366 - val_loss: 0.1461 - val_accuracy: 0.9351\n",
      "Epoch 25/100\n",
      "100778/100778 [==============================] - 0s 3us/step - loss: 0.1475 - accuracy: 0.9359 - val_loss: 0.1550 - val_accuracy: 0.9472\n",
      "Epoch 26/100\n",
      "100778/100778 [==============================] - 0s 2us/step - loss: 0.1482 - accuracy: 0.9381 - val_loss: 0.1449 - val_accuracy: 0.9416\n",
      "Epoch 27/100\n",
      "100778/100778 [==============================] - 0s 3us/step - loss: 0.1492 - accuracy: 0.9375 - val_loss: 0.1696 - val_accuracy: 0.9351\n",
      "Epoch 28/100\n",
      "100778/100778 [==============================] - 0s 2us/step - loss: 0.1513 - accuracy: 0.9397 - val_loss: 0.1401 - val_accuracy: 0.9446\n",
      "Epoch 29/100\n",
      "100778/100778 [==============================] - 0s 2us/step - loss: 0.1426 - accuracy: 0.9409 - val_loss: 0.1366 - val_accuracy: 0.9433\n",
      "Epoch 30/100\n",
      "100778/100778 [==============================] - 0s 2us/step - loss: 0.1412 - accuracy: 0.9421 - val_loss: 0.1401 - val_accuracy: 0.9376\n",
      "Epoch 31/100\n",
      "100778/100778 [==============================] - 0s 2us/step - loss: 0.1426 - accuracy: 0.9427 - val_loss: 0.1335 - val_accuracy: 0.9473\n",
      "Epoch 32/100\n",
      "100778/100778 [==============================] - 0s 2us/step - loss: 0.1364 - accuracy: 0.9442 - val_loss: 0.1391 - val_accuracy: 0.9397\n",
      "Epoch 33/100\n",
      "100778/100778 [==============================] - 0s 2us/step - loss: 0.1402 - accuracy: 0.9419 - val_loss: 0.1403 - val_accuracy: 0.9496\n",
      "Epoch 34/100\n",
      "100778/100778 [==============================] - 0s 2us/step - loss: 0.1366 - accuracy: 0.9445 - val_loss: 0.1322 - val_accuracy: 0.9407\n",
      "Epoch 35/100\n",
      "100778/100778 [==============================] - 0s 2us/step - loss: 0.1339 - accuracy: 0.9461 - val_loss: 0.1283 - val_accuracy: 0.9491\n",
      "Epoch 36/100\n",
      "100778/100778 [==============================] - 0s 2us/step - loss: 0.1321 - accuracy: 0.9474 - val_loss: 0.1314 - val_accuracy: 0.9467\n",
      "Epoch 37/100\n",
      "100778/100778 [==============================] - 0s 2us/step - loss: 0.1318 - accuracy: 0.9465 - val_loss: 0.1358 - val_accuracy: 0.9488\n",
      "Epoch 38/100\n",
      "100778/100778 [==============================] - 0s 2us/step - loss: 0.1324 - accuracy: 0.9471 - val_loss: 0.1308 - val_accuracy: 0.9505\n",
      "Epoch 39/100\n",
      "100778/100778 [==============================] - 0s 2us/step - loss: 0.1322 - accuracy: 0.9473 - val_loss: 0.1262 - val_accuracy: 0.9473\n",
      "Epoch 40/100\n",
      "100778/100778 [==============================] - 0s 2us/step - loss: 0.1275 - accuracy: 0.9500 - val_loss: 0.1259 - val_accuracy: 0.9521\n",
      "Epoch 41/100\n",
      "100778/100778 [==============================] - 0s 3us/step - loss: 0.1270 - accuracy: 0.9501 - val_loss: 0.1380 - val_accuracy: 0.9429\n",
      "Epoch 42/100\n",
      "100778/100778 [==============================] - 0s 2us/step - loss: 0.1318 - accuracy: 0.9481 - val_loss: 0.1260 - val_accuracy: 0.9525\n",
      "Epoch 43/100\n",
      "100778/100778 [==============================] - 0s 2us/step - loss: 0.1261 - accuracy: 0.9502 - val_loss: 0.1223 - val_accuracy: 0.9540\n",
      "Epoch 44/100\n",
      "100778/100778 [==============================] - 0s 3us/step - loss: 0.1254 - accuracy: 0.9511 - val_loss: 0.1351 - val_accuracy: 0.9407\n",
      "Epoch 45/100\n",
      "100778/100778 [==============================] - 0s 2us/step - loss: 0.1272 - accuracy: 0.9502 - val_loss: 0.1267 - val_accuracy: 0.9459\n",
      "Epoch 46/100\n",
      "100778/100778 [==============================] - 0s 2us/step - loss: 0.1242 - accuracy: 0.9516 - val_loss: 0.1239 - val_accuracy: 0.9558\n",
      "Epoch 47/100\n",
      "100778/100778 [==============================] - 0s 2us/step - loss: 0.1245 - accuracy: 0.9518 - val_loss: 0.1194 - val_accuracy: 0.9552\n",
      "Epoch 48/100\n",
      "100778/100778 [==============================] - 0s 2us/step - loss: 0.1224 - accuracy: 0.9530 - val_loss: 0.1191 - val_accuracy: 0.9548\n",
      "Epoch 49/100\n",
      "100778/100778 [==============================] - 0s 2us/step - loss: 0.1225 - accuracy: 0.9529 - val_loss: 0.1241 - val_accuracy: 0.9534\n",
      "Epoch 50/100\n",
      "100778/100778 [==============================] - 0s 2us/step - loss: 0.1235 - accuracy: 0.9524 - val_loss: 0.1231 - val_accuracy: 0.9528\n",
      "Epoch 51/100\n",
      "100778/100778 [==============================] - 0s 2us/step - loss: 0.1230 - accuracy: 0.9528 - val_loss: 0.1201 - val_accuracy: 0.9542\n",
      "Epoch 52/100\n",
      "100778/100778 [==============================] - 0s 2us/step - loss: 0.1220 - accuracy: 0.9529 - val_loss: 0.1368 - val_accuracy: 0.9555\n",
      "Epoch 53/100\n",
      "100778/100778 [==============================] - 0s 2us/step - loss: 0.1309 - accuracy: 0.9494 - val_loss: 0.1246 - val_accuracy: 0.9537\n",
      "Epoch 54/100\n",
      "100778/100778 [==============================] - 0s 2us/step - loss: 0.1223 - accuracy: 0.9531 - val_loss: 0.1187 - val_accuracy: 0.9543\n",
      "Epoch 55/100\n"
     ]
    },
    {
     "name": "stdout",
     "output_type": "stream",
     "text": [
      "100778/100778 [==============================] - 0s 2us/step - loss: 0.1190 - accuracy: 0.9547 - val_loss: 0.1157 - val_accuracy: 0.9569\n",
      "Epoch 56/100\n",
      "100778/100778 [==============================] - 0s 2us/step - loss: 0.1186 - accuracy: 0.9546 - val_loss: 0.1227 - val_accuracy: 0.9500\n",
      "Epoch 57/100\n",
      "100778/100778 [==============================] - 0s 2us/step - loss: 0.1218 - accuracy: 0.9533 - val_loss: 0.1190 - val_accuracy: 0.9557\n",
      "Epoch 58/100\n",
      "100778/100778 [==============================] - 0s 2us/step - loss: 0.1174 - accuracy: 0.9555 - val_loss: 0.1148 - val_accuracy: 0.9582\n",
      "Epoch 59/100\n",
      "100778/100778 [==============================] - 0s 2us/step - loss: 0.1186 - accuracy: 0.9549 - val_loss: 0.1203 - val_accuracy: 0.9537\n",
      "Epoch 60/100\n",
      "100778/100778 [==============================] - 0s 2us/step - loss: 0.1221 - accuracy: 0.9524 - val_loss: 0.1160 - val_accuracy: 0.9567\n",
      "Epoch 61/100\n",
      "100778/100778 [==============================] - 0s 2us/step - loss: 0.1177 - accuracy: 0.9550 - val_loss: 0.1194 - val_accuracy: 0.9546\n",
      "Epoch 62/100\n",
      "100778/100778 [==============================] - 0s 2us/step - loss: 0.1169 - accuracy: 0.9555 - val_loss: 0.1130 - val_accuracy: 0.9579\n",
      "Epoch 63/100\n",
      "100778/100778 [==============================] - 0s 2us/step - loss: 0.1146 - accuracy: 0.9570 - val_loss: 0.1133 - val_accuracy: 0.9576\n",
      "Epoch 64/100\n",
      "100778/100778 [==============================] - 0s 2us/step - loss: 0.1205 - accuracy: 0.9533 - val_loss: 0.1115 - val_accuracy: 0.9585\n",
      "Epoch 65/100\n",
      "100778/100778 [==============================] - 0s 2us/step - loss: 0.1206 - accuracy: 0.9521 - val_loss: 0.1382 - val_accuracy: 0.9527\n",
      "Epoch 66/100\n",
      "100778/100778 [==============================] - 0s 2us/step - loss: 0.1280 - accuracy: 0.9505 - val_loss: 0.1181 - val_accuracy: 0.9581\n",
      "Epoch 67/100\n",
      "100778/100778 [==============================] - 0s 2us/step - loss: 0.1168 - accuracy: 0.9555 - val_loss: 0.1110 - val_accuracy: 0.9577\n",
      "Epoch 68/100\n",
      "100778/100778 [==============================] - 0s 2us/step - loss: 0.1138 - accuracy: 0.9568 - val_loss: 0.1116 - val_accuracy: 0.9550\n",
      "Epoch 69/100\n",
      "100778/100778 [==============================] - 0s 2us/step - loss: 0.1142 - accuracy: 0.9561 - val_loss: 0.1117 - val_accuracy: 0.9550\n",
      "Epoch 70/100\n",
      "100778/100778 [==============================] - 0s 2us/step - loss: 0.1145 - accuracy: 0.9562 - val_loss: 0.1217 - val_accuracy: 0.9534\n",
      "Epoch 71/100\n",
      "100778/100778 [==============================] - 0s 3us/step - loss: 0.1164 - accuracy: 0.9545 - val_loss: 0.1160 - val_accuracy: 0.9525\n",
      "Epoch 72/100\n",
      "100778/100778 [==============================] - 0s 2us/step - loss: 0.1156 - accuracy: 0.9542 - val_loss: 0.1100 - val_accuracy: 0.9578\n",
      "Epoch 73/100\n",
      "100778/100778 [==============================] - 0s 2us/step - loss: 0.1116 - accuracy: 0.9576 - val_loss: 0.1163 - val_accuracy: 0.9568\n",
      "Epoch 74/100\n",
      "100778/100778 [==============================] - 0s 2us/step - loss: 0.1186 - accuracy: 0.9533 - val_loss: 0.1096 - val_accuracy: 0.9589\n",
      "Epoch 75/100\n",
      "100778/100778 [==============================] - 0s 2us/step - loss: 0.1132 - accuracy: 0.9565 - val_loss: 0.1090 - val_accuracy: 0.9590\n",
      "Epoch 76/100\n",
      "100778/100778 [==============================] - 0s 2us/step - loss: 0.1113 - accuracy: 0.9576 - val_loss: 0.1226 - val_accuracy: 0.9552\n",
      "Epoch 77/100\n",
      "100778/100778 [==============================] - 0s 2us/step - loss: 0.1147 - accuracy: 0.9551 - val_loss: 0.1195 - val_accuracy: 0.9527\n",
      "Epoch 78/100\n",
      "100778/100778 [==============================] - 0s 2us/step - loss: 0.1167 - accuracy: 0.9550 - val_loss: 0.1214 - val_accuracy: 0.9519\n",
      "Epoch 79/100\n",
      "100778/100778 [==============================] - 0s 2us/step - loss: 0.1188 - accuracy: 0.9538 - val_loss: 0.1240 - val_accuracy: 0.9517\n",
      "Epoch 80/100\n",
      "100778/100778 [==============================] - 0s 2us/step - loss: 0.1168 - accuracy: 0.9544 - val_loss: 0.1068 - val_accuracy: 0.9587\n",
      "Epoch 81/100\n",
      "100778/100778 [==============================] - 0s 2us/step - loss: 0.1081 - accuracy: 0.9588 - val_loss: 0.1290 - val_accuracy: 0.9516\n",
      "Epoch 82/100\n",
      "100778/100778 [==============================] - 0s 2us/step - loss: 0.1136 - accuracy: 0.9561 - val_loss: 0.1075 - val_accuracy: 0.9591\n",
      "Epoch 83/100\n",
      "100778/100778 [==============================] - 0s 2us/step - loss: 0.1124 - accuracy: 0.9556 - val_loss: 0.1118 - val_accuracy: 0.9588\n",
      "Epoch 84/100\n",
      "100778/100778 [==============================] - 0s 2us/step - loss: 0.1093 - accuracy: 0.9576 - val_loss: 0.1047 - val_accuracy: 0.9590\n",
      "Epoch 85/100\n",
      "100778/100778 [==============================] - 0s 2us/step - loss: 0.1072 - accuracy: 0.9583 - val_loss: 0.1127 - val_accuracy: 0.9571\n",
      "Epoch 86/100\n",
      "100778/100778 [==============================] - 0s 2us/step - loss: 0.1172 - accuracy: 0.9543 - val_loss: 0.1065 - val_accuracy: 0.9590\n",
      "Epoch 87/100\n",
      "100778/100778 [==============================] - 0s 2us/step - loss: 0.1094 - accuracy: 0.9572 - val_loss: 0.1186 - val_accuracy: 0.9562\n",
      "Epoch 88/100\n",
      "100778/100778 [==============================] - 0s 2us/step - loss: 0.1120 - accuracy: 0.9566 - val_loss: 0.1068 - val_accuracy: 0.9589\n",
      "Epoch 89/100\n",
      "100778/100778 [==============================] - 0s 2us/step - loss: 0.1136 - accuracy: 0.9553 - val_loss: 0.1221 - val_accuracy: 0.9553\n",
      "Epoch 90/100\n",
      "100778/100778 [==============================] - 0s 2us/step - loss: 0.1181 - accuracy: 0.9554 - val_loss: 0.1110 - val_accuracy: 0.9570\n",
      "Epoch 91/100\n",
      "100778/100778 [==============================] - 0s 2us/step - loss: 0.1087 - accuracy: 0.9589 - val_loss: 0.1105 - val_accuracy: 0.9545\n",
      "Epoch 92/100\n",
      "100778/100778 [==============================] - 0s 2us/step - loss: 0.1079 - accuracy: 0.9580 - val_loss: 0.1044 - val_accuracy: 0.9590\n",
      "Epoch 93/100\n",
      "100778/100778 [==============================] - 0s 2us/step - loss: 0.1056 - accuracy: 0.9583 - val_loss: 0.1119 - val_accuracy: 0.9574\n",
      "Epoch 94/100\n",
      "100778/100778 [==============================] - 0s 2us/step - loss: 0.1078 - accuracy: 0.9575 - val_loss: 0.1244 - val_accuracy: 0.9507\n",
      "Epoch 95/100\n",
      "100778/100778 [==============================] - 0s 2us/step - loss: 0.1114 - accuracy: 0.9567 - val_loss: 0.1032 - val_accuracy: 0.9563\n",
      "Epoch 96/100\n",
      "100778/100778 [==============================] - 0s 2us/step - loss: 0.1050 - accuracy: 0.9590 - val_loss: 0.1086 - val_accuracy: 0.9557\n",
      "Epoch 97/100\n",
      "100778/100778 [==============================] - 0s 2us/step - loss: 0.1071 - accuracy: 0.9588 - val_loss: 0.1022 - val_accuracy: 0.9592\n",
      "Epoch 98/100\n",
      "100778/100778 [==============================] - 0s 2us/step - loss: 0.1040 - accuracy: 0.9594 - val_loss: 0.1063 - val_accuracy: 0.9588\n",
      "Epoch 99/100\n",
      "100778/100778 [==============================] - 0s 2us/step - loss: 0.1055 - accuracy: 0.9583 - val_loss: 0.1104 - val_accuracy: 0.9569\n",
      "Epoch 100/100\n",
      "100778/100778 [==============================] - 0s 2us/step - loss: 0.1071 - accuracy: 0.9578 - val_loss: 0.1007 - val_accuracy: 0.9606\n"
     ]
    }
   ],
   "source": [
    "\n",
    "# fit the keras model on the dataset\n",
    "history = model.fit(X, y, epochs=100, batch_size=5000,validation_split=0.2)\n"
   ]
  },
  {
   "cell_type": "code",
   "execution_count": 7,
   "metadata": {},
   "outputs": [
    {
     "name": "stdout",
     "output_type": "stream",
     "text": [
      "22542/22542 [==============================] - 0s 19us/step\n",
      "Accuracy: 76.07\n"
     ]
    }
   ],
   "source": [
    "\n",
    "# evaluate the keras model\n",
    "_, accuracy = model.evaluate(X_test, y_test)\n",
    "print('Accuracy: %.2f' % (accuracy*100))"
   ]
  },
  {
   "cell_type": "code",
   "execution_count": 8,
   "metadata": {},
   "outputs": [
    {
     "data": {
      "text/plain": [
       "array([[9193,  517],\n",
       "       [4877, 7955]], dtype=int64)"
      ]
     },
     "execution_count": 8,
     "metadata": {},
     "output_type": "execute_result"
    }
   ],
   "source": [
    "from sklearn.metrics import confusion_matrix\n",
    "from sklearn.metrics import accuracy_score\n",
    "prediction=model.predict_classes(X_test)\n",
    "m=confusion_matrix(y_test,prediction)\n",
    "m"
   ]
  },
  {
   "cell_type": "code",
   "execution_count": 9,
   "metadata": {},
   "outputs": [
    {
     "data": {
      "image/png": "[encoded data removed]",
      "text/plain": [
       "<Figure size 432x288 with 1 Axes>"
      ]
     },
     "metadata": {
      "needs_background": "light"
     },
     "output_type": "display_data"
    }
   ],
   "source": [
    "import matplotlib.pyplot as plt\n",
    "plt.plot(history.history['accuracy'])\n",
    "plt.plot(history.history['val_accuracy'])\n",
    "plt.title('model accuracy')\n",
    "plt.ylabel('accuracy')\n",
    "plt.xlabel('epoch')\n",
    "plt.legend(['train', 'test'], loc='upper left')\n",
    "plt.show()"
   ]
  },
  {
   "cell_type": "code",
   "execution_count": 10,
   "metadata": {},
   "outputs": [
    {
     "name": "stdout",
     "output_type": "stream",
     "text": [
      "0.0\n"
     ]
    }
   ],
   "source": [
    "\n",
    "# make probability predictions with the model\n",
    "predictions = model.predict(X)\n",
    "# round predictions \n",
    "rounded = [round(x[0]) for x in predictions]\n",
    "print(rounded[1] )"
   ]
  }
 ],
 "metadata": {
  "kernelspec": {
   "display_name": "Python 3",
   "language": "python",
   "name": "python3"
  },
  "language_info": {
   "codemirror_mode": {
    "name": "ipython",
    "version": 3
   },
   "file_extension": ".py",
   "mimetype": "text/x-python",
   "name": "python",
   "nbconvert_exporter": "python",
   "pygments_lexer": "ipython3",
   "version": "3.7.6"
  }
 },
 "nbformat": 4,
 "nbformat_minor": 2
}
