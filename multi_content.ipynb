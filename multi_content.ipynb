{
 "cells": [
  {
   "cell_type": "code",
   "execution_count": 1,
   "metadata": {},
   "outputs": [
    {
     "name": "stderr",
     "output_type": "stream",
     "text": [
      "Using TensorFlow backend.\n"
     ]
    },
    {
     "name": "stdout",
     "output_type": "stream",
     "text": [
      "no of attributes are 18\n"
     ]
    }
   ],
   "source": [
    "from __future__ import print_function\n",
    "from sklearn.model_selection import train_test_split\n",
    "import pandas as pd\n",
    "import numpy as np\n",
    "np.random.seed(1337)  # for reproducibility\n",
    "from keras.preprocessing import sequence\n",
    "from keras.utils import np_utils\n",
    "from keras.models import Sequential\n",
    "from keras.layers import Dense, Dropout, Activation, Embedding\n",
    "from keras.layers import LSTM, SimpleRNN, GRU\n",
    "from keras.datasets import imdb\n",
    "from keras.utils.np_utils import to_categorical\n",
    "from sklearn.metrics import (precision_score, recall_score,f1_score, accuracy_score,mean_squared_error,mean_absolute_error)\n",
    "from sklearn import metrics\n",
    "from sklearn.preprocessing import Normalizer\n",
    "import h5py\n",
    "from keras import callbacks\n",
    "from keras.callbacks import ModelCheckpoint, EarlyStopping, ReduceLROnPlateau, CSVLogger\n",
    "\n",
    "\n",
    "file=\"content\"\n",
    "traindir=\"datasets/multiclass_train\"\n",
    "testdir=\"datasets/multiclass_test\"\n",
    "\n",
    "traindata = pd.read_csv(f\"{traindir}/processed/{file}.csv\")\n",
    "testdata = pd.read_csv(f\"{testdir}/processed/{file}.csv\")\n",
    "testdata\n",
    "traindata\n",
    "n=len(traindata.count())\n",
    "print(f\"no of attributes are {n}\")"
   ]
  },
  {
   "cell_type": "code",
   "execution_count": 2,
   "metadata": {},
   "outputs": [
    {
     "data": {
      "text/plain": [
       "(125973, 5)"
      ]
     },
     "execution_count": 2,
     "metadata": {},
     "output_type": "execute_result"
    }
   ],
   "source": [
    "X = traindata.iloc[:,0:n-5]\n",
    "Y = traindata.iloc[:,n-5:n]\n",
    "C = testdata.iloc[:,0:n-5]\n",
    "T = testdata.iloc[:,n-5:n]\n",
    "Y.shape"
   ]
  },
  {
   "cell_type": "code",
   "execution_count": 3,
   "metadata": {},
   "outputs": [],
   "source": [
    "# 1. define the network\n",
    "model = Sequential()\n",
    "model.add(Dense(32,input_dim=n-5,activation='relu'))\n",
    "model.add(Dropout(0.01))\n",
    "model.add(Dense(24,activation='relu'))\n",
    "model.add(Dropout(0.01))\n",
    "model.add(Dense(5, activation='softmax'))"
   ]
  },
  {
   "cell_type": "code",
   "execution_count": 4,
   "metadata": {},
   "outputs": [
    {
     "name": "stdout",
     "output_type": "stream",
     "text": [
      "Train on 100778 samples, validate on 25195 samples\n",
      "Epoch 1/100\n",
      "100778/100778 [==============================] - 0s 4us/step - loss: 1.5589 - accuracy: 0.3908 - val_loss: 1.4825 - val_accuracy: 0.5337\n",
      "Epoch 2/100\n",
      "100778/100778 [==============================] - 0s 3us/step - loss: 1.4126 - accuracy: 0.5348 - val_loss: 1.3254 - val_accuracy: 0.5338\n",
      "Epoch 3/100\n",
      "100778/100778 [==============================] - 0s 3us/step - loss: 1.2405 - accuracy: 0.5348 - val_loss: 1.1313 - val_accuracy: 0.5338\n",
      "Epoch 4/100\n",
      "100778/100778 [==============================] - 0s 3us/step - loss: 1.0450 - accuracy: 0.5348 - val_loss: 0.9524 - val_accuracy: 0.5338\n",
      "Epoch 5/100\n",
      "100778/100778 [==============================] - 0s 3us/step - loss: 0.9013 - accuracy: 0.5349 - val_loss: 0.8448 - val_accuracy: 0.5338\n",
      "Epoch 6/100\n",
      "100778/100778 [==============================] - 0s 3us/step - loss: 0.8133 - accuracy: 0.5989 - val_loss: 0.7708 - val_accuracy: 0.7401\n",
      "Epoch 7/100\n",
      "100778/100778 [==============================] - 0s 3us/step - loss: 0.7485 - accuracy: 0.7340 - val_loss: 0.7179 - val_accuracy: 0.7397\n",
      "Epoch 8/100\n",
      "100778/100778 [==============================] - 0s 3us/step - loss: 0.7092 - accuracy: 0.7362 - val_loss: 0.6903 - val_accuracy: 0.7397\n",
      "Epoch 9/100\n",
      "100778/100778 [==============================] - 0s 3us/step - loss: 0.6888 - accuracy: 0.7363 - val_loss: 0.6758 - val_accuracy: 0.7397\n",
      "Epoch 10/100\n",
      "100778/100778 [==============================] - 0s 3us/step - loss: 0.6778 - accuracy: 0.7363 - val_loss: 0.6675 - val_accuracy: 0.7397\n",
      "Epoch 11/100\n",
      "100778/100778 [==============================] - 0s 3us/step - loss: 0.6705 - accuracy: 0.7362 - val_loss: 0.6623 - val_accuracy: 0.7397\n",
      "Epoch 12/100\n",
      "100778/100778 [==============================] - 0s 3us/step - loss: 0.6664 - accuracy: 0.7362 - val_loss: 0.6587 - val_accuracy: 0.7397\n",
      "Epoch 13/100\n",
      "100778/100778 [==============================] - 0s 3us/step - loss: 0.6626 - accuracy: 0.7364 - val_loss: 0.6560 - val_accuracy: 0.7401\n",
      "Epoch 14/100\n",
      "100778/100778 [==============================] - 0s 3us/step - loss: 0.6605 - accuracy: 0.7364 - val_loss: 0.6539 - val_accuracy: 0.7401\n",
      "Epoch 15/100\n",
      "100778/100778 [==============================] - 0s 3us/step - loss: 0.6584 - accuracy: 0.7365 - val_loss: 0.6522 - val_accuracy: 0.7401\n",
      "Epoch 16/100\n",
      "100778/100778 [==============================] - 0s 3us/step - loss: 0.6566 - accuracy: 0.7364 - val_loss: 0.6508 - val_accuracy: 0.7401\n",
      "Epoch 17/100\n",
      "100778/100778 [==============================] - 0s 3us/step - loss: 0.6558 - accuracy: 0.7365 - val_loss: 0.6497 - val_accuracy: 0.7401\n",
      "Epoch 18/100\n",
      "100778/100778 [==============================] - ETA: 0s - loss: 0.6556 - accuracy: 0.73 - 0s 4us/step - loss: 0.6551 - accuracy: 0.7364 - val_loss: 0.6488 - val_accuracy: 0.7401\n",
      "Epoch 19/100\n",
      "100778/100778 [==============================] - 0s 4us/step - loss: 0.6539 - accuracy: 0.7364 - val_loss: 0.6480 - val_accuracy: 0.7401\n",
      "Epoch 20/100\n",
      "100778/100778 [==============================] - 0s 3us/step - loss: 0.6532 - accuracy: 0.7364 - val_loss: 0.6474 - val_accuracy: 0.7401\n",
      "Epoch 21/100\n",
      "100778/100778 [==============================] - 0s 3us/step - loss: 0.6526 - accuracy: 0.7363 - val_loss: 0.6469 - val_accuracy: 0.7401\n",
      "Epoch 22/100\n",
      "100778/100778 [==============================] - 0s 5us/step - loss: 0.6524 - accuracy: 0.7363 - val_loss: 0.6463 - val_accuracy: 0.7401\n",
      "Epoch 23/100\n",
      "100778/100778 [==============================] - 0s 3us/step - loss: 0.6519 - accuracy: 0.7364 - val_loss: 0.6458 - val_accuracy: 0.7401\n",
      "Epoch 24/100\n",
      "100778/100778 [==============================] - 0s 4us/step - loss: 0.6510 - accuracy: 0.7363 - val_loss: 0.6454 - val_accuracy: 0.7401\n",
      "Epoch 25/100\n",
      "100778/100778 [==============================] - 0s 3us/step - loss: 0.6508 - accuracy: 0.7364 - val_loss: 0.6451 - val_accuracy: 0.7401\n",
      "Epoch 26/100\n",
      "100778/100778 [==============================] - ETA: 0s - loss: 0.6497 - accuracy: 0.73 - 0s 4us/step - loss: 0.6500 - accuracy: 0.7363 - val_loss: 0.6446 - val_accuracy: 0.7401\n",
      "Epoch 27/100\n",
      "100778/100778 [==============================] - 0s 3us/step - loss: 0.6499 - accuracy: 0.7365 - val_loss: 0.6443 - val_accuracy: 0.7401\n",
      "Epoch 28/100\n",
      "100778/100778 [==============================] - 0s 3us/step - loss: 0.6499 - accuracy: 0.7364 - val_loss: 0.6439 - val_accuracy: 0.7401\n",
      "Epoch 29/100\n",
      "100778/100778 [==============================] - 0s 3us/step - loss: 0.6495 - accuracy: 0.7364 - val_loss: 0.6436 - val_accuracy: 0.7401\n",
      "Epoch 30/100\n",
      "100778/100778 [==============================] - 0s 3us/step - loss: 0.6491 - accuracy: 0.7365 - val_loss: 0.6433 - val_accuracy: 0.7401\n",
      "Epoch 31/100\n",
      "100778/100778 [==============================] - 0s 4us/step - loss: 0.6488 - accuracy: 0.7365 - val_loss: 0.6431 - val_accuracy: 0.7401\n",
      "Epoch 32/100\n",
      "100778/100778 [==============================] - 0s 4us/step - loss: 0.6483 - accuracy: 0.7365 - val_loss: 0.6427 - val_accuracy: 0.7401\n",
      "Epoch 33/100\n",
      "100778/100778 [==============================] - 0s 3us/step - loss: 0.6482 - accuracy: 0.7362 - val_loss: 0.6424 - val_accuracy: 0.7401\n",
      "Epoch 34/100\n",
      "100778/100778 [==============================] - 0s 4us/step - loss: 0.6478 - accuracy: 0.7363 - val_loss: 0.6420 - val_accuracy: 0.7401\n",
      "Epoch 35/100\n",
      "100778/100778 [==============================] - 0s 3us/step - loss: 0.6473 - accuracy: 0.7365 - val_loss: 0.6416 - val_accuracy: 0.7401\n",
      "Epoch 36/100\n",
      "100778/100778 [==============================] - 0s 4us/step - loss: 0.6472 - accuracy: 0.7365 - val_loss: 0.6412 - val_accuracy: 0.7401\n",
      "Epoch 37/100\n",
      "100778/100778 [==============================] - 0s 3us/step - loss: 0.6466 - accuracy: 0.7365 - val_loss: 0.6406 - val_accuracy: 0.7401\n",
      "Epoch 38/100\n",
      "100778/100778 [==============================] - 0s 3us/step - loss: 0.6457 - accuracy: 0.7365 - val_loss: 0.6401 - val_accuracy: 0.7401\n",
      "Epoch 39/100\n",
      "100778/100778 [==============================] - 0s 4us/step - loss: 0.6453 - accuracy: 0.7366 - val_loss: 0.6395 - val_accuracy: 0.7401\n",
      "Epoch 40/100\n",
      "100778/100778 [==============================] - 0s 5us/step - loss: 0.6449 - accuracy: 0.7366 - val_loss: 0.6388 - val_accuracy: 0.7401\n",
      "Epoch 41/100\n",
      "100778/100778 [==============================] - 1s 6us/step - loss: 0.6445 - accuracy: 0.7364 - val_loss: 0.6382 - val_accuracy: 0.7402\n",
      "Epoch 42/100\n",
      "100778/100778 [==============================] - 1s 6us/step - loss: 0.6435 - accuracy: 0.7364 - val_loss: 0.6374 - val_accuracy: 0.7402\n",
      "Epoch 43/100\n",
      "100778/100778 [==============================] - 1s 5us/step - loss: 0.6429 - accuracy: 0.7370 - val_loss: 0.6367 - val_accuracy: 0.7402\n",
      "Epoch 44/100\n",
      "100778/100778 [==============================] - 0s 3us/step - loss: 0.6422 - accuracy: 0.7364 - val_loss: 0.6359 - val_accuracy: 0.7402\n",
      "Epoch 45/100\n",
      "100778/100778 [==============================] - 0s 3us/step - loss: 0.6413 - accuracy: 0.7367 - val_loss: 0.6351 - val_accuracy: 0.7402\n",
      "Epoch 46/100\n",
      "100778/100778 [==============================] - 0s 4us/step - loss: 0.6403 - accuracy: 0.7371 - val_loss: 0.6341 - val_accuracy: 0.7402\n",
      "Epoch 47/100\n",
      "100778/100778 [==============================] - 0s 4us/step - loss: 0.6395 - accuracy: 0.7366 - val_loss: 0.6330 - val_accuracy: 0.7402\n",
      "Epoch 48/100\n",
      "100778/100778 [==============================] - 0s 4us/step - loss: 0.6383 - accuracy: 0.7377 - val_loss: 0.6321 - val_accuracy: 0.7424\n",
      "Epoch 49/100\n",
      "100778/100778 [==============================] - 0s 4us/step - loss: 0.6375 - accuracy: 0.7376 - val_loss: 0.6311 - val_accuracy: 0.7430\n",
      "Epoch 50/100\n",
      "100778/100778 [==============================] - 0s 5us/step - loss: 0.6362 - accuracy: 0.7381 - val_loss: 0.6296 - val_accuracy: 0.7408\n",
      "Epoch 51/100\n",
      "100778/100778 [==============================] - 0s 4us/step - loss: 0.6349 - accuracy: 0.7373 - val_loss: 0.6283 - val_accuracy: 0.7430\n",
      "Epoch 52/100\n",
      "100778/100778 [==============================] - 0s 4us/step - loss: 0.6334 - accuracy: 0.7374 - val_loss: 0.6269 - val_accuracy: 0.7430\n",
      "Epoch 53/100\n",
      "100778/100778 [==============================] - 0s 4us/step - loss: 0.6322 - accuracy: 0.7383 - val_loss: 0.6258 - val_accuracy: 0.7430\n",
      "Epoch 54/100\n",
      "100778/100778 [==============================] - 0s 4us/step - loss: 0.6308 - accuracy: 0.7385 - val_loss: 0.6245 - val_accuracy: 0.7408\n"
     ]
    },
    {
     "name": "stdout",
     "output_type": "stream",
     "text": [
      "Epoch 55/100\n",
      "100778/100778 [==============================] - 0s 3us/step - loss: 0.6298 - accuracy: 0.7375 - val_loss: 0.6233 - val_accuracy: 0.7430\n",
      "Epoch 56/100\n",
      "100778/100778 [==============================] - 0s 4us/step - loss: 0.6290 - accuracy: 0.7383 - val_loss: 0.6219 - val_accuracy: 0.7428\n",
      "Epoch 57/100\n",
      "100778/100778 [==============================] - 0s 3us/step - loss: 0.6278 - accuracy: 0.7386 - val_loss: 0.6207 - val_accuracy: 0.7428\n",
      "Epoch 58/100\n",
      "100778/100778 [==============================] - 0s 4us/step - loss: 0.6260 - accuracy: 0.7384 - val_loss: 0.6197 - val_accuracy: 0.7428\n",
      "Epoch 59/100\n",
      "100778/100778 [==============================] - 0s 3us/step - loss: 0.6255 - accuracy: 0.7385 - val_loss: 0.6186 - val_accuracy: 0.7427\n",
      "Epoch 60/100\n",
      "100778/100778 [==============================] - 0s 4us/step - loss: 0.6249 - accuracy: 0.7387 - val_loss: 0.6177 - val_accuracy: 0.7427\n",
      "Epoch 61/100\n",
      "100778/100778 [==============================] - 0s 4us/step - loss: 0.6240 - accuracy: 0.7396 - val_loss: 0.6173 - val_accuracy: 0.7427\n",
      "Epoch 62/100\n",
      "100778/100778 [==============================] - 0s 4us/step - loss: 0.6232 - accuracy: 0.7410 - val_loss: 0.6167 - val_accuracy: 0.7490\n",
      "Epoch 63/100\n",
      "100778/100778 [==============================] - 0s 4us/step - loss: 0.6227 - accuracy: 0.7431 - val_loss: 0.6159 - val_accuracy: 0.7490\n",
      "Epoch 64/100\n",
      "100778/100778 [==============================] - 0s 4us/step - loss: 0.6219 - accuracy: 0.7439 - val_loss: 0.6153 - val_accuracy: 0.7490\n",
      "Epoch 65/100\n",
      "100778/100778 [==============================] - 0s 4us/step - loss: 0.6216 - accuracy: 0.7435 - val_loss: 0.6150 - val_accuracy: 0.7490\n",
      "Epoch 66/100\n",
      "100778/100778 [==============================] - 0s 4us/step - loss: 0.6209 - accuracy: 0.7442 - val_loss: 0.6146 - val_accuracy: 0.7490\n",
      "Epoch 67/100\n",
      "100778/100778 [==============================] - 0s 4us/step - loss: 0.6210 - accuracy: 0.7439 - val_loss: 0.6142 - val_accuracy: 0.7490\n",
      "Epoch 68/100\n",
      "100778/100778 [==============================] - 0s 4us/step - loss: 0.6201 - accuracy: 0.7443 - val_loss: 0.6138 - val_accuracy: 0.7490\n",
      "Epoch 69/100\n",
      "100778/100778 [==============================] - 0s 4us/step - loss: 0.6202 - accuracy: 0.7443 - val_loss: 0.6139 - val_accuracy: 0.7490\n",
      "Epoch 70/100\n",
      "100778/100778 [==============================] - 0s 3us/step - loss: 0.6196 - accuracy: 0.7443 - val_loss: 0.6132 - val_accuracy: 0.7490\n",
      "Epoch 71/100\n",
      "100778/100778 [==============================] - 0s 3us/step - loss: 0.6193 - accuracy: 0.7443 - val_loss: 0.6131 - val_accuracy: 0.7490\n",
      "Epoch 72/100\n",
      "100778/100778 [==============================] - 0s 4us/step - loss: 0.6193 - accuracy: 0.7444 - val_loss: 0.6130 - val_accuracy: 0.7490\n",
      "Epoch 73/100\n",
      "100778/100778 [==============================] - 0s 3us/step - loss: 0.6191 - accuracy: 0.7442 - val_loss: 0.6128 - val_accuracy: 0.7490\n",
      "Epoch 74/100\n",
      "100778/100778 [==============================] - 0s 3us/step - loss: 0.6189 - accuracy: 0.7443 - val_loss: 0.6125 - val_accuracy: 0.7490\n",
      "Epoch 75/100\n",
      "100778/100778 [==============================] - 0s 3us/step - loss: 0.6188 - accuracy: 0.7444 - val_loss: 0.6125 - val_accuracy: 0.7490\n",
      "Epoch 76/100\n",
      "100778/100778 [==============================] - 0s 4us/step - loss: 0.6186 - accuracy: 0.7444 - val_loss: 0.6125 - val_accuracy: 0.7490\n",
      "Epoch 77/100\n",
      "100778/100778 [==============================] - 0s 4us/step - loss: 0.6184 - accuracy: 0.7443 - val_loss: 0.6123 - val_accuracy: 0.7490\n",
      "Epoch 78/100\n",
      "100778/100778 [==============================] - 0s 4us/step - loss: 0.6184 - accuracy: 0.7444 - val_loss: 0.6120 - val_accuracy: 0.7490\n",
      "Epoch 79/100\n",
      "100778/100778 [==============================] - 0s 4us/step - loss: 0.6180 - accuracy: 0.7443 - val_loss: 0.6121 - val_accuracy: 0.7490\n",
      "Epoch 80/100\n",
      "100778/100778 [==============================] - 0s 4us/step - loss: 0.6182 - accuracy: 0.7443 - val_loss: 0.6118 - val_accuracy: 0.7491\n",
      "Epoch 81/100\n",
      "100778/100778 [==============================] - 0s 4us/step - loss: 0.6180 - accuracy: 0.7444 - val_loss: 0.6117 - val_accuracy: 0.7491\n",
      "Epoch 82/100\n",
      "100778/100778 [==============================] - 0s 4us/step - loss: 0.6180 - accuracy: 0.7444 - val_loss: 0.6117 - val_accuracy: 0.7491\n",
      "Epoch 83/100\n",
      "100778/100778 [==============================] - 0s 4us/step - loss: 0.6177 - accuracy: 0.7444 - val_loss: 0.6115 - val_accuracy: 0.7491\n",
      "Epoch 84/100\n",
      "100778/100778 [==============================] - 0s 4us/step - loss: 0.6176 - accuracy: 0.7445 - val_loss: 0.6115 - val_accuracy: 0.7491\n",
      "Epoch 85/100\n",
      "100778/100778 [==============================] - 0s 4us/step - loss: 0.6176 - accuracy: 0.7445 - val_loss: 0.6114 - val_accuracy: 0.7491\n",
      "Epoch 86/100\n",
      "100778/100778 [==============================] - 0s 4us/step - loss: 0.6175 - accuracy: 0.7444 - val_loss: 0.6113 - val_accuracy: 0.7491\n",
      "Epoch 87/100\n",
      "100778/100778 [==============================] - 0s 4us/step - loss: 0.6176 - accuracy: 0.7445 - val_loss: 0.6114 - val_accuracy: 0.7491\n",
      "Epoch 88/100\n",
      "100778/100778 [==============================] - 0s 4us/step - loss: 0.6173 - accuracy: 0.7444 - val_loss: 0.6113 - val_accuracy: 0.7491\n",
      "Epoch 89/100\n",
      "100778/100778 [==============================] - 0s 4us/step - loss: 0.6174 - accuracy: 0.7445 - val_loss: 0.6112 - val_accuracy: 0.7491\n",
      "Epoch 90/100\n",
      "100778/100778 [==============================] - 0s 4us/step - loss: 0.6173 - accuracy: 0.7445 - val_loss: 0.6112 - val_accuracy: 0.7491\n",
      "Epoch 91/100\n",
      "100778/100778 [==============================] - 0s 4us/step - loss: 0.6173 - accuracy: 0.7444 - val_loss: 0.6111 - val_accuracy: 0.7491\n",
      "Epoch 92/100\n",
      "100778/100778 [==============================] - 0s 4us/step - loss: 0.6171 - accuracy: 0.7444 - val_loss: 0.6111 - val_accuracy: 0.7491\n",
      "Epoch 93/100\n",
      "100778/100778 [==============================] - 0s 3us/step - loss: 0.6173 - accuracy: 0.7445 - val_loss: 0.6111 - val_accuracy: 0.7491\n",
      "Epoch 94/100\n",
      "100778/100778 [==============================] - 0s 3us/step - loss: 0.6172 - accuracy: 0.7445 - val_loss: 0.6110 - val_accuracy: 0.7491\n",
      "Epoch 95/100\n",
      "100778/100778 [==============================] - 0s 3us/step - loss: 0.6171 - accuracy: 0.7445 - val_loss: 0.6109 - val_accuracy: 0.7491\n",
      "Epoch 96/100\n",
      "100778/100778 [==============================] - 0s 3us/step - loss: 0.6172 - accuracy: 0.7446 - val_loss: 0.6109 - val_accuracy: 0.7491\n",
      "Epoch 97/100\n",
      "100778/100778 [==============================] - 0s 3us/step - loss: 0.6169 - accuracy: 0.7445 - val_loss: 0.6107 - val_accuracy: 0.7491\n",
      "Epoch 98/100\n",
      "100778/100778 [==============================] - 0s 3us/step - loss: 0.6166 - accuracy: 0.7446 - val_loss: 0.6107 - val_accuracy: 0.7491\n",
      "Epoch 99/100\n",
      "100778/100778 [==============================] - 0s 3us/step - loss: 0.6166 - accuracy: 0.7446 - val_loss: 0.6107 - val_accuracy: 0.7491\n",
      "Epoch 100/100\n",
      "100778/100778 [==============================] - 0s 3us/step - loss: 0.6167 - accuracy: 0.7445 - val_loss: 0.6108 - val_accuracy: 0.7491\n"
     ]
    }
   ],
   "source": [
    "# try using different optimizers and different optimizer configs\n",
    "model.compile(loss='categorical_crossentropy',optimizer='adam',metrics=['accuracy'])\n",
    "\n",
    "history = model.fit(X, Y,batch_size=4000,epochs=100,validation_split=0.2)\n",
    "\n",
    "model.save(f\"{testdir}/processed/{file}.hdf5\")\n",
    "\n",
    "import dill as pickle\n",
    "with open('history', 'wb') as file_pi:\n",
    "    pickle.dump(f\"{testdir}/processed/{file}.history\", file_pi)"
   ]
  },
  {
   "cell_type": "code",
   "execution_count": 5,
   "metadata": {},
   "outputs": [
    {
     "name": "stdout",
     "output_type": "stream",
     "text": [
      "22542/22542 [==============================] - 1s 23us/step\n",
      "Accuracy: 62.04\n"
     ]
    }
   ],
   "source": [
    "\n",
    "import tensorflow as tf\n",
    "C = testdata.iloc[:,0:n-5]\n",
    "T = testdata.iloc[:,n-5:n]\n",
    "_, accuracy = model.evaluate(C,T)\n",
    "print('Accuracy: %.2f' % (accuracy*100))\n",
    "prediction=model.predict_classes(C)\n"
   ]
  },
  {
   "cell_type": "code",
   "execution_count": 6,
   "metadata": {},
   "outputs": [
    {
     "data": {
      "image/png": "[encoded data removed]",
      "text/plain": [
       "<Figure size 432x288 with 1 Axes>"
      ]
     },
     "metadata": {
      "needs_background": "light"
     },
     "output_type": "display_data"
    }
   ],
   "source": [
    "import matplotlib.pyplot as plt\n",
    "plt.plot(history.history['accuracy'])\n",
    "plt.plot(history.history['val_accuracy'])\n",
    "plt.title('model accuracy')\n",
    "plt.ylabel('accuracy')\n",
    "plt.xlabel('epoch')\n",
    "plt.legend(['train', 'test'], loc='upper left')\n",
    "plt.show()"
   ]
  },
  {
   "cell_type": "code",
   "execution_count": 7,
   "metadata": {
    "scrolled": true
   },
   "outputs": [
    {
     "data": {
      "image/png": "[encoded data removed]",
      "text/plain": [
       "<Figure size 432x288 with 1 Axes>"
      ]
     },
     "metadata": {
      "needs_background": "light"
     },
     "output_type": "display_data"
    }
   ],
   "source": [
    "# summarize history for loss\n",
    "plt.plot(history.history['loss'])\n",
    "plt.plot(history.history['val_loss'])\n",
    "plt.title('model loss')\n",
    "plt.ylabel('loss')\n",
    "plt.xlabel('epoch')\n",
    "plt.legend(['train', 'test'], loc='upper left')\n",
    "plt.show()"
   ]
  },
  {
   "cell_type": "code",
   "execution_count": 8,
   "metadata": {},
   "outputs": [
    {
     "name": "stdout",
     "output_type": "stream",
     "text": [
      "[[1. 0. 0. 0. 0.]]\n",
      "(22542, 5)\n"
     ]
    },
    {
     "data": {
      "text/plain": [
       "array([[1., 0., 0., 0., 0.],\n",
       "       [1., 0., 0., 0., 0.],\n",
       "       [1., 0., 0., 0., 0.],\n",
       "       ...,\n",
       "       [1., 0., 0., 0., 0.],\n",
       "       [1., 0., 0., 0., 0.],\n",
       "       [1., 0., 0., 0., 0.]], dtype=float32)"
      ]
     },
     "execution_count": 8,
     "metadata": {},
     "output_type": "execute_result"
    }
   ],
   "source": [
    "p=model.predict(C[0:1])\n",
    "p=np.rint(p)\n",
    "\n",
    "print(p)\n",
    "print(T.shape)\n",
    "rounded_labels=np.argmax(T.to_numpy(),axis=1)\n",
    "prediction=model.predict(C)\n",
    "prediction=np.rint(prediction)\n",
    "prediction"
   ]
  },
  {
   "cell_type": "code",
   "execution_count": 9,
   "metadata": {},
   "outputs": [
    {
     "data": {
      "text/plain": [
       "array([[[ 9295,  5788],\n",
       "        [  830,  6629]],\n",
       "\n",
       "       [[10074,  2758],\n",
       "        [ 2361,  7349]],\n",
       "\n",
       "       [[20121,     0],\n",
       "        [ 2421,     0]],\n",
       "\n",
       "       [[19650,     7],\n",
       "        [ 2884,     1]],\n",
       "\n",
       "       [[22475,     0],\n",
       "        [   64,     3]]], dtype=int64)"
      ]
     },
     "execution_count": 9,
     "metadata": {},
     "output_type": "execute_result"
    }
   ],
   "source": [
    "from sklearn.metrics import multilabel_confusion_matrix\n",
    "prediction=np.rint(prediction)\n",
    "original_value=np.rint(T)\n",
    "cm=multilabel_confusion_matrix(original_value, prediction)\n",
    "cm"
   ]
  }
 ],
 "metadata": {
  "kernelspec": {
   "display_name": "Python 3",
   "language": "python",
   "name": "python3"
  },
  "language_info": {
   "codemirror_mode": {
    "name": "ipython",
    "version": 3
   },
   "file_extension": ".py",
   "mimetype": "text/x-python",
   "name": "python",
   "nbconvert_exporter": "python",
   "pygments_lexer": "ipython3",
   "version": "3.8.2"
  }
 },
 "nbformat": 4,
 "nbformat_minor": 2
}
