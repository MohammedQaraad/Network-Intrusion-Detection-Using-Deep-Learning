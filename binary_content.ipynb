{
 "cells": [
  {
   "cell_type": "code",
   "execution_count": 1,
   "metadata": {},
   "outputs": [
    {
     "name": "stderr",
     "output_type": "stream",
     "text": [
      "Using TensorFlow backend.\n"
     ]
    }
   ],
   "source": [
    "# first neural network with keras tutorial\n",
    "from numpy import loadtxt\n",
    "from keras.models import Sequential\n",
    "from keras.layers import Dense\n",
    "import pandas as pd\n",
    "\n",
    "file=\"content\"\n",
    "traindir=\"datasets/binary_train\"\n",
    "testdir=\"datasets/binary_test\"\n"
   ]
  },
  {
   "cell_type": "code",
   "execution_count": 2,
   "metadata": {},
   "outputs": [
    {
     "data": {
      "text/plain": [
       "14"
      ]
     },
     "execution_count": 2,
     "metadata": {},
     "output_type": "execute_result"
    }
   ],
   "source": [
    "# load the dataset\n",
    "traindata = pd.read_csv(f\"{traindir}/processed/{file}.csv\")\n",
    "testdata = pd.read_csv(f\"{testdir}/processed/{file}.csv\")\n",
    "n=len(traindata.count())\n",
    "n"
   ]
  },
  {
   "cell_type": "code",
   "execution_count": 4,
   "metadata": {},
   "outputs": [],
   "source": [
    "# split into input (X) and output (y) variables\n",
    "X = traindata.iloc[:,0:n-1]\n",
    "y = traindata.iloc[:,n-1]\n",
    "X_test = testdata.iloc[:,0:n-1]\n",
    "y_test = testdata.iloc[:,n-1]"
   ]
  },
  {
   "cell_type": "code",
   "execution_count": 5,
   "metadata": {},
   "outputs": [],
   "source": [
    "# define the keras model\n",
    "model = Sequential()\n",
    "model.add(Dense(64, input_dim=n-1, activation='relu'))\n",
    "model.add(Dense(36, activation='relu'))\n",
    "model.add(Dense(24, activation='relu'))\n",
    "model.add(Dense(1, activation='sigmoid'))"
   ]
  },
  {
   "cell_type": "code",
   "execution_count": 6,
   "metadata": {},
   "outputs": [],
   "source": [
    "\n",
    "# compile the keras model\n",
    "\n",
    "model.compile(loss='binary_crossentropy', optimizer='adam', metrics=['accuracy'])"
   ]
  },
  {
   "cell_type": "code",
   "execution_count": 7,
   "metadata": {},
   "outputs": [
    {
     "name": "stdout",
     "output_type": "stream",
     "text": [
      "Train on 100778 samples, validate on 25195 samples\n",
      "Epoch 1/100\n",
      "100778/100778 [==============================] - 1s 5us/step - loss: 0.6500 - accuracy: 0.5342 - val_loss: 0.6132 - val_accuracy: 0.5338\n",
      "Epoch 2/100\n",
      "100778/100778 [==============================] - 0s 2us/step - loss: 0.5761 - accuracy: 0.7543 - val_loss: 0.5272 - val_accuracy: 0.8323\n",
      "Epoch 3/100\n",
      "100778/100778 [==============================] - 0s 2us/step - loss: 0.4907 - accuracy: 0.8283 - val_loss: 0.4481 - val_accuracy: 0.8326\n",
      "Epoch 4/100\n",
      "100778/100778 [==============================] - 0s 2us/step - loss: 0.4261 - accuracy: 0.8324 - val_loss: 0.4001 - val_accuracy: 0.8396\n",
      "Epoch 5/100\n",
      "100778/100778 [==============================] - 0s 2us/step - loss: 0.3918 - accuracy: 0.8358 - val_loss: 0.3799 - val_accuracy: 0.8389\n",
      "Epoch 6/100\n",
      "100778/100778 [==============================] - 0s 3us/step - loss: 0.3824 - accuracy: 0.8358 - val_loss: 0.3772 - val_accuracy: 0.8395\n",
      "Epoch 7/100\n",
      "100778/100778 [==============================] - 0s 2us/step - loss: 0.3812 - accuracy: 0.8354 - val_loss: 0.3781 - val_accuracy: 0.8383\n",
      "Epoch 8/100\n",
      "100778/100778 [==============================] - 0s 2us/step - loss: 0.3807 - accuracy: 0.8360 - val_loss: 0.3775 - val_accuracy: 0.8383\n",
      "Epoch 9/100\n",
      "100778/100778 [==============================] - 0s 2us/step - loss: 0.3806 - accuracy: 0.8359 - val_loss: 0.3758 - val_accuracy: 0.8396\n",
      "Epoch 10/100\n",
      "100778/100778 [==============================] - 0s 2us/step - loss: 0.3800 - accuracy: 0.8357 - val_loss: 0.3772 - val_accuracy: 0.8383\n",
      "Epoch 11/100\n",
      "100778/100778 [==============================] - 0s 2us/step - loss: 0.3800 - accuracy: 0.8359 - val_loss: 0.3757 - val_accuracy: 0.8389\n",
      "Epoch 12/100\n",
      "100778/100778 [==============================] - 0s 2us/step - loss: 0.3797 - accuracy: 0.8359 - val_loss: 0.3751 - val_accuracy: 0.8395\n",
      "Epoch 13/100\n",
      "100778/100778 [==============================] - 0s 2us/step - loss: 0.3794 - accuracy: 0.8358 - val_loss: 0.3750 - val_accuracy: 0.8396\n",
      "Epoch 14/100\n",
      "100778/100778 [==============================] - 0s 2us/step - loss: 0.3793 - accuracy: 0.8360 - val_loss: 0.3760 - val_accuracy: 0.8389\n",
      "Epoch 15/100\n",
      "100778/100778 [==============================] - 0s 2us/step - loss: 0.3793 - accuracy: 0.8360 - val_loss: 0.3752 - val_accuracy: 0.8395\n",
      "Epoch 16/100\n",
      "100778/100778 [==============================] - 0s 2us/step - loss: 0.3795 - accuracy: 0.8359 - val_loss: 0.3758 - val_accuracy: 0.8396\n",
      "Epoch 17/100\n",
      "100778/100778 [==============================] - 0s 2us/step - loss: 0.3789 - accuracy: 0.8358 - val_loss: 0.3763 - val_accuracy: 0.8396\n",
      "Epoch 18/100\n",
      "100778/100778 [==============================] - 0s 2us/step - loss: 0.3792 - accuracy: 0.8360 - val_loss: 0.3756 - val_accuracy: 0.8397\n",
      "Epoch 19/100\n",
      "100778/100778 [==============================] - 0s 2us/step - loss: 0.3792 - accuracy: 0.8360 - val_loss: 0.3773 - val_accuracy: 0.8390\n",
      "Epoch 20/100\n",
      "100778/100778 [==============================] - 0s 3us/step - loss: 0.3790 - accuracy: 0.8359 - val_loss: 0.3768 - val_accuracy: 0.8397\n",
      "Epoch 21/100\n",
      "100778/100778 [==============================] - 0s 3us/step - loss: 0.3794 - accuracy: 0.8360 - val_loss: 0.3746 - val_accuracy: 0.8391\n",
      "Epoch 22/100\n",
      "100778/100778 [==============================] - 0s 2us/step - loss: 0.3789 - accuracy: 0.8363 - val_loss: 0.3742 - val_accuracy: 0.8397\n",
      "Epoch 23/100\n",
      "100778/100778 [==============================] - 0s 3us/step - loss: 0.3787 - accuracy: 0.8361 - val_loss: 0.3740 - val_accuracy: 0.8397\n",
      "Epoch 24/100\n",
      "100778/100778 [==============================] - 0s 2us/step - loss: 0.3789 - accuracy: 0.8362 - val_loss: 0.3759 - val_accuracy: 0.8384\n",
      "Epoch 25/100\n",
      "100778/100778 [==============================] - 0s 2us/step - loss: 0.3785 - accuracy: 0.8358 - val_loss: 0.3760 - val_accuracy: 0.8390\n",
      "Epoch 26/100\n",
      "100778/100778 [==============================] - 0s 2us/step - loss: 0.3784 - accuracy: 0.8359 - val_loss: 0.3765 - val_accuracy: 0.8397\n",
      "Epoch 27/100\n",
      "100778/100778 [==============================] - 0s 2us/step - loss: 0.3785 - accuracy: 0.8361 - val_loss: 0.3767 - val_accuracy: 0.8397\n",
      "Epoch 28/100\n",
      "100778/100778 [==============================] - 0s 2us/step - loss: 0.3784 - accuracy: 0.8361 - val_loss: 0.3766 - val_accuracy: 0.8397\n",
      "Epoch 29/100\n",
      "100778/100778 [==============================] - 0s 2us/step - loss: 0.3785 - accuracy: 0.8361 - val_loss: 0.3773 - val_accuracy: 0.8390\n",
      "Epoch 30/100\n",
      "100778/100778 [==============================] - 0s 2us/step - loss: 0.3783 - accuracy: 0.8362 - val_loss: 0.3737 - val_accuracy: 0.8397\n",
      "Epoch 31/100\n",
      "100778/100778 [==============================] - 0s 2us/step - loss: 0.3790 - accuracy: 0.8360 - val_loss: 0.3738 - val_accuracy: 0.8398\n",
      "Epoch 32/100\n",
      "100778/100778 [==============================] - 0s 3us/step - loss: 0.3785 - accuracy: 0.8363 - val_loss: 0.3744 - val_accuracy: 0.8391\n",
      "Epoch 33/100\n",
      "100778/100778 [==============================] - 0s 2us/step - loss: 0.3789 - accuracy: 0.8361 - val_loss: 0.3740 - val_accuracy: 0.8397\n",
      "Epoch 34/100\n",
      "100778/100778 [==============================] - 0s 2us/step - loss: 0.3785 - accuracy: 0.8361 - val_loss: 0.3740 - val_accuracy: 0.8398\n",
      "Epoch 35/100\n",
      "100778/100778 [==============================] - 0s 3us/step - loss: 0.3785 - accuracy: 0.8363 - val_loss: 0.3751 - val_accuracy: 0.8391\n",
      "Epoch 36/100\n",
      "100778/100778 [==============================] - 0s 2us/step - loss: 0.3785 - accuracy: 0.8362 - val_loss: 0.3772 - val_accuracy: 0.8381\n",
      "Epoch 37/100\n",
      "100778/100778 [==============================] - 0s 2us/step - loss: 0.3784 - accuracy: 0.8361 - val_loss: 0.3751 - val_accuracy: 0.8397\n",
      "Epoch 38/100\n",
      "100778/100778 [==============================] - 0s 2us/step - loss: 0.3782 - accuracy: 0.8361 - val_loss: 0.3763 - val_accuracy: 0.8397\n",
      "Epoch 39/100\n",
      "100778/100778 [==============================] - 0s 3us/step - loss: 0.3781 - accuracy: 0.8360 - val_loss: 0.3766 - val_accuracy: 0.8397\n",
      "Epoch 40/100\n",
      "100778/100778 [==============================] - 0s 3us/step - loss: 0.3779 - accuracy: 0.8363 - val_loss: 0.3758 - val_accuracy: 0.8397\n",
      "Epoch 41/100\n",
      "100778/100778 [==============================] - 0s 3us/step - loss: 0.3784 - accuracy: 0.8361 - val_loss: 0.3788 - val_accuracy: 0.8378\n",
      "Epoch 42/100\n",
      "100778/100778 [==============================] - 0s 2us/step - loss: 0.3782 - accuracy: 0.8363 - val_loss: 0.3768 - val_accuracy: 0.8398\n",
      "Epoch 43/100\n",
      "100778/100778 [==============================] - 0s 2us/step - loss: 0.3782 - accuracy: 0.8361 - val_loss: 0.3774 - val_accuracy: 0.8384\n",
      "Epoch 44/100\n",
      "100778/100778 [==============================] - 0s 2us/step - loss: 0.3782 - accuracy: 0.8361 - val_loss: 0.3763 - val_accuracy: 0.8370\n",
      "Epoch 45/100\n",
      "100778/100778 [==============================] - 0s 2us/step - loss: 0.3779 - accuracy: 0.8362 - val_loss: 0.3781 - val_accuracy: 0.8390\n",
      "Epoch 46/100\n",
      "100778/100778 [==============================] - 0s 2us/step - loss: 0.3788 - accuracy: 0.8363 - val_loss: 0.3742 - val_accuracy: 0.8393\n",
      "Epoch 47/100\n",
      "100778/100778 [==============================] - 0s 2us/step - loss: 0.3784 - accuracy: 0.8361 - val_loss: 0.3736 - val_accuracy: 0.8399\n",
      "Epoch 48/100\n",
      "100778/100778 [==============================] - 0s 2us/step - loss: 0.3782 - accuracy: 0.8363 - val_loss: 0.3737 - val_accuracy: 0.8397\n",
      "Epoch 49/100\n",
      "100778/100778 [==============================] - 0s 2us/step - loss: 0.3783 - accuracy: 0.8364 - val_loss: 0.3736 - val_accuracy: 0.8398\n",
      "Epoch 50/100\n",
      "100778/100778 [==============================] - 0s 2us/step - loss: 0.3780 - accuracy: 0.8363 - val_loss: 0.3735 - val_accuracy: 0.8399\n",
      "Epoch 51/100\n",
      "100778/100778 [==============================] - 0s 2us/step - loss: 0.3779 - accuracy: 0.8363 - val_loss: 0.3738 - val_accuracy: 0.8399\n",
      "Epoch 52/100\n",
      "100778/100778 [==============================] - 0s 2us/step - loss: 0.3782 - accuracy: 0.8363 - val_loss: 0.3737 - val_accuracy: 0.8399\n",
      "Epoch 53/100\n",
      "100778/100778 [==============================] - 0s 2us/step - loss: 0.3781 - accuracy: 0.8364 - val_loss: 0.3739 - val_accuracy: 0.8399\n",
      "Epoch 54/100\n",
      "100778/100778 [==============================] - 0s 2us/step - loss: 0.3779 - accuracy: 0.8362 - val_loss: 0.3761 - val_accuracy: 0.8387\n",
      "Epoch 55/100\n"
     ]
    },
    {
     "name": "stdout",
     "output_type": "stream",
     "text": [
      "100778/100778 [==============================] - 0s 2us/step - loss: 0.3780 - accuracy: 0.8360 - val_loss: 0.3747 - val_accuracy: 0.8398\n",
      "Epoch 56/100\n",
      "100778/100778 [==============================] - 0s 2us/step - loss: 0.3779 - accuracy: 0.8363 - val_loss: 0.3754 - val_accuracy: 0.8392\n",
      "Epoch 57/100\n",
      "100778/100778 [==============================] - 0s 2us/step - loss: 0.3778 - accuracy: 0.8365 - val_loss: 0.3752 - val_accuracy: 0.8399\n",
      "Epoch 58/100\n",
      "100778/100778 [==============================] - 0s 2us/step - loss: 0.3778 - accuracy: 0.8365 - val_loss: 0.3760 - val_accuracy: 0.8392\n",
      "Epoch 59/100\n",
      "100778/100778 [==============================] - 0s 2us/step - loss: 0.3783 - accuracy: 0.8363 - val_loss: 0.3762 - val_accuracy: 0.8392\n",
      "Epoch 60/100\n",
      "100778/100778 [==============================] - 0s 2us/step - loss: 0.3781 - accuracy: 0.8363 - val_loss: 0.3760 - val_accuracy: 0.8399\n",
      "Epoch 61/100\n",
      "100778/100778 [==============================] - 0s 2us/step - loss: 0.3782 - accuracy: 0.8364 - val_loss: 0.3759 - val_accuracy: 0.8399\n",
      "Epoch 62/100\n",
      "100778/100778 [==============================] - 0s 2us/step - loss: 0.3779 - accuracy: 0.8362 - val_loss: 0.3760 - val_accuracy: 0.8392\n",
      "Epoch 63/100\n",
      "100778/100778 [==============================] - 0s 2us/step - loss: 0.3778 - accuracy: 0.8365 - val_loss: 0.3758 - val_accuracy: 0.8399\n",
      "Epoch 64/100\n",
      "100778/100778 [==============================] - 0s 2us/step - loss: 0.3777 - accuracy: 0.8364 - val_loss: 0.3759 - val_accuracy: 0.8399\n",
      "Epoch 65/100\n",
      "100778/100778 [==============================] - 0s 2us/step - loss: 0.3780 - accuracy: 0.8363 - val_loss: 0.3762 - val_accuracy: 0.8392\n",
      "Epoch 66/100\n",
      "100778/100778 [==============================] - 0s 2us/step - loss: 0.3776 - accuracy: 0.8364 - val_loss: 0.3758 - val_accuracy: 0.8399\n",
      "Epoch 67/100\n",
      "100778/100778 [==============================] - 0s 2us/step - loss: 0.3778 - accuracy: 0.8363 - val_loss: 0.3757 - val_accuracy: 0.8398\n",
      "Epoch 68/100\n",
      "100778/100778 [==============================] - 0s 2us/step - loss: 0.3778 - accuracy: 0.8361 - val_loss: 0.3755 - val_accuracy: 0.8398\n",
      "Epoch 69/100\n",
      "100778/100778 [==============================] - 0s 2us/step - loss: 0.3779 - accuracy: 0.8364 - val_loss: 0.3756 - val_accuracy: 0.8393\n",
      "Epoch 70/100\n",
      "100778/100778 [==============================] - 0s 2us/step - loss: 0.3776 - accuracy: 0.8363 - val_loss: 0.3743 - val_accuracy: 0.8399\n",
      "Epoch 71/100\n",
      "100778/100778 [==============================] - 0s 2us/step - loss: 0.3780 - accuracy: 0.8363 - val_loss: 0.3741 - val_accuracy: 0.8370\n",
      "Epoch 72/100\n",
      "100778/100778 [==============================] - 0s 2us/step - loss: 0.3778 - accuracy: 0.8362 - val_loss: 0.3747 - val_accuracy: 0.8370\n",
      "Epoch 73/100\n",
      "100778/100778 [==============================] - 0s 2us/step - loss: 0.3776 - accuracy: 0.8363 - val_loss: 0.3756 - val_accuracy: 0.8393\n",
      "Epoch 74/100\n",
      "100778/100778 [==============================] - 0s 2us/step - loss: 0.3776 - accuracy: 0.8362 - val_loss: 0.3741 - val_accuracy: 0.8399\n",
      "Epoch 75/100\n",
      "100778/100778 [==============================] - 0s 2us/step - loss: 0.3775 - accuracy: 0.8365 - val_loss: 0.3747 - val_accuracy: 0.8399\n",
      "Epoch 76/100\n",
      "100778/100778 [==============================] - 0s 2us/step - loss: 0.3776 - accuracy: 0.8361 - val_loss: 0.3761 - val_accuracy: 0.8398\n",
      "Epoch 77/100\n",
      "100778/100778 [==============================] - 0s 2us/step - loss: 0.3775 - accuracy: 0.8362 - val_loss: 0.3753 - val_accuracy: 0.8399\n",
      "Epoch 78/100\n",
      "100778/100778 [==============================] - 0s 2us/step - loss: 0.3776 - accuracy: 0.8364 - val_loss: 0.3754 - val_accuracy: 0.8393\n",
      "Epoch 79/100\n",
      "100778/100778 [==============================] - 0s 2us/step - loss: 0.3778 - accuracy: 0.8361 - val_loss: 0.3751 - val_accuracy: 0.8399\n",
      "Epoch 80/100\n",
      "100778/100778 [==============================] - 0s 3us/step - loss: 0.3777 - accuracy: 0.8363 - val_loss: 0.3751 - val_accuracy: 0.8399\n",
      "Epoch 81/100\n",
      "100778/100778 [==============================] - 0s 2us/step - loss: 0.3776 - accuracy: 0.8362 - val_loss: 0.3752 - val_accuracy: 0.8393\n",
      "Epoch 82/100\n",
      "100778/100778 [==============================] - 0s 2us/step - loss: 0.3776 - accuracy: 0.8365 - val_loss: 0.3751 - val_accuracy: 0.8399\n",
      "Epoch 83/100\n",
      "100778/100778 [==============================] - 0s 2us/step - loss: 0.3779 - accuracy: 0.8365 - val_loss: 0.3750 - val_accuracy: 0.8399\n",
      "Epoch 84/100\n",
      "100778/100778 [==============================] - 0s 2us/step - loss: 0.3779 - accuracy: 0.8363 - val_loss: 0.3743 - val_accuracy: 0.8399\n",
      "Epoch 85/100\n",
      "100778/100778 [==============================] - 0s 2us/step - loss: 0.3775 - accuracy: 0.8362 - val_loss: 0.3747 - val_accuracy: 0.8400\n",
      "Epoch 86/100\n",
      "100778/100778 [==============================] - 0s 2us/step - loss: 0.3776 - accuracy: 0.8361 - val_loss: 0.3734 - val_accuracy: 0.8371\n",
      "Epoch 87/100\n",
      "100778/100778 [==============================] - 0s 2us/step - loss: 0.3775 - accuracy: 0.8362 - val_loss: 0.3751 - val_accuracy: 0.8393\n",
      "Epoch 88/100\n",
      "100778/100778 [==============================] - 0s 2us/step - loss: 0.3777 - accuracy: 0.8363 - val_loss: 0.3785 - val_accuracy: 0.8383\n",
      "Epoch 89/100\n",
      "100778/100778 [==============================] - 0s 2us/step - loss: 0.3785 - accuracy: 0.8363 - val_loss: 0.3743 - val_accuracy: 0.8400\n",
      "Epoch 90/100\n",
      "100778/100778 [==============================] - 0s 2us/step - loss: 0.3777 - accuracy: 0.8363 - val_loss: 0.3743 - val_accuracy: 0.8400\n",
      "Epoch 91/100\n",
      "100778/100778 [==============================] - 0s 2us/step - loss: 0.3776 - accuracy: 0.8364 - val_loss: 0.3745 - val_accuracy: 0.8399\n",
      "Epoch 92/100\n",
      "100778/100778 [==============================] - 0s 2us/step - loss: 0.3773 - accuracy: 0.8363 - val_loss: 0.3751 - val_accuracy: 0.8393\n",
      "Epoch 93/100\n",
      "100778/100778 [==============================] - 0s 2us/step - loss: 0.3778 - accuracy: 0.8363 - val_loss: 0.3746 - val_accuracy: 0.8400\n",
      "Epoch 94/100\n",
      "100778/100778 [==============================] - 0s 2us/step - loss: 0.3776 - accuracy: 0.8366 - val_loss: 0.3751 - val_accuracy: 0.8393\n",
      "Epoch 95/100\n",
      "100778/100778 [==============================] - 0s 2us/step - loss: 0.3775 - accuracy: 0.8361 - val_loss: 0.3741 - val_accuracy: 0.8400\n",
      "Epoch 96/100\n",
      "100778/100778 [==============================] - 0s 2us/step - loss: 0.3774 - accuracy: 0.8359 - val_loss: 0.3736 - val_accuracy: 0.8400\n",
      "Epoch 97/100\n",
      "100778/100778 [==============================] - 0s 2us/step - loss: 0.3781 - accuracy: 0.8364 - val_loss: 0.3747 - val_accuracy: 0.8388\n",
      "Epoch 98/100\n",
      "100778/100778 [==============================] - 0s 2us/step - loss: 0.3778 - accuracy: 0.8364 - val_loss: 0.3732 - val_accuracy: 0.8400\n",
      "Epoch 99/100\n",
      "100778/100778 [==============================] - 0s 2us/step - loss: 0.3774 - accuracy: 0.8363 - val_loss: 0.3734 - val_accuracy: 0.8400\n",
      "Epoch 100/100\n",
      "100778/100778 [==============================] - 0s 2us/step - loss: 0.3775 - accuracy: 0.8365 - val_loss: 0.3747 - val_accuracy: 0.8393\n"
     ]
    }
   ],
   "source": [
    "\n",
    "# fit the keras model on the dataset\n",
    "history = model.fit(X, y, epochs=100, batch_size=5000,validation_split=0.2)\n"
   ]
  },
  {
   "cell_type": "code",
   "execution_count": 9,
   "metadata": {},
   "outputs": [
    {
     "name": "stdout",
     "output_type": "stream",
     "text": [
      "22542/22542 [==============================] - 0s 13us/step\n",
      "Accuracy: 77.36\n"
     ]
    }
   ],
   "source": [
    "\n",
    "# evaluate the keras model\n",
    "_, accuracy = model.evaluate(X_test, y_test)\n",
    "print('Accuracy: %.2f' % (accuracy*100))"
   ]
  },
  {
   "cell_type": "code",
   "execution_count": 10,
   "metadata": {},
   "outputs": [
    {
     "data": {
      "text/plain": [
       "array([[ 7348,  2362],\n",
       "       [ 2742, 10090]], dtype=int64)"
      ]
     },
     "execution_count": 10,
     "metadata": {},
     "output_type": "execute_result"
    }
   ],
   "source": [
    "from sklearn.metrics import confusion_matrix\n",
    "from sklearn.metrics import accuracy_score\n",
    "prediction=model.predict_classes(X_test)\n",
    "m=confusion_matrix(y_test,prediction)\n",
    "m"
   ]
  },
  {
   "cell_type": "code",
   "execution_count": 11,
   "metadata": {},
   "outputs": [
    {
     "data": {
      "image/png": "[encoded data removed]",
      "text/plain": [
       "<Figure size 432x288 with 1 Axes>"
      ]
     },
     "metadata": {
      "needs_background": "light"
     },
     "output_type": "display_data"
    }
   ],
   "source": [
    "import matplotlib.pyplot as plt\n",
    "plt.plot(history.history['accuracy'])\n",
    "plt.plot(history.history['val_accuracy'])\n",
    "plt.title('model accuracy')\n",
    "plt.ylabel('accuracy')\n",
    "plt.xlabel('epoch')\n",
    "plt.legend(['train', 'test'], loc='upper left')\n",
    "plt.show()"
   ]
  },
  {
   "cell_type": "code",
   "execution_count": 11,
   "metadata": {},
   "outputs": [
    {
     "name": "stdout",
     "output_type": "stream",
     "text": [
      "0.0\n"
     ]
    }
   ],
   "source": [
    "\n",
    "# make probability predictions with the model\n",
    "predictions = model.predict(X)\n",
    "# round predictions \n",
    "rounded = [round(x[0]) for x in predictions]\n",
    "print(rounded[1] )"
   ]
  }
 ],
 "metadata": {
  "kernelspec": {
   "display_name": "Python 3",
   "language": "python",
   "name": "python3"
  },
  "language_info": {
   "codemirror_mode": {
    "name": "ipython",
    "version": 3
   },
   "file_extension": ".py",
   "mimetype": "text/x-python",
   "name": "python",
   "nbconvert_exporter": "python",
   "pygments_lexer": "ipython3",
   "version": "3.8.2"
  }
 },
 "nbformat": 4,
 "nbformat_minor": 2
}
