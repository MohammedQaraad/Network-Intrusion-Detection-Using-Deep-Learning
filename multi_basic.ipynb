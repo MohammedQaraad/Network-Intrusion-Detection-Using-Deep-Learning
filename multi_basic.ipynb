{
 "cells": [
  {
   "cell_type": "code",
   "execution_count": 13,
   "metadata": {},
   "outputs": [
    {
     "name": "stdout",
     "output_type": "stream",
     "text": [
      "no of attributes are 16\n"
     ]
    }
   ],
   "source": [
    "from __future__ import print_function\n",
    "from sklearn.model_selection import train_test_split\n",
    "import pandas as pd\n",
    "import numpy as np\n",
    "np.random.seed(1337)  # for reproducibility\n",
    "from keras.preprocessing import sequence\n",
    "from keras.utils import np_utils\n",
    "from keras.models import Sequential\n",
    "from keras.layers import Dense, Dropout, Activation, Embedding\n",
    "from keras.layers import LSTM, SimpleRNN, GRU\n",
    "from keras.datasets import imdb\n",
    "from keras.utils.np_utils import to_categorical\n",
    "from sklearn.metrics import (precision_score, recall_score,f1_score, accuracy_score,mean_squared_error,mean_absolute_error)\n",
    "from sklearn import metrics\n",
    "from sklearn.preprocessing import Normalizer\n",
    "import h5py\n",
    "from keras import callbacks\n",
    "from keras.callbacks import ModelCheckpoint, EarlyStopping, ReduceLROnPlateau, CSVLogger\n",
    "\n",
    "\n",
    "file=\"basic\"\n",
    "traindir=\"datasets/multiclass_train\"\n",
    "testdir=\"datasets/multiclass_test\"\n",
    "\n",
    "traindata = pd.read_csv(f\"{traindir}/processed/{file}.csv\")\n",
    "testdata = pd.read_csv(f\"{testdir}/processed/{file}.csv\")\n",
    "testdata\n",
    "traindata\n",
    "n=len(traindata.count())\n",
    "print(f\"no of attributes are {n}\")"
   ]
  },
  {
   "cell_type": "code",
   "execution_count": 14,
   "metadata": {},
   "outputs": [
    {
     "data": {
      "text/plain": [
       "(125973, 5)"
      ]
     },
     "execution_count": 14,
     "metadata": {},
     "output_type": "execute_result"
    }
   ],
   "source": [
    "X = traindata.iloc[:,0:n-5]\n",
    "Y = traindata.iloc[:,n-5:n]\n",
    "C = testdata.iloc[:,0:n-5]\n",
    "T = testdata.iloc[:,n-5:n]\n",
    "Y.shape"
   ]
  },
  {
   "cell_type": "code",
   "execution_count": 15,
   "metadata": {},
   "outputs": [],
   "source": [
    "# 1. define the network\n",
    "model = Sequential()\n",
    "model.add(Dense(32,input_dim=n-5,activation='relu'))\n",
    "model.add(Dropout(0.01))\n",
    "model.add(Dense(24,activation='relu'))\n",
    "model.add(Dropout(0.01))\n",
    "model.add(Dense(5, activation='softmax'))"
   ]
  },
  {
   "cell_type": "code",
   "execution_count": 16,
   "metadata": {},
   "outputs": [
    {
     "name": "stdout",
     "output_type": "stream",
     "text": [
      "Train on 100778 samples, validate on 25195 samples\n",
      "Epoch 1/100\n",
      "100778/100778 [==============================] - 0s 4us/step - loss: 1.5376 - accuracy: 0.4507 - val_loss: 1.4005 - val_accuracy: 0.5338\n",
      "Epoch 2/100\n",
      "100778/100778 [==============================] - 0s 2us/step - loss: 1.2890 - accuracy: 0.5360 - val_loss: 1.1447 - val_accuracy: 0.5424\n",
      "Epoch 3/100\n",
      "100778/100778 [==============================] - 0s 3us/step - loss: 1.0187 - accuracy: 0.5518 - val_loss: 0.8889 - val_accuracy: 0.5667\n",
      "Epoch 4/100\n",
      "100778/100778 [==============================] - 0s 3us/step - loss: 0.8078 - accuracy: 0.7555 - val_loss: 0.7246 - val_accuracy: 0.8573\n",
      "Epoch 5/100\n",
      "100778/100778 [==============================] - 0s 3us/step - loss: 0.6761 - accuracy: 0.8503 - val_loss: 0.6181 - val_accuracy: 0.8642\n",
      "Epoch 6/100\n",
      "100778/100778 [==============================] - 0s 3us/step - loss: 0.5873 - accuracy: 0.8597 - val_loss: 0.5505 - val_accuracy: 0.8640\n",
      "Epoch 7/100\n",
      "100778/100778 [==============================] - 0s 3us/step - loss: 0.5348 - accuracy: 0.8628 - val_loss: 0.5112 - val_accuracy: 0.8651\n",
      "Epoch 8/100\n",
      "100778/100778 [==============================] - 0s 3us/step - loss: 0.5045 - accuracy: 0.8646 - val_loss: 0.4887 - val_accuracy: 0.8660\n",
      "Epoch 9/100\n",
      "100778/100778 [==============================] - 0s 2us/step - loss: 0.4865 - accuracy: 0.8654 - val_loss: 0.4746 - val_accuracy: 0.8686\n",
      "Epoch 10/100\n",
      "100778/100778 [==============================] - 0s 3us/step - loss: 0.4735 - accuracy: 0.8672 - val_loss: 0.4631 - val_accuracy: 0.8693\n",
      "Epoch 11/100\n",
      "100778/100778 [==============================] - 0s 2us/step - loss: 0.4630 - accuracy: 0.8675 - val_loss: 0.4532 - val_accuracy: 0.8691\n",
      "Epoch 12/100\n",
      "100778/100778 [==============================] - 0s 2us/step - loss: 0.4532 - accuracy: 0.8676 - val_loss: 0.4443 - val_accuracy: 0.8698\n",
      "Epoch 13/100\n",
      "100778/100778 [==============================] - 0s 2us/step - loss: 0.4442 - accuracy: 0.8681 - val_loss: 0.4358 - val_accuracy: 0.8700\n",
      "Epoch 14/100\n",
      "100778/100778 [==============================] - 0s 2us/step - loss: 0.4363 - accuracy: 0.8681 - val_loss: 0.4274 - val_accuracy: 0.8700\n",
      "Epoch 15/100\n",
      "100778/100778 [==============================] - 0s 2us/step - loss: 0.4279 - accuracy: 0.8681 - val_loss: 0.4193 - val_accuracy: 0.8705\n",
      "Epoch 16/100\n",
      "100778/100778 [==============================] - 0s 2us/step - loss: 0.4200 - accuracy: 0.8685 - val_loss: 0.4112 - val_accuracy: 0.8708\n",
      "Epoch 17/100\n",
      "100778/100778 [==============================] - 0s 2us/step - loss: 0.4124 - accuracy: 0.8686 - val_loss: 0.4035 - val_accuracy: 0.8708\n",
      "Epoch 18/100\n",
      "100778/100778 [==============================] - 0s 2us/step - loss: 0.4046 - accuracy: 0.8683 - val_loss: 0.3958 - val_accuracy: 0.8709\n",
      "Epoch 19/100\n",
      "100778/100778 [==============================] - 0s 2us/step - loss: 0.3973 - accuracy: 0.8681 - val_loss: 0.3883 - val_accuracy: 0.8709\n",
      "Epoch 20/100\n",
      "100778/100778 [==============================] - 0s 2us/step - loss: 0.3904 - accuracy: 0.8682 - val_loss: 0.3810 - val_accuracy: 0.8709\n",
      "Epoch 21/100\n",
      "100778/100778 [==============================] - 0s 3us/step - loss: 0.3831 - accuracy: 0.8685 - val_loss: 0.3746 - val_accuracy: 0.8709\n",
      "Epoch 22/100\n",
      "100778/100778 [==============================] - 0s 3us/step - loss: 0.3770 - accuracy: 0.8683 - val_loss: 0.3687 - val_accuracy: 0.8709\n",
      "Epoch 23/100\n",
      "100778/100778 [==============================] - 0s 2us/step - loss: 0.3715 - accuracy: 0.8682 - val_loss: 0.3634 - val_accuracy: 0.8712\n",
      "Epoch 24/100\n",
      "100778/100778 [==============================] - 0s 2us/step - loss: 0.3670 - accuracy: 0.8686 - val_loss: 0.3587 - val_accuracy: 0.8713\n",
      "Epoch 25/100\n",
      "100778/100778 [==============================] - 0s 3us/step - loss: 0.3628 - accuracy: 0.8681 - val_loss: 0.3549 - val_accuracy: 0.8715\n",
      "Epoch 26/100\n",
      "100778/100778 [==============================] - 0s 2us/step - loss: 0.3597 - accuracy: 0.8673 - val_loss: 0.3518 - val_accuracy: 0.8706\n",
      "Epoch 27/100\n",
      "100778/100778 [==============================] - 0s 2us/step - loss: 0.3565 - accuracy: 0.8673 - val_loss: 0.3488 - val_accuracy: 0.8681\n",
      "Epoch 28/100\n",
      "100778/100778 [==============================] - 0s 3us/step - loss: 0.3537 - accuracy: 0.8665 - val_loss: 0.3462 - val_accuracy: 0.8708\n",
      "Epoch 29/100\n",
      "100778/100778 [==============================] - 0s 2us/step - loss: 0.3519 - accuracy: 0.8682 - val_loss: 0.3441 - val_accuracy: 0.8697\n",
      "Epoch 30/100\n",
      "100778/100778 [==============================] - 0s 2us/step - loss: 0.3493 - accuracy: 0.8680 - val_loss: 0.3416 - val_accuracy: 0.8685\n",
      "Epoch 31/100\n",
      "100778/100778 [==============================] - 0s 3us/step - loss: 0.3474 - accuracy: 0.8676 - val_loss: 0.3396 - val_accuracy: 0.8687\n",
      "Epoch 32/100\n",
      "100778/100778 [==============================] - 0s 2us/step - loss: 0.3460 - accuracy: 0.8676 - val_loss: 0.3378 - val_accuracy: 0.8724\n",
      "Epoch 33/100\n",
      "100778/100778 [==============================] - 0s 2us/step - loss: 0.3437 - accuracy: 0.8683 - val_loss: 0.3360 - val_accuracy: 0.8691\n",
      "Epoch 34/100\n",
      "100778/100778 [==============================] - 0s 3us/step - loss: 0.3415 - accuracy: 0.8687 - val_loss: 0.3344 - val_accuracy: 0.8691\n",
      "Epoch 35/100\n",
      "100778/100778 [==============================] - 0s 2us/step - loss: 0.3409 - accuracy: 0.8692 - val_loss: 0.3326 - val_accuracy: 0.8724\n",
      "Epoch 36/100\n",
      "100778/100778 [==============================] - 0s 2us/step - loss: 0.3389 - accuracy: 0.8703 - val_loss: 0.3310 - val_accuracy: 0.8726\n",
      "Epoch 37/100\n",
      "100778/100778 [==============================] - 0s 2us/step - loss: 0.3375 - accuracy: 0.8706 - val_loss: 0.3293 - val_accuracy: 0.8772\n",
      "Epoch 38/100\n",
      "100778/100778 [==============================] - 0s 3us/step - loss: 0.3359 - accuracy: 0.8745 - val_loss: 0.3276 - val_accuracy: 0.8772\n",
      "Epoch 39/100\n",
      "100778/100778 [==============================] - 0s 3us/step - loss: 0.3341 - accuracy: 0.8746 - val_loss: 0.3261 - val_accuracy: 0.8770\n",
      "Epoch 40/100\n",
      "100778/100778 [==============================] - 0s 2us/step - loss: 0.3321 - accuracy: 0.8752 - val_loss: 0.3245 - val_accuracy: 0.8771\n",
      "Epoch 41/100\n",
      "100778/100778 [==============================] - 0s 3us/step - loss: 0.3311 - accuracy: 0.8758 - val_loss: 0.3225 - val_accuracy: 0.8771\n",
      "Epoch 42/100\n",
      "100778/100778 [==============================] - 0s 2us/step - loss: 0.3286 - accuracy: 0.8754 - val_loss: 0.3201 - val_accuracy: 0.8771\n",
      "Epoch 43/100\n",
      "100778/100778 [==============================] - 0s 3us/step - loss: 0.3272 - accuracy: 0.8851 - val_loss: 0.3181 - val_accuracy: 0.8972\n",
      "Epoch 44/100\n",
      "100778/100778 [==============================] - 0s 3us/step - loss: 0.3247 - accuracy: 0.8916 - val_loss: 0.3167 - val_accuracy: 0.8964\n",
      "Epoch 45/100\n",
      "100778/100778 [==============================] - 0s 2us/step - loss: 0.3236 - accuracy: 0.8898 - val_loss: 0.3150 - val_accuracy: 0.8957\n",
      "Epoch 46/100\n",
      "100778/100778 [==============================] - 0s 3us/step - loss: 0.3218 - accuracy: 0.8901 - val_loss: 0.3137 - val_accuracy: 0.8942\n",
      "Epoch 47/100\n",
      "100778/100778 [==============================] - 0s 3us/step - loss: 0.3210 - accuracy: 0.8901 - val_loss: 0.3122 - val_accuracy: 0.8944\n",
      "Epoch 48/100\n",
      "100778/100778 [==============================] - 0s 2us/step - loss: 0.3199 - accuracy: 0.8889 - val_loss: 0.3109 - val_accuracy: 0.8943\n",
      "Epoch 49/100\n",
      "100778/100778 [==============================] - 0s 2us/step - loss: 0.3186 - accuracy: 0.8902 - val_loss: 0.3095 - val_accuracy: 0.8977\n",
      "Epoch 50/100\n",
      "100778/100778 [==============================] - 0s 2us/step - loss: 0.3176 - accuracy: 0.8906 - val_loss: 0.3085 - val_accuracy: 0.8977\n",
      "Epoch 51/100\n",
      "100778/100778 [==============================] - 0s 2us/step - loss: 0.3164 - accuracy: 0.8899 - val_loss: 0.3075 - val_accuracy: 0.8969\n",
      "Epoch 52/100\n",
      "100778/100778 [==============================] - 0s 3us/step - loss: 0.3151 - accuracy: 0.8906 - val_loss: 0.3062 - val_accuracy: 0.8978\n",
      "Epoch 53/100\n",
      "100778/100778 [==============================] - 0s 3us/step - loss: 0.3144 - accuracy: 0.8921 - val_loss: 0.3051 - val_accuracy: 0.8970\n",
      "Epoch 54/100\n",
      "100778/100778 [==============================] - 0s 2us/step - loss: 0.3131 - accuracy: 0.8905 - val_loss: 0.3044 - val_accuracy: 0.8970\n",
      "Epoch 55/100\n"
     ]
    },
    {
     "name": "stdout",
     "output_type": "stream",
     "text": [
      "100778/100778 [==============================] - 0s 2us/step - loss: 0.3127 - accuracy: 0.8907 - val_loss: 0.3030 - val_accuracy: 0.8970\n",
      "Epoch 56/100\n",
      "100778/100778 [==============================] - 0s 2us/step - loss: 0.3115 - accuracy: 0.8912 - val_loss: 0.3020 - val_accuracy: 0.8973\n",
      "Epoch 57/100\n",
      "100778/100778 [==============================] - 0s 2us/step - loss: 0.3108 - accuracy: 0.8909 - val_loss: 0.3012 - val_accuracy: 0.8972\n",
      "Epoch 58/100\n",
      "100778/100778 [==============================] - 0s 2us/step - loss: 0.3099 - accuracy: 0.8921 - val_loss: 0.3003 - val_accuracy: 0.8974\n",
      "Epoch 59/100\n",
      "100778/100778 [==============================] - 0s 2us/step - loss: 0.3093 - accuracy: 0.8910 - val_loss: 0.2997 - val_accuracy: 0.8940\n",
      "Epoch 60/100\n",
      "100778/100778 [==============================] - 0s 2us/step - loss: 0.3084 - accuracy: 0.8913 - val_loss: 0.2992 - val_accuracy: 0.8975\n",
      "Epoch 61/100\n",
      "100778/100778 [==============================] - 0s 2us/step - loss: 0.3075 - accuracy: 0.8927 - val_loss: 0.2984 - val_accuracy: 0.8970\n",
      "Epoch 62/100\n",
      "100778/100778 [==============================] - 0s 2us/step - loss: 0.3077 - accuracy: 0.8914 - val_loss: 0.2977 - val_accuracy: 0.8975\n",
      "Epoch 63/100\n",
      "100778/100778 [==============================] - 0s 2us/step - loss: 0.3075 - accuracy: 0.8910 - val_loss: 0.2971 - val_accuracy: 0.8971\n",
      "Epoch 64/100\n",
      "100778/100778 [==============================] - 0s 2us/step - loss: 0.3065 - accuracy: 0.8912 - val_loss: 0.2963 - val_accuracy: 0.8971\n",
      "Epoch 65/100\n",
      "100778/100778 [==============================] - 0s 2us/step - loss: 0.3057 - accuracy: 0.8915 - val_loss: 0.2958 - val_accuracy: 0.8938\n",
      "Epoch 66/100\n",
      "100778/100778 [==============================] - 0s 2us/step - loss: 0.3048 - accuracy: 0.8917 - val_loss: 0.2951 - val_accuracy: 0.8937\n",
      "Epoch 67/100\n",
      "100778/100778 [==============================] - 0s 2us/step - loss: 0.3045 - accuracy: 0.8917 - val_loss: 0.2945 - val_accuracy: 0.8972\n",
      "Epoch 68/100\n",
      "100778/100778 [==============================] - 0s 2us/step - loss: 0.3033 - accuracy: 0.8922 - val_loss: 0.2942 - val_accuracy: 0.8938\n",
      "Epoch 69/100\n",
      "100778/100778 [==============================] - 0s 3us/step - loss: 0.3038 - accuracy: 0.8927 - val_loss: 0.2934 - val_accuracy: 0.8973\n",
      "Epoch 70/100\n",
      "100778/100778 [==============================] - 0s 2us/step - loss: 0.3026 - accuracy: 0.8931 - val_loss: 0.2928 - val_accuracy: 0.8972\n",
      "Epoch 71/100\n",
      "100778/100778 [==============================] - 0s 3us/step - loss: 0.3015 - accuracy: 0.8932 - val_loss: 0.2922 - val_accuracy: 0.8973\n",
      "Epoch 72/100\n",
      "100778/100778 [==============================] - 0s 3us/step - loss: 0.3018 - accuracy: 0.8928 - val_loss: 0.2917 - val_accuracy: 0.8973\n",
      "Epoch 73/100\n",
      "100778/100778 [==============================] - 0s 2us/step - loss: 0.3010 - accuracy: 0.8927 - val_loss: 0.2911 - val_accuracy: 0.8973\n",
      "Epoch 74/100\n",
      "100778/100778 [==============================] - 0s 3us/step - loss: 0.3011 - accuracy: 0.8927 - val_loss: 0.2909 - val_accuracy: 0.8939\n",
      "Epoch 75/100\n",
      "100778/100778 [==============================] - 0s 2us/step - loss: 0.3008 - accuracy: 0.8923 - val_loss: 0.2901 - val_accuracy: 0.9041\n",
      "Epoch 76/100\n",
      "100778/100778 [==============================] - 0s 2us/step - loss: 0.3006 - accuracy: 0.8936 - val_loss: 0.2896 - val_accuracy: 0.9040\n",
      "Epoch 77/100\n",
      "100778/100778 [==============================] - 0s 3us/step - loss: 0.2990 - accuracy: 0.8965 - val_loss: 0.2891 - val_accuracy: 0.8980\n",
      "Epoch 78/100\n",
      "100778/100778 [==============================] - 0s 3us/step - loss: 0.2992 - accuracy: 0.8944 - val_loss: 0.2886 - val_accuracy: 0.9048\n",
      "Epoch 79/100\n",
      "100778/100778 [==============================] - 0s 3us/step - loss: 0.2982 - accuracy: 0.8955 - val_loss: 0.2881 - val_accuracy: 0.9047\n",
      "Epoch 80/100\n",
      "100778/100778 [==============================] - 0s 2us/step - loss: 0.2982 - accuracy: 0.8968 - val_loss: 0.2877 - val_accuracy: 0.8980\n",
      "Epoch 81/100\n",
      "100778/100778 [==============================] - 0s 3us/step - loss: 0.2975 - accuracy: 0.8964 - val_loss: 0.2873 - val_accuracy: 0.9040\n",
      "Epoch 82/100\n",
      "100778/100778 [==============================] - 0s 3us/step - loss: 0.2973 - accuracy: 0.8976 - val_loss: 0.2870 - val_accuracy: 0.8980\n",
      "Epoch 83/100\n",
      "100778/100778 [==============================] - 0s 2us/step - loss: 0.2975 - accuracy: 0.8975 - val_loss: 0.2864 - val_accuracy: 0.9048\n",
      "Epoch 84/100\n",
      "100778/100778 [==============================] - 0s 3us/step - loss: 0.2961 - accuracy: 0.8975 - val_loss: 0.2858 - val_accuracy: 0.9048\n",
      "Epoch 85/100\n",
      "100778/100778 [==============================] - 0s 3us/step - loss: 0.2960 - accuracy: 0.8992 - val_loss: 0.2852 - val_accuracy: 0.8980\n",
      "Epoch 86/100\n",
      "100778/100778 [==============================] - 0s 2us/step - loss: 0.2958 - accuracy: 0.8985 - val_loss: 0.2845 - val_accuracy: 0.9047\n",
      "Epoch 87/100\n",
      "100778/100778 [==============================] - 0s 2us/step - loss: 0.2947 - accuracy: 0.8989 - val_loss: 0.2838 - val_accuracy: 0.9047\n",
      "Epoch 88/100\n",
      "100778/100778 [==============================] - 0s 2us/step - loss: 0.2933 - accuracy: 0.8996 - val_loss: 0.2834 - val_accuracy: 0.9047\n",
      "Epoch 89/100\n",
      "100778/100778 [==============================] - 0s 2us/step - loss: 0.2935 - accuracy: 0.8995 - val_loss: 0.2832 - val_accuracy: 0.9047\n",
      "Epoch 90/100\n",
      "100778/100778 [==============================] - 0s 2us/step - loss: 0.2930 - accuracy: 0.8981 - val_loss: 0.2827 - val_accuracy: 0.9047\n",
      "Epoch 91/100\n",
      "100778/100778 [==============================] - 0s 2us/step - loss: 0.2926 - accuracy: 0.8994 - val_loss: 0.2821 - val_accuracy: 0.9048\n",
      "Epoch 92/100\n",
      "100778/100778 [==============================] - 0s 2us/step - loss: 0.2926 - accuracy: 0.8986 - val_loss: 0.2815 - val_accuracy: 0.9047\n",
      "Epoch 93/100\n",
      "100778/100778 [==============================] - 0s 3us/step - loss: 0.2919 - accuracy: 0.8993 - val_loss: 0.2808 - val_accuracy: 0.9047\n",
      "Epoch 94/100\n",
      "100778/100778 [==============================] - 0s 3us/step - loss: 0.2919 - accuracy: 0.8991 - val_loss: 0.2803 - val_accuracy: 0.9047\n",
      "Epoch 95/100\n",
      "100778/100778 [==============================] - 0s 2us/step - loss: 0.2904 - accuracy: 0.8995 - val_loss: 0.2800 - val_accuracy: 0.9047\n",
      "Epoch 96/100\n",
      "100778/100778 [==============================] - 0s 3us/step - loss: 0.2905 - accuracy: 0.8998 - val_loss: 0.2797 - val_accuracy: 0.9047\n",
      "Epoch 97/100\n",
      "100778/100778 [==============================] - 0s 2us/step - loss: 0.2898 - accuracy: 0.8997 - val_loss: 0.2791 - val_accuracy: 0.9047\n",
      "Epoch 98/100\n",
      "100778/100778 [==============================] - 0s 2us/step - loss: 0.2896 - accuracy: 0.8997 - val_loss: 0.2785 - val_accuracy: 0.9047\n",
      "Epoch 99/100\n",
      "100778/100778 [==============================] - 0s 2us/step - loss: 0.2896 - accuracy: 0.8999 - val_loss: 0.2782 - val_accuracy: 0.9047\n",
      "Epoch 100/100\n",
      "100778/100778 [==============================] - 0s 2us/step - loss: 0.2885 - accuracy: 0.8998 - val_loss: 0.2776 - val_accuracy: 0.9047\n"
     ]
    }
   ],
   "source": [
    "# try using different optimizers and different optimizer configs\n",
    "model.compile(loss='categorical_crossentropy',optimizer='adam',metrics=['accuracy'])\n",
    "\n",
    "history = model.fit(X, Y,batch_size=4000,epochs=100,validation_split=0.2)\n",
    "\n",
    "model.save(f\"{testdir}/processed/{file}.hdf5\")\n",
    "\n",
    "import dill as pickle\n",
    "with open('history', 'wb') as file_pi:\n",
    "    pickle.dump(f\"{testdir}/processed/{file}.history\", file_pi)"
   ]
  },
  {
   "cell_type": "code",
   "execution_count": 17,
   "metadata": {},
   "outputs": [
    {
     "name": "stdout",
     "output_type": "stream",
     "text": [
      "22542/22542 [==============================] - 0s 14us/step\n",
      "Accuracy: 65.81\n"
     ]
    }
   ],
   "source": [
    "\n",
    "import tensorflow as tf\n",
    "C = testdata.iloc[:,0:n-5]\n",
    "T = testdata.iloc[:,n-5:n]\n",
    "_, accuracy = model.evaluate(C,T)\n",
    "print('Accuracy: %.2f' % (accuracy*100))\n",
    "prediction=model.predict_classes(C)\n"
   ]
  },
  {
   "cell_type": "code",
   "execution_count": 18,
   "metadata": {},
   "outputs": [
    {
     "data": {
      "image/png": "[encoded data removed]",
      "text/plain": [
       "<Figure size 432x288 with 1 Axes>"
      ]
     },
     "metadata": {
      "needs_background": "light"
     },
     "output_type": "display_data"
    }
   ],
   "source": [
    "import matplotlib.pyplot as plt\n",
    "plt.plot(history.history['accuracy'])\n",
    "plt.plot(history.history['val_accuracy'])\n",
    "plt.title('model accuracy')\n",
    "plt.ylabel('accuracy')\n",
    "plt.xlabel('epoch')\n",
    "plt.legend(['train', 'test'], loc='upper left')\n",
    "plt.show()"
   ]
  },
  {
   "cell_type": "code",
   "execution_count": 19,
   "metadata": {
    "scrolled": true
   },
   "outputs": [
    {
     "data": {
      "image/png": "[encoded data removed]",
      "text/plain": [
       "<Figure size 432x288 with 1 Axes>"
      ]
     },
     "metadata": {
      "needs_background": "light"
     },
     "output_type": "display_data"
    }
   ],
   "source": [
    "# summarize history for loss\n",
    "plt.plot(history.history['loss'])\n",
    "plt.plot(history.history['val_loss'])\n",
    "plt.title('model loss')\n",
    "plt.ylabel('loss')\n",
    "plt.xlabel('epoch')\n",
    "plt.legend(['train', 'test'], loc='upper left')\n",
    "plt.show()"
   ]
  },
  {
   "cell_type": "code",
   "execution_count": 20,
   "metadata": {},
   "outputs": [
    {
     "name": "stdout",
     "output_type": "stream",
     "text": [
      "[[1. 0. 0. 0. 0.]]\n",
      "(22542, 5)\n"
     ]
    },
    {
     "data": {
      "text/plain": [
       "array([[1., 0., 0., 0., 0.],\n",
       "       [0., 1., 0., 0., 0.],\n",
       "       [0., 0., 1., 0., 0.],\n",
       "       ...,\n",
       "       [0., 1., 0., 0., 0.],\n",
       "       [0., 1., 0., 0., 0.],\n",
       "       [1., 0., 0., 0., 0.]], dtype=float32)"
      ]
     },
     "execution_count": 20,
     "metadata": {},
     "output_type": "execute_result"
    }
   ],
   "source": [
    "p=model.predict(C[0:1])\n",
    "p=np.rint(p)\n",
    "\n",
    "print(p)\n",
    "print(T.shape)\n",
    "rounded_labels=np.argmax(T.to_numpy(),axis=1)\n",
    "prediction=model.predict(C)\n",
    "prediction=np.rint(prediction)\n",
    "prediction"
   ]
  },
  {
   "cell_type": "code",
   "execution_count": 21,
   "metadata": {},
   "outputs": [
    {
     "data": {
      "text/plain": [
       "array([[[13762,  1321],\n",
       "        [ 2235,  5224]],\n",
       "\n",
       "       [[ 8695,  4137],\n",
       "        [  993,  8717]],\n",
       "\n",
       "       [[17975,  2146],\n",
       "        [ 1567,   854]],\n",
       "\n",
       "       [[19652,     5],\n",
       "        [ 2885,     0]],\n",
       "\n",
       "       [[22475,     0],\n",
       "        [   67,     0]]], dtype=int64)"
      ]
     },
     "execution_count": 21,
     "metadata": {},
     "output_type": "execute_result"
    }
   ],
   "source": [
    "from sklearn.metrics import multilabel_confusion_matrix\n",
    "prediction=np.rint(prediction)\n",
    "original_value=np.rint(T)\n",
    "cm=multilabel_confusion_matrix(original_value, prediction)\n",
    "cm"
   ]
  }
 ],
 "metadata": {
  "kernelspec": {
   "display_name": "Python 3",
   "language": "python",
   "name": "python3"
  },
  "language_info": {
   "codemirror_mode": {
    "name": "ipython",
    "version": 3
   },
   "file_extension": ".py",
   "mimetype": "text/x-python",
   "name": "python",
   "nbconvert_exporter": "python",
   "pygments_lexer": "ipython3",
   "version": "3.8.2"
  }
 },
 "nbformat": 4,
 "nbformat_minor": 2
}
