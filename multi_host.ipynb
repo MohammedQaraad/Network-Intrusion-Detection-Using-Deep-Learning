{
 "cells": [
  {
   "cell_type": "code",
   "execution_count": 1,
   "metadata": {},
   "outputs": [
    {
     "name": "stderr",
     "output_type": "stream",
     "text": [
      "Using TensorFlow backend.\n"
     ]
    },
    {
     "name": "stdout",
     "output_type": "stream",
     "text": [
      "no of attributes are 15\n"
     ]
    }
   ],
   "source": [
    "from __future__ import print_function\n",
    "from sklearn.model_selection import train_test_split\n",
    "import pandas as pd\n",
    "import numpy as np\n",
    "np.random.seed(1337)  # for reproducibility\n",
    "from keras.preprocessing import sequence\n",
    "from keras.utils import np_utils\n",
    "from keras.models import Sequential\n",
    "from keras.layers import Dense, Dropout, Activation, Embedding\n",
    "from keras.layers import LSTM, SimpleRNN, GRU\n",
    "from keras.datasets import imdb\n",
    "from keras.utils.np_utils import to_categorical\n",
    "from sklearn.metrics import (precision_score, recall_score,f1_score, accuracy_score,mean_squared_error,mean_absolute_error)\n",
    "from sklearn import metrics\n",
    "from sklearn.preprocessing import Normalizer\n",
    "import h5py\n",
    "from keras import callbacks\n",
    "from keras.callbacks import ModelCheckpoint, EarlyStopping, ReduceLROnPlateau, CSVLogger\n",
    "\n",
    "\n",
    "file=\"host\"\n",
    "traindir=\"datasets/multiclass_train\"\n",
    "testdir=\"datasets/multiclass_test\"\n",
    "\n",
    "traindata = pd.read_csv(f\"{traindir}/processed/{file}.csv\")\n",
    "testdata = pd.read_csv(f\"{testdir}/processed/{file}.csv\")\n",
    "testdata\n",
    "traindata\n",
    "n=len(traindata.count())\n",
    "print(f\"no of attributes are {n}\")"
   ]
  },
  {
   "cell_type": "code",
   "execution_count": 2,
   "metadata": {},
   "outputs": [
    {
     "data": {
      "text/plain": [
       "(125973, 5)"
      ]
     },
     "execution_count": 2,
     "metadata": {},
     "output_type": "execute_result"
    }
   ],
   "source": [
    "X = traindata.iloc[:,0:n-5]\n",
    "Y = traindata.iloc[:,n-5:n]\n",
    "C = testdata.iloc[:,0:n-5]\n",
    "T = testdata.iloc[:,n-5:n]\n",
    "Y.shape"
   ]
  },
  {
   "cell_type": "code",
   "execution_count": 3,
   "metadata": {},
   "outputs": [],
   "source": [
    "# 1. define the network\n",
    "model = Sequential()\n",
    "model.add(Dense(32,input_dim=n-5,activation='relu'))\n",
    "model.add(Dropout(0.01))\n",
    "model.add(Dense(24,activation='relu'))\n",
    "model.add(Dropout(0.01))\n",
    "model.add(Dense(5, activation='softmax'))"
   ]
  },
  {
   "cell_type": "code",
   "execution_count": 4,
   "metadata": {},
   "outputs": [
    {
     "name": "stdout",
     "output_type": "stream",
     "text": [
      "Train on 100778 samples, validate on 25195 samples\n",
      "Epoch 1/100\n",
      "100778/100778 [==============================] - 0s 4us/step - loss: 1.5412 - accuracy: 0.2405 - val_loss: 1.3399 - val_accuracy: 0.6044\n",
      "Epoch 2/100\n",
      "100778/100778 [==============================] - 0s 3us/step - loss: 1.1473 - accuracy: 0.7540 - val_loss: 0.9182 - val_accuracy: 0.8432\n",
      "Epoch 3/100\n",
      "100778/100778 [==============================] - 0s 3us/step - loss: 0.7500 - accuracy: 0.8511 - val_loss: 0.5717 - val_accuracy: 0.8634\n",
      "Epoch 4/100\n",
      "100778/100778 [==============================] - 0s 3us/step - loss: 0.4819 - accuracy: 0.8663 - val_loss: 0.3958 - val_accuracy: 0.8806\n",
      "Epoch 5/100\n",
      "100778/100778 [==============================] - 0s 2us/step - loss: 0.3648 - accuracy: 0.8903 - val_loss: 0.3271 - val_accuracy: 0.8993\n",
      "Epoch 6/100\n",
      "100778/100778 [==============================] - 0s 3us/step - loss: 0.3141 - accuracy: 0.8987 - val_loss: 0.2910 - val_accuracy: 0.9035\n",
      "Epoch 7/100\n",
      "100778/100778 [==============================] - 0s 3us/step - loss: 0.2838 - accuracy: 0.9021 - val_loss: 0.2657 - val_accuracy: 0.9064\n",
      "Epoch 8/100\n",
      "100778/100778 [==============================] - 0s 3us/step - loss: 0.2605 - accuracy: 0.9064 - val_loss: 0.2468 - val_accuracy: 0.9104\n",
      "Epoch 9/100\n",
      "100778/100778 [==============================] - 0s 3us/step - loss: 0.2443 - accuracy: 0.9105 - val_loss: 0.2334 - val_accuracy: 0.9146\n",
      "Epoch 10/100\n",
      "100778/100778 [==============================] - 0s 3us/step - loss: 0.2322 - accuracy: 0.9176 - val_loss: 0.2233 - val_accuracy: 0.9237\n",
      "Epoch 11/100\n",
      "100778/100778 [==============================] - 0s 2us/step - loss: 0.2225 - accuracy: 0.9289 - val_loss: 0.2153 - val_accuracy: 0.9332\n",
      "Epoch 12/100\n",
      "100778/100778 [==============================] - 0s 2us/step - loss: 0.2154 - accuracy: 0.9337 - val_loss: 0.2085 - val_accuracy: 0.9362\n",
      "Epoch 13/100\n",
      "100778/100778 [==============================] - 0s 3us/step - loss: 0.2086 - accuracy: 0.9369 - val_loss: 0.2022 - val_accuracy: 0.9400\n",
      "Epoch 14/100\n",
      "100778/100778 [==============================] - 0s 2us/step - loss: 0.2026 - accuracy: 0.9387 - val_loss: 0.1968 - val_accuracy: 0.9411\n",
      "Epoch 15/100\n",
      "100778/100778 [==============================] - 0s 3us/step - loss: 0.1978 - accuracy: 0.9397 - val_loss: 0.1922 - val_accuracy: 0.9420\n",
      "Epoch 16/100\n",
      "100778/100778 [==============================] - 0s 3us/step - loss: 0.1931 - accuracy: 0.9407 - val_loss: 0.1884 - val_accuracy: 0.9424\n",
      "Epoch 17/100\n",
      "100778/100778 [==============================] - 0s 3us/step - loss: 0.1896 - accuracy: 0.9419 - val_loss: 0.1849 - val_accuracy: 0.9424\n",
      "Epoch 18/100\n",
      "100778/100778 [==============================] - 0s 3us/step - loss: 0.1867 - accuracy: 0.9419 - val_loss: 0.1820 - val_accuracy: 0.9430\n",
      "Epoch 19/100\n",
      "100778/100778 [==============================] - 0s 3us/step - loss: 0.1838 - accuracy: 0.9425 - val_loss: 0.1792 - val_accuracy: 0.9437\n",
      "Epoch 20/100\n",
      "100778/100778 [==============================] - 0s 3us/step - loss: 0.1813 - accuracy: 0.9434 - val_loss: 0.1766 - val_accuracy: 0.9442\n",
      "Epoch 21/100\n",
      "100778/100778 [==============================] - 0s 3us/step - loss: 0.1784 - accuracy: 0.9438 - val_loss: 0.1737 - val_accuracy: 0.9448\n",
      "Epoch 22/100\n",
      "100778/100778 [==============================] - 0s 3us/step - loss: 0.1756 - accuracy: 0.9445 - val_loss: 0.1709 - val_accuracy: 0.9459\n",
      "Epoch 23/100\n",
      "100778/100778 [==============================] - 0s 3us/step - loss: 0.1731 - accuracy: 0.9450 - val_loss: 0.1682 - val_accuracy: 0.9467\n",
      "Epoch 24/100\n",
      "100778/100778 [==============================] - 0s 3us/step - loss: 0.1705 - accuracy: 0.9454 - val_loss: 0.1657 - val_accuracy: 0.9473\n",
      "Epoch 25/100\n",
      "100778/100778 [==============================] - 0s 3us/step - loss: 0.1685 - accuracy: 0.9457 - val_loss: 0.1634 - val_accuracy: 0.9478\n",
      "Epoch 26/100\n",
      "100778/100778 [==============================] - 0s 3us/step - loss: 0.1660 - accuracy: 0.9468 - val_loss: 0.1615 - val_accuracy: 0.9479\n",
      "Epoch 27/100\n",
      "100778/100778 [==============================] - 0s 3us/step - loss: 0.1641 - accuracy: 0.9471 - val_loss: 0.1597 - val_accuracy: 0.9488\n",
      "Epoch 28/100\n",
      "100778/100778 [==============================] - 0s 3us/step - loss: 0.1628 - accuracy: 0.9477 - val_loss: 0.1578 - val_accuracy: 0.9492\n",
      "Epoch 29/100\n",
      "100778/100778 [==============================] - 0s 3us/step - loss: 0.1607 - accuracy: 0.9482 - val_loss: 0.1562 - val_accuracy: 0.9500\n",
      "Epoch 30/100\n",
      "100778/100778 [==============================] - 0s 3us/step - loss: 0.1589 - accuracy: 0.9493 - val_loss: 0.1547 - val_accuracy: 0.9501\n",
      "Epoch 31/100\n",
      "100778/100778 [==============================] - 0s 3us/step - loss: 0.1583 - accuracy: 0.9494 - val_loss: 0.1533 - val_accuracy: 0.9507\n",
      "Epoch 32/100\n",
      "100778/100778 [==============================] - 0s 3us/step - loss: 0.1566 - accuracy: 0.9499 - val_loss: 0.1521 - val_accuracy: 0.9506\n",
      "Epoch 33/100\n",
      "100778/100778 [==============================] - 0s 3us/step - loss: 0.1555 - accuracy: 0.9501 - val_loss: 0.1509 - val_accuracy: 0.9512\n",
      "Epoch 34/100\n",
      "100778/100778 [==============================] - 0s 3us/step - loss: 0.1542 - accuracy: 0.9507 - val_loss: 0.1497 - val_accuracy: 0.9516\n",
      "Epoch 35/100\n",
      "100778/100778 [==============================] - 0s 3us/step - loss: 0.1533 - accuracy: 0.9511 - val_loss: 0.1487 - val_accuracy: 0.9518\n",
      "Epoch 36/100\n",
      "100778/100778 [==============================] - 0s 2us/step - loss: 0.1519 - accuracy: 0.9512 - val_loss: 0.1477 - val_accuracy: 0.9527\n",
      "Epoch 37/100\n",
      "100778/100778 [==============================] - 0s 3us/step - loss: 0.1511 - accuracy: 0.9517 - val_loss: 0.1465 - val_accuracy: 0.9521\n",
      "Epoch 38/100\n",
      "100778/100778 [==============================] - 0s 3us/step - loss: 0.1498 - accuracy: 0.9520 - val_loss: 0.1455 - val_accuracy: 0.9526\n",
      "Epoch 39/100\n",
      "100778/100778 [==============================] - 0s 2us/step - loss: 0.1493 - accuracy: 0.9519 - val_loss: 0.1449 - val_accuracy: 0.9531\n",
      "Epoch 40/100\n",
      "100778/100778 [==============================] - 0s 3us/step - loss: 0.1483 - accuracy: 0.9523 - val_loss: 0.1438 - val_accuracy: 0.9529\n",
      "Epoch 41/100\n",
      "100778/100778 [==============================] - 0s 3us/step - loss: 0.1475 - accuracy: 0.9525 - val_loss: 0.1431 - val_accuracy: 0.9534\n",
      "Epoch 42/100\n",
      "100778/100778 [==============================] - 0s 3us/step - loss: 0.1464 - accuracy: 0.9524 - val_loss: 0.1425 - val_accuracy: 0.9537\n",
      "Epoch 43/100\n",
      "100778/100778 [==============================] - 0s 3us/step - loss: 0.1460 - accuracy: 0.9530 - val_loss: 0.1414 - val_accuracy: 0.9538\n",
      "Epoch 44/100\n",
      "100778/100778 [==============================] - 0s 3us/step - loss: 0.1451 - accuracy: 0.9529 - val_loss: 0.1406 - val_accuracy: 0.9534\n",
      "Epoch 45/100\n",
      "100778/100778 [==============================] - 0s 3us/step - loss: 0.1447 - accuracy: 0.9530 - val_loss: 0.1399 - val_accuracy: 0.9537\n",
      "Epoch 46/100\n",
      "100778/100778 [==============================] - 0s 3us/step - loss: 0.1441 - accuracy: 0.9533 - val_loss: 0.1391 - val_accuracy: 0.9539\n",
      "Epoch 47/100\n",
      "100778/100778 [==============================] - 0s 3us/step - loss: 0.1435 - accuracy: 0.9535 - val_loss: 0.1387 - val_accuracy: 0.9541\n",
      "Epoch 48/100\n",
      "100778/100778 [==============================] - 0s 3us/step - loss: 0.1426 - accuracy: 0.9534 - val_loss: 0.1379 - val_accuracy: 0.9539\n",
      "Epoch 49/100\n",
      "100778/100778 [==============================] - 0s 3us/step - loss: 0.1412 - accuracy: 0.9537 - val_loss: 0.1371 - val_accuracy: 0.9543\n",
      "Epoch 50/100\n",
      "100778/100778 [==============================] - 0s 3us/step - loss: 0.1410 - accuracy: 0.9541 - val_loss: 0.1365 - val_accuracy: 0.9542\n",
      "Epoch 51/100\n",
      "100778/100778 [==============================] - 0s 2us/step - loss: 0.1406 - accuracy: 0.9542 - val_loss: 0.1359 - val_accuracy: 0.9546\n",
      "Epoch 52/100\n",
      "100778/100778 [==============================] - 0s 3us/step - loss: 0.1397 - accuracy: 0.9544 - val_loss: 0.1352 - val_accuracy: 0.9548\n",
      "Epoch 53/100\n",
      "100778/100778 [==============================] - 0s 3us/step - loss: 0.1396 - accuracy: 0.9544 - val_loss: 0.1345 - val_accuracy: 0.9550\n",
      "Epoch 54/100\n",
      "100778/100778 [==============================] - 0s 3us/step - loss: 0.1390 - accuracy: 0.9546 - val_loss: 0.1339 - val_accuracy: 0.9553\n",
      "Epoch 55/100\n"
     ]
    },
    {
     "name": "stdout",
     "output_type": "stream",
     "text": [
      "100778/100778 [==============================] - 0s 2us/step - loss: 0.1384 - accuracy: 0.9545 - val_loss: 0.1332 - val_accuracy: 0.9550\n",
      "Epoch 56/100\n",
      "100778/100778 [==============================] - 0s 2us/step - loss: 0.1373 - accuracy: 0.9549 - val_loss: 0.1327 - val_accuracy: 0.9557\n",
      "Epoch 57/100\n",
      "100778/100778 [==============================] - 0s 3us/step - loss: 0.1365 - accuracy: 0.9551 - val_loss: 0.1324 - val_accuracy: 0.9558\n",
      "Epoch 58/100\n",
      "100778/100778 [==============================] - 0s 3us/step - loss: 0.1367 - accuracy: 0.9556 - val_loss: 0.1315 - val_accuracy: 0.9553\n",
      "Epoch 59/100\n",
      "100778/100778 [==============================] - 0s 3us/step - loss: 0.1357 - accuracy: 0.9554 - val_loss: 0.1307 - val_accuracy: 0.9570\n",
      "Epoch 60/100\n",
      "100778/100778 [==============================] - 0s 3us/step - loss: 0.1349 - accuracy: 0.9561 - val_loss: 0.1303 - val_accuracy: 0.9555\n",
      "Epoch 61/100\n",
      "100778/100778 [==============================] - 0s 3us/step - loss: 0.1345 - accuracy: 0.9562 - val_loss: 0.1294 - val_accuracy: 0.9563\n",
      "Epoch 62/100\n",
      "100778/100778 [==============================] - 0s 2us/step - loss: 0.1335 - accuracy: 0.9561 - val_loss: 0.1289 - val_accuracy: 0.9563\n",
      "Epoch 63/100\n",
      "100778/100778 [==============================] - 0s 2us/step - loss: 0.1332 - accuracy: 0.9567 - val_loss: 0.1282 - val_accuracy: 0.9566\n",
      "Epoch 64/100\n",
      "100778/100778 [==============================] - 0s 3us/step - loss: 0.1328 - accuracy: 0.9562 - val_loss: 0.1273 - val_accuracy: 0.9566\n",
      "Epoch 65/100\n",
      "100778/100778 [==============================] - 0s 2us/step - loss: 0.1309 - accuracy: 0.9568 - val_loss: 0.1265 - val_accuracy: 0.9570\n",
      "Epoch 66/100\n",
      "100778/100778 [==============================] - 0s 3us/step - loss: 0.1312 - accuracy: 0.9567 - val_loss: 0.1262 - val_accuracy: 0.9574\n",
      "Epoch 67/100\n",
      "100778/100778 [==============================] - 0s 2us/step - loss: 0.1305 - accuracy: 0.9567 - val_loss: 0.1252 - val_accuracy: 0.9567\n",
      "Epoch 68/100\n",
      "100778/100778 [==============================] - 0s 2us/step - loss: 0.1302 - accuracy: 0.9571 - val_loss: 0.1248 - val_accuracy: 0.9577\n",
      "Epoch 69/100\n",
      "100778/100778 [==============================] - 0s 3us/step - loss: 0.1299 - accuracy: 0.9575 - val_loss: 0.1244 - val_accuracy: 0.9565\n",
      "Epoch 70/100\n",
      "100778/100778 [==============================] - 0s 2us/step - loss: 0.1286 - accuracy: 0.9571 - val_loss: 0.1236 - val_accuracy: 0.9575\n",
      "Epoch 71/100\n",
      "100778/100778 [==============================] - 0s 2us/step - loss: 0.1283 - accuracy: 0.9572 - val_loss: 0.1230 - val_accuracy: 0.9575\n",
      "Epoch 72/100\n",
      "100778/100778 [==============================] - 0s 3us/step - loss: 0.1274 - accuracy: 0.9576 - val_loss: 0.1221 - val_accuracy: 0.9582\n",
      "Epoch 73/100\n",
      "100778/100778 [==============================] - 0s 3us/step - loss: 0.1266 - accuracy: 0.9575 - val_loss: 0.1216 - val_accuracy: 0.9585\n",
      "Epoch 74/100\n",
      "100778/100778 [==============================] - 0s 3us/step - loss: 0.1266 - accuracy: 0.9577 - val_loss: 0.1210 - val_accuracy: 0.9578\n",
      "Epoch 75/100\n",
      "100778/100778 [==============================] - 0s 3us/step - loss: 0.1255 - accuracy: 0.9581 - val_loss: 0.1202 - val_accuracy: 0.9584\n",
      "Epoch 76/100\n",
      "100778/100778 [==============================] - 0s 3us/step - loss: 0.1249 - accuracy: 0.9581 - val_loss: 0.1198 - val_accuracy: 0.9577\n",
      "Epoch 77/100\n",
      "100778/100778 [==============================] - 0s 3us/step - loss: 0.1249 - accuracy: 0.9582 - val_loss: 0.1190 - val_accuracy: 0.9589\n",
      "Epoch 78/100\n",
      "100778/100778 [==============================] - 0s 2us/step - loss: 0.1248 - accuracy: 0.9586 - val_loss: 0.1185 - val_accuracy: 0.9590\n",
      "Epoch 79/100\n",
      "100778/100778 [==============================] - 0s 3us/step - loss: 0.1231 - accuracy: 0.9590 - val_loss: 0.1181 - val_accuracy: 0.9582\n",
      "Epoch 80/100\n",
      "100778/100778 [==============================] - 0s 3us/step - loss: 0.1232 - accuracy: 0.9592 - val_loss: 0.1176 - val_accuracy: 0.9602\n",
      "Epoch 81/100\n",
      "100778/100778 [==============================] - 0s 3us/step - loss: 0.1226 - accuracy: 0.9595 - val_loss: 0.1170 - val_accuracy: 0.9600\n",
      "Epoch 82/100\n",
      "100778/100778 [==============================] - 0s 3us/step - loss: 0.1219 - accuracy: 0.9594 - val_loss: 0.1166 - val_accuracy: 0.9606\n",
      "Epoch 83/100\n",
      "100778/100778 [==============================] - 0s 3us/step - loss: 0.1217 - accuracy: 0.9599 - val_loss: 0.1160 - val_accuracy: 0.9598\n",
      "Epoch 84/100\n",
      "100778/100778 [==============================] - 0s 3us/step - loss: 0.1215 - accuracy: 0.9598 - val_loss: 0.1156 - val_accuracy: 0.9607\n",
      "Epoch 85/100\n",
      "100778/100778 [==============================] - 0s 3us/step - loss: 0.1192 - accuracy: 0.9603 - val_loss: 0.1152 - val_accuracy: 0.9603\n",
      "Epoch 86/100\n",
      "100778/100778 [==============================] - 0s 3us/step - loss: 0.1199 - accuracy: 0.9605 - val_loss: 0.1145 - val_accuracy: 0.9611\n",
      "Epoch 87/100\n",
      "100778/100778 [==============================] - 0s 3us/step - loss: 0.1196 - accuracy: 0.9598 - val_loss: 0.1143 - val_accuracy: 0.9607\n",
      "Epoch 88/100\n",
      "100778/100778 [==============================] - 0s 3us/step - loss: 0.1190 - accuracy: 0.9602 - val_loss: 0.1135 - val_accuracy: 0.9611\n",
      "Epoch 89/100\n",
      "100778/100778 [==============================] - 0s 3us/step - loss: 0.1185 - accuracy: 0.9605 - val_loss: 0.1132 - val_accuracy: 0.9612\n",
      "Epoch 90/100\n",
      "100778/100778 [==============================] - 0s 2us/step - loss: 0.1191 - accuracy: 0.9605 - val_loss: 0.1129 - val_accuracy: 0.9615\n",
      "Epoch 91/100\n",
      "100778/100778 [==============================] - 0s 2us/step - loss: 0.1183 - accuracy: 0.9605 - val_loss: 0.1123 - val_accuracy: 0.9613\n",
      "Epoch 92/100\n",
      "100778/100778 [==============================] - 0s 3us/step - loss: 0.1179 - accuracy: 0.9606 - val_loss: 0.1120 - val_accuracy: 0.9616\n",
      "Epoch 93/100\n",
      "100778/100778 [==============================] - 0s 3us/step - loss: 0.1173 - accuracy: 0.9609 - val_loss: 0.1116 - val_accuracy: 0.9619\n",
      "Epoch 94/100\n",
      "100778/100778 [==============================] - 0s 3us/step - loss: 0.1168 - accuracy: 0.9610 - val_loss: 0.1112 - val_accuracy: 0.9617\n",
      "Epoch 95/100\n",
      "100778/100778 [==============================] - 0s 2us/step - loss: 0.1157 - accuracy: 0.9611 - val_loss: 0.1110 - val_accuracy: 0.9619\n",
      "Epoch 96/100\n",
      "100778/100778 [==============================] - 0s 3us/step - loss: 0.1157 - accuracy: 0.9610 - val_loss: 0.1103 - val_accuracy: 0.9624\n",
      "Epoch 97/100\n",
      "100778/100778 [==============================] - 0s 3us/step - loss: 0.1150 - accuracy: 0.9612 - val_loss: 0.1101 - val_accuracy: 0.9621\n",
      "Epoch 98/100\n",
      "100778/100778 [==============================] - 0s 3us/step - loss: 0.1152 - accuracy: 0.9613 - val_loss: 0.1098 - val_accuracy: 0.9625\n",
      "Epoch 99/100\n",
      "100778/100778 [==============================] - 0s 2us/step - loss: 0.1145 - accuracy: 0.9617 - val_loss: 0.1095 - val_accuracy: 0.9623\n",
      "Epoch 100/100\n",
      "100778/100778 [==============================] - 0s 3us/step - loss: 0.1141 - accuracy: 0.9616 - val_loss: 0.1089 - val_accuracy: 0.9627\n"
     ]
    }
   ],
   "source": [
    "# try using different optimizers and different optimizer configs\n",
    "model.compile(loss='categorical_crossentropy',optimizer='adam',metrics=['accuracy'])\n",
    "\n",
    "history = model.fit(X, Y,batch_size=4000,epochs=100,validation_split=0.2)\n",
    "\n",
    "model.save(f\"{testdir}/processed/{file}.hdf5\")\n",
    "\n",
    "import dill as pickle\n",
    "with open('history', 'wb') as file_pi:\n",
    "    pickle.dump(f\"{testdir}/processed/{file}.history\", file_pi)"
   ]
  },
  {
   "cell_type": "code",
   "execution_count": 5,
   "metadata": {},
   "outputs": [
    {
     "name": "stdout",
     "output_type": "stream",
     "text": [
      "22542/22542 [==============================] - 0s 14us/step\n",
      "Accuracy: 69.12\n"
     ]
    }
   ],
   "source": [
    "\n",
    "import tensorflow as tf\n",
    "C = testdata.iloc[:,0:n-5]\n",
    "T = testdata.iloc[:,n-5:n]\n",
    "_, accuracy = model.evaluate(C,T)\n",
    "print('Accuracy: %.2f' % (accuracy*100))\n",
    "prediction=model.predict_classes(C)\n"
   ]
  },
  {
   "cell_type": "code",
   "execution_count": 6,
   "metadata": {},
   "outputs": [
    {
     "data": {
      "image/png": "[encoded data removed]",
      "text/plain": [
       "<Figure size 432x288 with 1 Axes>"
      ]
     },
     "metadata": {
      "needs_background": "light"
     },
     "output_type": "display_data"
    }
   ],
   "source": [
    "import matplotlib.pyplot as plt\n",
    "plt.plot(history.history['accuracy'])\n",
    "plt.plot(history.history['val_accuracy'])\n",
    "plt.title('model accuracy')\n",
    "plt.ylabel('accuracy')\n",
    "plt.xlabel('epoch')\n",
    "plt.legend(['train', 'test'], loc='upper left')\n",
    "plt.show()"
   ]
  },
  {
   "cell_type": "code",
   "execution_count": 7,
   "metadata": {
    "scrolled": true
   },
   "outputs": [
    {
     "data": {
      "image/png": "[encoded data removed]",
      "text/plain": [
       "<Figure size 432x288 with 1 Axes>"
      ]
     },
     "metadata": {
      "needs_background": "light"
     },
     "output_type": "display_data"
    }
   ],
   "source": [
    "# summarize history for loss\n",
    "plt.plot(history.history['loss'])\n",
    "plt.plot(history.history['val_loss'])\n",
    "plt.title('model loss')\n",
    "plt.ylabel('loss')\n",
    "plt.xlabel('epoch')\n",
    "plt.legend(['train', 'test'], loc='upper left')\n",
    "plt.show()"
   ]
  },
  {
   "cell_type": "code",
   "execution_count": 8,
   "metadata": {},
   "outputs": [
    {
     "name": "stdout",
     "output_type": "stream",
     "text": [
      "[[1. 0. 0. 0. 0.]]\n",
      "(22542, 5)\n"
     ]
    },
    {
     "data": {
      "text/plain": [
       "array([[1., 0., 0., 0., 0.],\n",
       "       [0., 1., 0., 0., 0.],\n",
       "       [0., 0., 1., 0., 0.],\n",
       "       ...,\n",
       "       [0., 1., 0., 0., 0.],\n",
       "       [0., 1., 0., 0., 0.],\n",
       "       [0., 0., 1., 0., 0.]], dtype=float32)"
      ]
     },
     "execution_count": 8,
     "metadata": {},
     "output_type": "execute_result"
    }
   ],
   "source": [
    "p=model.predict(C[0:1])\n",
    "p=np.rint(p)\n",
    "\n",
    "print(p)\n",
    "print(T.shape)\n",
    "rounded_labels=np.argmax(T.to_numpy(),axis=1)\n",
    "prediction=model.predict(C)\n",
    "prediction=np.rint(prediction)\n",
    "prediction"
   ]
  },
  {
   "cell_type": "code",
   "execution_count": 10,
   "metadata": {},
   "outputs": [
    {
     "data": {
      "text/plain": [
       "array([[[14098,   985],\n",
       "        [ 2338,  5121]],\n",
       "\n",
       "       [[ 7481,  5351],\n",
       "        [  682,  9028]],\n",
       "\n",
       "       [[19699,   422],\n",
       "        [ 1238,  1183]],\n",
       "\n",
       "       [[19657,     0],\n",
       "        [ 2874,    11]],\n",
       "\n",
       "       [[22475,     0],\n",
       "        [   67,     0]]], dtype=int64)"
      ]
     },
     "execution_count": 10,
     "metadata": {},
     "output_type": "execute_result"
    }
   ],
   "source": [
    "from sklearn.metrics import multilabel_confusion_matrix\n",
    "prediction=np.rint(prediction)\n",
    "original_value=np.rint(T)\n",
    "cm=multilabel_confusion_matrix(original_value, prediction)\n",
    "cm"
   ]
  }
 ],
 "metadata": {
  "kernelspec": {
   "display_name": "Python 3",
   "language": "python",
   "name": "python3"
  },
  "language_info": {
   "codemirror_mode": {
    "name": "ipython",
    "version": 3
   },
   "file_extension": ".py",
   "mimetype": "text/x-python",
   "name": "python",
   "nbconvert_exporter": "python",
   "pygments_lexer": "ipython3",
   "version": "3.8.2"
  }
 },
 "nbformat": 4,
 "nbformat_minor": 2
}
